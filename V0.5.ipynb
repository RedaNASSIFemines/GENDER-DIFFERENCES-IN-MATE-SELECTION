{
 "cells": [
  {
   "cell_type": "code",
   "execution_count": 1,
   "id": "9e4624d6",
   "metadata": {},
   "outputs": [
    {
     "name": "stderr",
     "output_type": "stream",
     "text": [
      "<frozen importlib._bootstrap>:228: RuntimeWarning: scipy._lib.messagestream.MessageStream size changed, may indicate binary incompatibility. Expected 56 from C header, got 64 from PyObject\n"
     ]
    }
   ],
   "source": [
    "from sklearn import preprocessing\n",
    "from sklearn.model_selection import train_test_split\n",
    "from sklearn.impute import SimpleImputer\n",
    "from sklearn.linear_model import LogisticRegression\n",
    "from sklearn.ensemble import RandomForestClassifier\n",
    "from sklearn.metrics import confusion_matrix,ConfusionMatrixDisplay, accuracy_score\n",
    "import pandas as pd\n",
    "import numpy as np\n",
    "import matplotlib.pyplot as plt\n",
    "import seaborn as sns\n",
    "sns.set_style(\"whitegrid\")\n",
    "import scipy.stats as stats\n",
    "import statsmodels.api as sm"
   ]
  },
  {
   "cell_type": "code",
   "execution_count": 2,
   "id": "bc12fc40",
   "metadata": {},
   "outputs": [],
   "source": [
    "pd.set_option('display.max_rows', None)"
   ]
  },
  {
   "cell_type": "markdown",
   "id": "9168f3cf",
   "metadata": {},
   "source": [
    "# Datasets"
   ]
  },
  {
   "cell_type": "code",
   "execution_count": 3,
   "id": "13aac3ac",
   "metadata": {},
   "outputs": [],
   "source": [
    "data = pd.read_csv(\"data_clean.csv\")\n",
    "data_sign_up = pd.read_csv(\"data_sign_up.csv\")\n",
    "data_small = pd.read_csv(\"data_small.csv\")\n",
    "\n",
    "data_to_model = pd.read_csv(\"data_to_model.csv\")"
   ]
  },
  {
   "cell_type": "markdown",
   "id": "f48af1a2",
   "metadata": {},
   "source": [
    "This the plan of the notebook :"
   ]
  },
  {
   "cell_type": "code",
   "execution_count": null,
   "id": "6cb1725c",
   "metadata": {},
   "outputs": [],
   "source": []
  },
  {
   "cell_type": "markdown",
   "id": "c42c29aa",
   "metadata": {},
   "source": [
    "# Data descreption"
   ]
  },
  {
   "cell_type": "code",
   "execution_count": 14,
   "id": "3d203cb8",
   "metadata": {},
   "outputs": [
    {
     "data": {
      "text/html": [
       "<div>\n",
       "<style scoped>\n",
       "    .dataframe tbody tr th:only-of-type {\n",
       "        vertical-align: middle;\n",
       "    }\n",
       "\n",
       "    .dataframe tbody tr th {\n",
       "        vertical-align: top;\n",
       "    }\n",
       "\n",
       "    .dataframe thead th {\n",
       "        text-align: right;\n",
       "    }\n",
       "</style>\n",
       "<table border=\"1\" class=\"dataframe\">\n",
       "  <thead>\n",
       "    <tr style=\"text-align: right;\">\n",
       "      <th></th>\n",
       "      <th>iid</th>\n",
       "      <th>gender</th>\n",
       "      <th>condtn</th>\n",
       "      <th>wave</th>\n",
       "      <th>round</th>\n",
       "      <th>order</th>\n",
       "      <th>pid</th>\n",
       "      <th>match</th>\n",
       "      <th>int_corr</th>\n",
       "      <th>samerace</th>\n",
       "      <th>...</th>\n",
       "      <th>sinc3_3</th>\n",
       "      <th>intel3_3</th>\n",
       "      <th>fun3_3</th>\n",
       "      <th>amb3_3</th>\n",
       "      <th>attr5_3</th>\n",
       "      <th>sinc5_3</th>\n",
       "      <th>intel5_3</th>\n",
       "      <th>fun5_3</th>\n",
       "      <th>amb5_3</th>\n",
       "      <th>from_c</th>\n",
       "    </tr>\n",
       "  </thead>\n",
       "  <tbody>\n",
       "    <tr>\n",
       "      <th>0</th>\n",
       "      <td>1</td>\n",
       "      <td>0</td>\n",
       "      <td>1</td>\n",
       "      <td>1</td>\n",
       "      <td>10</td>\n",
       "      <td>4</td>\n",
       "      <td>11</td>\n",
       "      <td>0</td>\n",
       "      <td>0.14</td>\n",
       "      <td>0</td>\n",
       "      <td>...</td>\n",
       "      <td>7.0</td>\n",
       "      <td>7.0</td>\n",
       "      <td>7.0</td>\n",
       "      <td>7.0</td>\n",
       "      <td>NaN</td>\n",
       "      <td>NaN</td>\n",
       "      <td>NaN</td>\n",
       "      <td>NaN</td>\n",
       "      <td>NaN</td>\n",
       "      <td>49.0</td>\n",
       "    </tr>\n",
       "    <tr>\n",
       "      <th>1</th>\n",
       "      <td>1</td>\n",
       "      <td>0</td>\n",
       "      <td>1</td>\n",
       "      <td>1</td>\n",
       "      <td>10</td>\n",
       "      <td>3</td>\n",
       "      <td>12</td>\n",
       "      <td>0</td>\n",
       "      <td>0.54</td>\n",
       "      <td>0</td>\n",
       "      <td>...</td>\n",
       "      <td>7.0</td>\n",
       "      <td>7.0</td>\n",
       "      <td>7.0</td>\n",
       "      <td>7.0</td>\n",
       "      <td>NaN</td>\n",
       "      <td>NaN</td>\n",
       "      <td>NaN</td>\n",
       "      <td>NaN</td>\n",
       "      <td>NaN</td>\n",
       "      <td>49.0</td>\n",
       "    </tr>\n",
       "    <tr>\n",
       "      <th>2</th>\n",
       "      <td>1</td>\n",
       "      <td>0</td>\n",
       "      <td>1</td>\n",
       "      <td>1</td>\n",
       "      <td>10</td>\n",
       "      <td>10</td>\n",
       "      <td>13</td>\n",
       "      <td>1</td>\n",
       "      <td>0.16</td>\n",
       "      <td>1</td>\n",
       "      <td>...</td>\n",
       "      <td>7.0</td>\n",
       "      <td>7.0</td>\n",
       "      <td>7.0</td>\n",
       "      <td>7.0</td>\n",
       "      <td>NaN</td>\n",
       "      <td>NaN</td>\n",
       "      <td>NaN</td>\n",
       "      <td>NaN</td>\n",
       "      <td>NaN</td>\n",
       "      <td>49.0</td>\n",
       "    </tr>\n",
       "    <tr>\n",
       "      <th>3</th>\n",
       "      <td>1</td>\n",
       "      <td>0</td>\n",
       "      <td>1</td>\n",
       "      <td>1</td>\n",
       "      <td>10</td>\n",
       "      <td>5</td>\n",
       "      <td>14</td>\n",
       "      <td>1</td>\n",
       "      <td>0.61</td>\n",
       "      <td>0</td>\n",
       "      <td>...</td>\n",
       "      <td>7.0</td>\n",
       "      <td>7.0</td>\n",
       "      <td>7.0</td>\n",
       "      <td>7.0</td>\n",
       "      <td>NaN</td>\n",
       "      <td>NaN</td>\n",
       "      <td>NaN</td>\n",
       "      <td>NaN</td>\n",
       "      <td>NaN</td>\n",
       "      <td>49.0</td>\n",
       "    </tr>\n",
       "    <tr>\n",
       "      <th>4</th>\n",
       "      <td>1</td>\n",
       "      <td>0</td>\n",
       "      <td>1</td>\n",
       "      <td>1</td>\n",
       "      <td>10</td>\n",
       "      <td>7</td>\n",
       "      <td>15</td>\n",
       "      <td>1</td>\n",
       "      <td>0.21</td>\n",
       "      <td>0</td>\n",
       "      <td>...</td>\n",
       "      <td>7.0</td>\n",
       "      <td>7.0</td>\n",
       "      <td>7.0</td>\n",
       "      <td>7.0</td>\n",
       "      <td>NaN</td>\n",
       "      <td>NaN</td>\n",
       "      <td>NaN</td>\n",
       "      <td>NaN</td>\n",
       "      <td>NaN</td>\n",
       "      <td>49.0</td>\n",
       "    </tr>\n",
       "  </tbody>\n",
       "</table>\n",
       "<p>5 rows × 191 columns</p>\n",
       "</div>"
      ],
      "text/plain": [
       "   iid  gender  condtn  wave  round  order  pid  match  int_corr  samerace  \\\n",
       "0    1       0       1     1     10      4   11      0      0.14         0   \n",
       "1    1       0       1     1     10      3   12      0      0.54         0   \n",
       "2    1       0       1     1     10     10   13      1      0.16         1   \n",
       "3    1       0       1     1     10      5   14      1      0.61         0   \n",
       "4    1       0       1     1     10      7   15      1      0.21         0   \n",
       "\n",
       "   ...  sinc3_3  intel3_3  fun3_3  amb3_3  attr5_3  sinc5_3  intel5_3  fun5_3  \\\n",
       "0  ...      7.0       7.0     7.0     7.0      NaN      NaN       NaN     NaN   \n",
       "1  ...      7.0       7.0     7.0     7.0      NaN      NaN       NaN     NaN   \n",
       "2  ...      7.0       7.0     7.0     7.0      NaN      NaN       NaN     NaN   \n",
       "3  ...      7.0       7.0     7.0     7.0      NaN      NaN       NaN     NaN   \n",
       "4  ...      7.0       7.0     7.0     7.0      NaN      NaN       NaN     NaN   \n",
       "\n",
       "   amb5_3  from_c  \n",
       "0     NaN    49.0  \n",
       "1     NaN    49.0  \n",
       "2     NaN    49.0  \n",
       "3     NaN    49.0  \n",
       "4     NaN    49.0  \n",
       "\n",
       "[5 rows x 191 columns]"
      ]
     },
     "execution_count": 14,
     "metadata": {},
     "output_type": "execute_result"
    }
   ],
   "source": [
    "data.head()"
   ]
  },
  {
   "cell_type": "code",
   "execution_count": 15,
   "id": "dae369a9",
   "metadata": {},
   "outputs": [
    {
     "name": "stdout",
     "output_type": "stream",
     "text": [
      "(8378, 191)\n"
     ]
    }
   ],
   "source": [
    "print(data.shape)"
   ]
  },
  {
   "cell_type": "markdown",
   "id": "aafe8ddf",
   "metadata": {},
   "source": [
    "It appears that our dataset contains a total of 191 columns. This is a substantial number of variables, and it highlights the complexity and richness of the data that we are working with. We may need to perform data preprocessing and feature selection to find the most relevant variables."
   ]
  },
  {
   "cell_type": "markdown",
   "id": "dde0734d",
   "metadata": {},
   "source": [
    "### Null values"
   ]
  },
  {
   "cell_type": "code",
   "execution_count": 16,
   "id": "e00ffc26",
   "metadata": {},
   "outputs": [
    {
     "data": {
      "text/plain": [
       "<AxesSubplot: >"
      ]
     },
     "execution_count": 16,
     "metadata": {},
     "output_type": "execute_result"
    },
    {
     "data": {
      "image/png": "[encoded data removed]",
      "text/plain": [
       "<Figure size 2000x1000 with 1 Axes>"
      ]
     },
     "metadata": {},
     "output_type": "display_data"
    }
   ],
   "source": [
    "plt.subplots(figsize=(20, 10))\n",
    "sns.heatmap(data.isnull(),yticklabels=False, cbar = False)"
   ]
  },
  {
   "cell_type": "markdown",
   "id": "835e4310",
   "metadata": {},
   "source": [
    "The above graph shows the proportion of null values in each columns in the dataset. The more white the more null values.\n",
    "\n",
    "Upon inspection of the graph, we can observe a notable presence of null values, particularly in variables collected during the two follow-up surveys conducted after the dating events. It appears that a considerable proportion of participants did not complete these surveys, resulting in missing data in those variables.\n",
    "\n",
    "To address this issue, we have opted to employ a data preprocessing strategy that involves removing columns with a null value percentage exceeding 20%. This approach allows us to mitigate the impact of missing data on our subsequent analyses while retaining a sufficient number of variables for meaningful insights.\n",
    "\n",
    "As a result of this process, we have generated a new dataset, which we have named **\"data_small.csv\"**. By leveraging this refined dataset, we can potentially obtain more accurate and reliable results in our future analyses.\n",
    "\n",
    "**Note** : You can find the code used to create **\"data_small.csv\"** and all other cutom datasets that we created in **\"Data preprocessing.ipynb\"**."
   ]
  },
  {
   "cell_type": "markdown",
   "id": "54726f0f",
   "metadata": {},
   "source": [
    "### Categorical VS numerical variables"
   ]
  },
  {
   "cell_type": "code",
   "execution_count": 17,
   "id": "addfb03c",
   "metadata": {},
   "outputs": [],
   "source": [
    "id_variables = [\"iid\", \"pid\"]"
   ]
  },
  {
   "cell_type": "code",
   "execution_count": 18,
   "id": "b05b0d12",
   "metadata": {},
   "outputs": [],
   "source": [
    "categorical_variables = ['gender', 'condtn', 'wave','match', 'samerace', 'dec_o', 'field', 'undergra', 'from','from_c',\n",
    "                         'career', 'dec', 'race_o','met_o','field_cd', 'race', 'imprace', 'imprelig', 'zipcode', 'goal', 'date',\n",
    "                         'go_out', 'career_c','met',\"numdat_2\"]"
   ]
  },
  {
   "cell_type": "raw",
   "id": "bec3e18a",
   "metadata": {},
   "source": [
    "ordinal : 'date', 'go_out', \"numdat_2\""
   ]
  },
  {
   "cell_type": "code",
   "execution_count": 19,
   "id": "2d895307",
   "metadata": {},
   "outputs": [],
   "source": [
    "numerical_variables = ['round','order','int_corr', 'age_o','pf_o_att', 'pf_o_sin', 'pf_o_int',\n",
    "       'pf_o_fun', 'pf_o_amb', 'pf_o_sha', 'attr_o', 'sinc_o', 'intel_o',\n",
    "       'fun_o', 'amb_o', 'shar_o', 'like_o', 'prob_o',\"age\",'sports', 'tvsports', 'exercise', 'dining',\n",
    "       'museums', 'art', 'hiking', 'gaming', 'clubbing', 'reading', 'tv',\n",
    "       'theater', 'movies', 'concerts', 'music', 'shopping', 'yoga',\n",
    "       'exphappy', 'attr1_1', 'sinc1_1', 'intel1_1', 'fun1_1', 'amb1_1',\n",
    "       'shar1_1', 'attr2_1', 'sinc2_1', 'intel2_1', 'fun2_1', 'amb2_1',\n",
    "       'shar2_1', 'attr3_1', 'sinc3_1', 'fun3_1', 'intel3_1', 'amb3_1', 'attr',\n",
    "       'sinc', 'intel', 'fun', 'amb', 'shar', 'like', 'prob','match_es','length','satis_2','attr1_2', 'sinc1_2',\n",
    "       'intel1_2', 'fun1_2', 'amb1_2', 'shar1_2', 'attr3_2', 'sinc3_2',\n",
    "       'intel3_2', 'fun3_2', 'amb3_2']"
   ]
  },
  {
   "cell_type": "code",
   "execution_count": 20,
   "id": "ac0a7686",
   "metadata": {},
   "outputs": [
    {
     "name": "stdout",
     "output_type": "stream",
     "text": [
      "Number of categorical variables: 25\n",
      "Number of numerical variables: 76\n"
     ]
    }
   ],
   "source": [
    "print(\"Number of categorical variables:\", len(categorical_variables))\n",
    "print(\"Number of numerical variables:\", len(numerical_variables))"
   ]
  },
  {
   "cell_type": "raw",
   "id": "4d7a1e02",
   "metadata": {},
   "source": [
    "devide cat vars to nominal and ordinal"
   ]
  },
  {
   "cell_type": "markdown",
   "id": "6412d16c",
   "metadata": {},
   "source": [
    "## focus on the \"match\" variable"
   ]
  },
  {
   "cell_type": "markdown",
   "id": "8922d5a9",
   "metadata": {},
   "source": [
    "The variable \"match\" is the variable to be explained in our study, 0 means the two participants didn't match and 1 means they matched and they are willing\n",
    "to go on another date."
   ]
  },
  {
   "cell_type": "code",
   "execution_count": 19,
   "id": "c0e62d13",
   "metadata": {},
   "outputs": [
    {
     "data": {
      "image/png": "[encoded data removed]",
      "text/plain": [
       "<Figure size 640x480 with 1 Axes>"
      ]
     },
     "metadata": {},
     "output_type": "display_data"
    }
   ],
   "source": [
    "ax = sns.countplot(x='match', data=data_small)\n",
    "total = float(len(data_small))\n",
    "\n",
    "# Add percentages to the bars\n",
    "for p in ax.patches:\n",
    "    height = p.get_height()\n",
    "    ax.text(p.get_x()+p.get_width()/2., height+3, '{:.2f}%'.format((height/total)*100), ha=\"center\")\n",
    "\n",
    "# Show the plot\n",
    "plt.show()"
   ]
  },
  {
   "cell_type": "markdown",
   "id": "eedd7c06",
   "metadata": {},
   "source": [
    "Only 16% if the dates lead to a match this not only means that it's hard to find a match but more importantly we have unbalanced data !! The baseline model for predecting match have an accuracy of 83.53."
   ]
  },
  {
   "cell_type": "markdown",
   "id": "1f174617",
   "metadata": {},
   "source": [
    "## focus on the \"dec\" variable"
   ]
  },
  {
   "cell_type": "markdown",
   "id": "8c4e22c7",
   "metadata": {},
   "source": [
    "## focus on the \"gender\" variable"
   ]
  },
  {
   "cell_type": "code",
   "execution_count": 20,
   "id": "0a9a257a",
   "metadata": {},
   "outputs": [
    {
     "data": {
      "text/plain": [
       "277"
      ]
     },
     "execution_count": 20,
     "metadata": {},
     "output_type": "execute_result"
    }
   ],
   "source": [
    "num_males = len(data[data[\"gender\"] == 1][\"iid\"].unique()); num_males"
   ]
  },
  {
   "cell_type": "code",
   "execution_count": 21,
   "id": "e50a965e",
   "metadata": {},
   "outputs": [
    {
     "data": {
      "text/plain": [
       "274"
      ]
     },
     "execution_count": 21,
     "metadata": {},
     "output_type": "execute_result"
    }
   ],
   "source": [
    "num_females = len(data[data[\"gender\"] == 0][\"iid\"].unique()); num_females"
   ]
  },
  {
   "cell_type": "markdown",
   "id": "6045b3cd",
   "metadata": {},
   "source": [
    "The number of women and men who participated in the experiement are close; 277 man and 274 women."
   ]
  },
  {
   "cell_type": "code",
   "execution_count": 22,
   "id": "838d2bb0",
   "metadata": {
    "scrolled": true
   },
   "outputs": [
    {
     "data": {
      "text/plain": [
       "gender\n",
       "0    0.365440\n",
       "1    0.474249\n",
       "Name: dec, dtype: float64"
      ]
     },
     "execution_count": 22,
     "metadata": {},
     "output_type": "execute_result"
    }
   ],
   "source": [
    "data.groupby(\"gender\")[\"dec\"].mean()"
   ]
  },
  {
   "cell_type": "markdown",
   "id": "dad3371d",
   "metadata": {},
   "source": [
    "males says yes more (47% of the time vs 36% for women)"
   ]
  },
  {
   "cell_type": "markdown",
   "id": "d479d658",
   "metadata": {},
   "source": [
    "## Impact of order on the probability of having a second date"
   ]
  },
  {
   "cell_type": "code",
   "execution_count": 23,
   "id": "3aa9e5da",
   "metadata": {},
   "outputs": [],
   "source": [
    "data_order = data[[\"iid\",\"wave\",\"gender\",'dec','order']]\n",
    "                          \n",
    "list_wave = data[data['condtn']==2]['wave'].unique().tolist()\n",
    "dict_wave_order = {}\n",
    "for i in list_wave:\n",
    "    dict_wave_order[f\"wave_{i}\"] = data_order[data_order[\"wave\"] == i]\n",
    "    "
   ]
  },
  {
   "cell_type": "code",
   "execution_count": 24,
   "id": "9e574a49",
   "metadata": {},
   "outputs": [
    {
     "name": "stderr",
     "output_type": "stream",
     "text": [
      "C:\\Users\\21262\\AppData\\Local\\Temp\\ipykernel_1876\\1841317223.py:2: SettingWithCopyWarning: \n",
      "A value is trying to be set on a copy of a slice from a DataFrame.\n",
      "Try using .loc[row_indexer,col_indexer] = value instead\n",
      "\n",
      "See the caveats in the documentation: https://pandas.pydata.org/pandas-docs/stable/user_guide/indexing.html#returning-a-view-versus-a-copy\n",
      "  dict_wave_order[f\"wave_{i}\"]['order'] =  dict_wave_order[f\"wave_{i}\"]['order']/(max(dict_wave_order[f\"wave_{i}\"]['order'].unique()))\n"
     ]
    }
   ],
   "source": [
    "for i in list_wave:\n",
    "    dict_wave_order[f\"wave_{i}\"]['order'] =  dict_wave_order[f\"wave_{i}\"]['order']/(max(dict_wave_order[f\"wave_{i}\"]['order'].unique()))"
   ]
  },
  {
   "cell_type": "code",
   "execution_count": 25,
   "id": "1903cf26",
   "metadata": {},
   "outputs": [],
   "source": [
    "concatenated_dOrder = pd.concat([dict_wave_order[f\"wave_{i}\"] for i in list_wave], axis=0)"
   ]
  },
  {
   "cell_type": "markdown",
   "id": "5554c29a",
   "metadata": {},
   "source": [
    "### Important of order for women "
   ]
  },
  {
   "cell_type": "code",
   "execution_count": 26,
   "id": "daf222fa",
   "metadata": {},
   "outputs": [],
   "source": [
    "pl = (concatenated_dOrder[concatenated_dOrder[\"gender\"]==0].groupby(\"order\")[\"dec\"].mean()).to_frame().reset_index()\n",
    "L_order=[(0,0.05),(0.05,0.2),(0.2,0.6),(0.6,0.8),(0.8,1)]\n",
    "hist_order = [pl[(pl['order']>=L_order[i][0]) & (pl['order']<L_order[i][1]) ]['dec'].mean() for i in range(len(L_order))]"
   ]
  },
  {
   "cell_type": "code",
   "execution_count": 27,
   "id": "60148272",
   "metadata": {},
   "outputs": [
    {
     "data": {
      "image/png": "[encoded data removed]",
      "text/plain": [
       "<Figure size 640x480 with 1 Axes>"
      ]
     },
     "metadata": {},
     "output_type": "display_data"
    }
   ],
   "source": [
    "formatter = lambda x: f\"{x[0]} to {x[1]}\"\n",
    "sns.barplot(x=list(map(formatter, L_order)), y=hist_order)\n",
    "\n",
    "plt.xlabel('Order normalized')\n",
    "plt.ylabel('Probability of saying yes')\n",
    "\n",
    "plt.show()"
   ]
  },
  {
   "cell_type": "markdown",
   "id": "d1ca3dc5",
   "metadata": {},
   "source": [
    "### Important of order for men "
   ]
  },
  {
   "cell_type": "code",
   "execution_count": 28,
   "id": "e571d927",
   "metadata": {},
   "outputs": [],
   "source": [
    "plm = (concatenated_dOrder[concatenated_dOrder[\"gender\"]==1].groupby(\"order\")[\"dec\"].mean()).to_frame().reset_index()\n",
    "L_order=[(0,0.05),(0.05,0.2),(0.2,0.6),(0.6,0.8),(0.8,1)]\n",
    "hist_orderm = [plm[(plm['order']>=L_order[i][0]) & (pl['order']<L_order[i][1]) ]['dec'].mean() for i in range(len(L_order))]"
   ]
  },
  {
   "cell_type": "code",
   "execution_count": 29,
   "id": "0f26c90c",
   "metadata": {},
   "outputs": [
    {
     "data": {
      "image/png": "[encoded data removed]",
      "text/plain": [
       "<Figure size 640x480 with 1 Axes>"
      ]
     },
     "metadata": {},
     "output_type": "display_data"
    }
   ],
   "source": [
    "formatter = lambda x: f\"{x[0]} to {x[1]}\"\n",
    "sns.barplot(x=list(map(formatter, L_order)), y=hist_orderm)\n",
    "\n",
    "plt.xlabel('Order normalized')\n",
    "plt.ylabel('Probability of saying yes')\n",
    "\n",
    "plt.show()"
   ]
  },
  {
   "cell_type": "markdown",
   "id": "80b7cb22",
   "metadata": {},
   "source": [
    "We notice that both women and men say \"yes\" for the first dates more that those at the end of the event."
   ]
  },
  {
   "cell_type": "markdown",
   "id": "ed8c6565",
   "metadata": {},
   "source": [
    "## focus on the \"age\" variable"
   ]
  },
  {
   "cell_type": "code",
   "execution_count": 30,
   "id": "1721a8ab",
   "metadata": {},
   "outputs": [
    {
     "data": {
      "text/plain": [
       "count    543.000000\n",
       "mean      26.359116\n",
       "std        3.766960\n",
       "min       18.000000\n",
       "25%       24.000000\n",
       "50%       26.000000\n",
       "75%       28.000000\n",
       "max       55.000000\n",
       "Name: age, dtype: float64"
      ]
     },
     "execution_count": 30,
     "metadata": {},
     "output_type": "execute_result"
    }
   ],
   "source": [
    "data_sign_up[\"age\"].describe()"
   ]
  },
  {
   "cell_type": "markdown",
   "id": "78c17e12",
   "metadata": {},
   "source": [
    "The participants of the experiement were mostly colledge students, but we also have some older people. \n",
    "The ages ranges from 18 to 55."
   ]
  },
  {
   "cell_type": "code",
   "execution_count": 31,
   "id": "5fcafbf5",
   "metadata": {},
   "outputs": [
    {
     "data": {
      "text/plain": [
       "<AxesSubplot: xlabel='age'>"
      ]
     },
     "execution_count": 31,
     "metadata": {},
     "output_type": "execute_result"
    },
    {
     "data": {
      "image/png": "[encoded data removed]",
      "text/plain": [
       "<Figure size 640x480 with 1 Axes>"
      ]
     },
     "metadata": {},
     "output_type": "display_data"
    }
   ],
   "source": [
    "sns.boxplot(x=data_sign_up[\"age\"])"
   ]
  },
  {
   "cell_type": "markdown",
   "id": "544b07ec",
   "metadata": {},
   "source": [
    "Based on the box plot analysis, it is observed that the median age falls within the range of mid-twenties, with 50% of the participants belonging to this age group. Furthermore, 75% of the participants are below the age of 35, indicating a relatively young cohort. However, it is worth noting that there exist some outliers in the age distribution, with a few participants ranging from 35 to 55 years old."
   ]
  },
  {
   "cell_type": "markdown",
   "id": "d0743f33",
   "metadata": {},
   "source": [
    "## Focus on the variables : \"race\", \"imprace\", \"samerace\""
   ]
  },
  {
   "cell_type": "code",
   "execution_count": 35,
   "id": "de03b96e",
   "metadata": {},
   "outputs": [],
   "source": [
    "df = data_sign_up[\"race\"].value_counts()/len(data_sign_up[\"race\"])"
   ]
  },
  {
   "cell_type": "code",
   "execution_count": 36,
   "id": "19c5c89d",
   "metadata": {},
   "outputs": [
    {
     "data": {
      "image/png": "[encoded data removed]",
      "text/plain": [
       "<Figure size 640x480 with 1 Axes>"
      ]
     },
     "metadata": {},
     "output_type": "display_data"
    }
   ],
   "source": [
    "labels = [\"European/Caucasian-American\",\"Asian/Pacific Islander/Asian-American\",\"Latino/Hispanic American\",\"Other\",\"Black/African American\"]\n",
    "plt.pie(df, labels=labels, autopct='%1.1f%%')\n",
    "plt.show()"
   ]
  },
  {
   "cell_type": "markdown",
   "id": "d2a39a38",
   "metadata": {},
   "source": [
    "Only about 5% of the subjects are black, there are no native americans and the mojority are white"
   ]
  },
  {
   "cell_type": "raw",
   "id": "c99b8675",
   "metadata": {},
   "source": [
    "Things to do later :\n",
    "- influence of samerace on matches\n",
    "- imprace value count"
   ]
  },
  {
   "cell_type": "markdown",
   "id": "3b90463f",
   "metadata": {},
   "source": [
    "# Mining insights"
   ]
  },
  {
   "cell_type": "markdown",
   "id": "f4bc43a6",
   "metadata": {},
   "source": [
    "## The effect of similarity "
   ]
  },
  {
   "cell_type": "code",
   "execution_count": 50,
   "id": "e63d9642",
   "metadata": {},
   "outputs": [],
   "source": [
    "from sklearn.metrics.pairwise import cosine_similarity"
   ]
  },
  {
   "cell_type": "code",
   "execution_count": 62,
   "id": "3270f0ab",
   "metadata": {},
   "outputs": [],
   "source": [
    "# data_similarity = data_sign_up[[\"age\",\"iid\",\"wave\",\"gender\",'sports',\n",
    "#  'tvsports',\n",
    "#  'exercise',\n",
    "#  'dining',\n",
    "#  'museums',\n",
    "#  'art',\n",
    "#  'hiking',\n",
    "#  'gaming',\n",
    "#  'clubbing',\n",
    "#  'reading',\n",
    "#  'tv',\n",
    "#  'theater',\n",
    "#  'movies',\n",
    "#  'concerts',\n",
    "#  'music',\n",
    "#  'shopping',\n",
    "#  'yoga']]\n",
    "# data_similarity = data_similarity.dropna()\n",
    "\n",
    "# data_similarity[\"wave\"].unique().tolist()\n",
    "\n",
    "# list_wave = data_similarity[\"wave\"].unique().tolist()\n",
    "# dict_wave = {}\n",
    "# for i in range(len(list_wave)):\n",
    "#     dict_wave[f\"wave_{i+1}\"] = data_similarity[data_similarity[\"wave\"] == i+1]\n",
    "    \n",
    "# cos_sim_wave = {}\n",
    "# for i in range(len(list_wave)):\n",
    "#     cos_sim_wave[f'wave_{i+1}'] = 2*cosine_similarity(dict_wave[f\"wave_{i+1}\"].drop(columns = [\"iid\",\"wave\"]))-1\n",
    "    \n",
    "# sims_wave = {}\n",
    "# for i in range(len(list_wave)):\n",
    "#     sims_wave[f\"wave_{i+1}\"] = pd.DataFrame(data = cos_sim_wave[f\"wave_{i+1}\"], columns = dict_wave[f\"wave_{i+1}\"][\"iid\"].tolist(), index = dict_wave[f\"wave_{i+1}\"][\"iid\"].tolist())\n",
    "\n",
    "# sim_waves_dict = {}\n",
    "# for w in range(len(list_wave)):\n",
    "#     ids = []\n",
    "#     simss = []\n",
    "#     matchs = []\n",
    "#     males = data_similarity[(data_similarity['wave'] == w + 1) & (data_similarity['gender'] == 1)]['iid'].tolist()\n",
    "#     femeles = data_similarity[(data_similarity['wave'] == w + 1) & (data_similarity['gender'] == 0)]['iid'].tolist()\n",
    "#     for i in males:\n",
    "#         for j in femeles :\n",
    "#             ids.append(str((i,j)))\n",
    "#             simss.append(sims_wave[f\"wave_{w+1}\"].loc[i][j])\n",
    "#             matchs.append(int(data_to_model[data_to_model[\"id\"] == str((i,j))][\"match\"]))\n",
    "            \n",
    "#     sim_waves_dict[f\"wave_{w+1}\"] = pd.DataFrame({\"id\": ids,\"sim\":simss, \"match\":matchs})    \n",
    "    \n",
    "# fig, axes = plt.subplots(nrows=7, ncols=3,figsize=(14,34))\n",
    "# for i in range(len(list_wave)):\n",
    "#     sns.histplot(data=sim_waves_dict[f'wave_{i+1}'], x=\"sim\", hue=\"match\", ax=axes[i//3,i%3], kde = True)\n",
    "#     axes[i//3,i%3].set_title(f'wave {i+1}')   "
   ]
  },
  {
   "cell_type": "code",
   "execution_count": 82,
   "id": "eba4c600",
   "metadata": {},
   "outputs": [
    {
     "data": {
      "text/plain": [
       "<AxesSubplot: xlabel='int_corr', ylabel='Density'>"
      ]
     },
     "execution_count": 82,
     "metadata": {},
     "output_type": "execute_result"
    },
    {
     "data": {
      "image/png": "[encoded data removed]",
      "text/plain": [
       "<Figure size 800x550 with 1 Axes>"
      ]
     },
     "metadata": {},
     "output_type": "display_data"
    }
   ],
   "source": [
    "sns.histplot(data,x = \"int_corr\", kde = True, stat = \"density\")\n",
    "sns.histplot(data[data[\"match\"] == 1 ],x = \"int_corr\", kde = True, stat = \"density\")\n",
    "sns.histplot(data[data[\"match\"] == 0 ],x = \"int_corr\", kde = True, stat = \"density\")"
   ]
  },
  {
   "cell_type": "code",
   "execution_count": 52,
   "id": "76ff1728",
   "metadata": {},
   "outputs": [
    {
     "data": {
      "text/html": [
       "<div>\n",
       "<style scoped>\n",
       "    .dataframe tbody tr th:only-of-type {\n",
       "        vertical-align: middle;\n",
       "    }\n",
       "\n",
       "    .dataframe tbody tr th {\n",
       "        vertical-align: top;\n",
       "    }\n",
       "\n",
       "    .dataframe thead th {\n",
       "        text-align: right;\n",
       "    }\n",
       "</style>\n",
       "<table border=\"1\" class=\"dataframe\">\n",
       "  <thead>\n",
       "    <tr style=\"text-align: right;\">\n",
       "      <th></th>\n",
       "      <th>count</th>\n",
       "      <th>mean</th>\n",
       "      <th>std</th>\n",
       "      <th>min</th>\n",
       "      <th>25%</th>\n",
       "      <th>50%</th>\n",
       "      <th>75%</th>\n",
       "      <th>max</th>\n",
       "    </tr>\n",
       "    <tr>\n",
       "      <th>match</th>\n",
       "      <th></th>\n",
       "      <th></th>\n",
       "      <th></th>\n",
       "      <th></th>\n",
       "      <th></th>\n",
       "      <th></th>\n",
       "      <th></th>\n",
       "      <th></th>\n",
       "    </tr>\n",
       "  </thead>\n",
       "  <tbody>\n",
       "    <tr>\n",
       "      <th>0</th>\n",
       "      <td>6870.0</td>\n",
       "      <td>0.191822</td>\n",
       "      <td>0.302702</td>\n",
       "      <td>-0.73</td>\n",
       "      <td>-0.02</td>\n",
       "      <td>0.21</td>\n",
       "      <td>0.43</td>\n",
       "      <td>0.91</td>\n",
       "    </tr>\n",
       "    <tr>\n",
       "      <th>1</th>\n",
       "      <td>1350.0</td>\n",
       "      <td>0.217319</td>\n",
       "      <td>0.306995</td>\n",
       "      <td>-0.83</td>\n",
       "      <td>0.00</td>\n",
       "      <td>0.25</td>\n",
       "      <td>0.46</td>\n",
       "      <td>0.81</td>\n",
       "    </tr>\n",
       "  </tbody>\n",
       "</table>\n",
       "</div>"
      ],
      "text/plain": [
       "        count      mean       std   min   25%   50%   75%   max\n",
       "match                                                          \n",
       "0      6870.0  0.191822  0.302702 -0.73 -0.02  0.21  0.43  0.91\n",
       "1      1350.0  0.217319  0.306995 -0.83  0.00  0.25  0.46  0.81"
      ]
     },
     "execution_count": 52,
     "metadata": {},
     "output_type": "execute_result"
    }
   ],
   "source": [
    "data.groupby(\"match\")[\"int_corr\"].describe()"
   ]
  },
  {
   "cell_type": "code",
   "execution_count": 53,
   "id": "a04ec681",
   "metadata": {},
   "outputs": [
    {
     "data": {
      "text/plain": [
       "count    8220.000000\n",
       "mean        0.196010\n",
       "std         0.303539\n",
       "min        -0.830000\n",
       "25%        -0.020000\n",
       "50%         0.210000\n",
       "75%         0.430000\n",
       "max         0.910000\n",
       "Name: int_corr, dtype: float64"
      ]
     },
     "execution_count": 53,
     "metadata": {},
     "output_type": "execute_result"
    }
   ],
   "source": [
    "data[\"int_corr\"].describe()"
   ]
  },
  {
   "cell_type": "code",
   "execution_count": 56,
   "id": "d2c88912",
   "metadata": {},
   "outputs": [],
   "source": [
    "p1 = 0.217319\n",
    "p2 = 0.191822\n",
    "n1 = len(data[(data[\"match\"] == 1)])\n",
    "n2 = len(data[(data[\"match\"] == 0)])\n",
    "p = (n1*p1 + n2*p2)/(n1 + n2)"
   ]
  },
  {
   "cell_type": "code",
   "execution_count": 60,
   "id": "f0b0baa5",
   "metadata": {},
   "outputs": [
    {
     "data": {
      "text/plain": [
       "(1380, 6998)"
      ]
     },
     "execution_count": 60,
     "metadata": {},
     "output_type": "execute_result"
    }
   ],
   "source": [
    "n1,n2"
   ]
  },
  {
   "cell_type": "code",
   "execution_count": 57,
   "id": "37285826",
   "metadata": {},
   "outputs": [
    {
     "data": {
      "text/plain": [
       "2.1805753670948427"
      ]
     },
     "execution_count": 57,
     "metadata": {},
     "output_type": "execute_result"
    }
   ],
   "source": [
    "t = (p1-p2)/(np.sqrt(p*(1-p)*(1/n1 + 1/n2)));t"
   ]
  },
  {
   "cell_type": "code",
   "execution_count": null,
   "id": "3f45eeb7",
   "metadata": {},
   "outputs": [],
   "source": []
  },
  {
   "cell_type": "code",
   "execution_count": 71,
   "id": "7389b950",
   "metadata": {},
   "outputs": [],
   "source": [
    "import pandas as pd\n",
    "\n",
    "# read in data\n",
    "rawdat = pd.read_csv('SpeedDating.csv', encoding= 'unicode_escape')\n",
    "\n",
    "# remove variables that will not be used in analysis\n",
    "dat = rawdat.drop(columns=['id', 'idg', 'condtn', 'round', 'position', 'positin1', 'order', 'partner', 'tuition', 'undergra', 'mn_sat'])\n",
    "\n",
    "# ratings by other ppl\n",
    "at00 = dat[['iid', 'pid', 'dec', 'gender', 'attr', 'sinc', 'intel', 'fun', 'amb', 'shar', 'like', 'prob']].copy()\n",
    "\n",
    "# drop rows where all attributes were rated NA (col 4-9)\n",
    "at00 = at00.fillna(1000)\n",
    "at00['total'] = at00[['attr', 'sinc', 'intel', 'fun', 'amb', 'shar']].sum(axis=1)\n",
    "at00 = at00[~(at00['total'] == 6000)]\n",
    "at00[at00 == 1000] = pd.NA\n",
    "at00['total'] = at00[['attr', 'sinc', 'intel', 'fun', 'amb', 'shar']].sum(axis=1, skipna=True)\n",
    "at00 = at00[~(at00['total'] == 0)]\n",
    "\n",
    "# attributes are evaluated for the opposite gender\n",
    "at00['pgender'] = at00['gender'].apply(lambda x: 1 if x == 0 else 0)\n"
   ]
  },
  {
   "cell_type": "code",
   "execution_count": 92,
   "id": "3b3f6574",
   "metadata": {},
   "outputs": [],
   "source": [
    "import pandas as pd\n",
    "import numpy as np\n",
    "import matplotlib.pyplot as plt\n",
    "import seaborn as sns\n",
    "\n",
    "# Group the data by participant ID and gender, and calculate the mean values for each attribute\n",
    "test2 = at00.groupby(['pid', 'pgender']).agg(Decision=('dec', 'mean'),\n",
    "                                              Attractive=('attr', 'mean'),\n",
    "                                              Sincere=('sinc', 'mean'),\n",
    "                                              Intelligent=('intel', 'mean'),\n",
    "                                              Fun=('fun', 'mean'),\n",
    "                                              Ambitious=('amb', 'mean'),\n",
    "                                              Interest=('shar', 'mean')).reset_index()\n",
    "\n",
    "# Remove rows with missing values\n",
    "test2a = test2[['pid', 'pgender', 'Decision', 'Attractive']].dropna()\n",
    "test2b = test2[['pid', 'pgender', 'Decision', 'Sincere']].dropna()\n",
    "test2c = test2[['pid', 'pgender', 'Decision', 'Intelligent']].dropna()\n",
    "test2d = test2[['pid', 'pgender', 'Decision', 'Fun']].dropna()\n",
    "test2e = test2[['pid', 'pgender', 'Decision', 'Ambitious']].dropna()\n",
    "test2f = test2[['pid', 'pgender', 'Decision', 'Interest']].dropna()\n",
    "\n",
    "# Calculate the correlations between each attribute and the decision\n",
    "coratr = np.corrcoef(test2a['Decision'], test2a['Attractive'])[0, 1]\n",
    "corsin = np.corrcoef(test2b['Decision'], test2b['Sincere'])[0, 1]\n",
    "corint = np.corrcoef(test2c['Decision'], test2c['Intelligent'])[0, 1]\n",
    "corfun = np.corrcoef(test2d['Decision'], test2d['Fun'])[0, 1]\n",
    "coramb = np.corrcoef(test2e['Decision'], test2e['Ambitious'])[0, 1]\n",
    "corshar = np.corrcoef(test2f['Decision'], test2f['Interest'])[0, 1]\n",
    "\n",
    "# Create six subplots for the attribute correlations\n",
    "fig, axs = plt.subplots(nrows=2, ncols=3, figsize=(20, 12))\n",
    "\n",
    "# Plot attractiveness correlation\n",
    "sns.regplot(ax=axs[0, 0], x='Decision', y='Attractive', data=test2a, line_kws={'color': 'red'})\n",
    "axs[0, 0].set(xlabel='Positive Response Rate', ylabel='Attractiveness Score', ylim=(0, 10), xlim=(0, 1))\n",
    "axs[0, 0].set_title('(a) R = {:.3f}'.format(coratr))\n",
    "\n",
    "# Plot sincerity correlation\n",
    "sns.regplot(ax=axs[0, 1], x='Decision', y='Sincere', data=test2b, line_kws={'color': 'red'})\n",
    "axs[0, 1].set(xlabel='Positive Response Rate', ylabel='Sincerity Score', ylim=(0, 10), xlim=(0, 1))\n",
    "axs[0, 1].set_title('(b) R = {:.3f}'.format(corsin))\n",
    "\n",
    "# Plot intelligence correlation\n",
    "sns.regplot(ax=axs[0, 2], x='Decision', y='Intelligent', data=test2c, line_kws={'color': 'red'})\n",
    "axs[0, 2].set(xlabel='Positive Response Rate', ylabel='Intelligence Score', ylim=(0, 10), xlim=(0, 1))\n",
    "axs[0, 2].set_title('(c) R = {:.3f}'.format(corint))\n",
    "\n",
    "# Plot Fun correlation\n",
    "sns.regplot(ax=axs[1, 0], x='Decision', y='Fun', data=test2d, line_kws={'color': 'red'})\n",
    "axs[1, 0].set(xlabel='Positive Response Rate', ylabel='Intelligence Score', ylim=(0, 10), xlim=(0, 1))\n",
    "axs[1, 0].set_title('(d) R = {:.3f}'.format(corfun))\n",
    "\n",
    "# Plot Ambitious correlation\n",
    "sns.regplot(ax=axs[1, 1], x='Decision', y='Ambitious', data=test2e, line_kws={'color': 'red'})\n",
    "axs[1, 1].set(xlabel='Positive Response Rate', ylabel='Intelligence Score', ylim=(0, 10), xlim=(0, 1))\n",
    "axs[1, 1].set_title('(e) R = {:.3f}'.format(coramb))\n",
    "\n",
    "# Plot Interest correlation\n",
    "sns.regplot(ax=axs[1, 2], x='Decision', y='Interest', data=test2f, line_kws={'color': 'red'})\n",
    "axs[1, 2].set(xlabel='Positive Response Rate', ylabel='Intelligence Score', ylim=(0, 10), xlim=(0, 1))\n",
    "axs[1, 2].set_title('(f) R = {:.3f}'.format(corshar))\n",
    "\n"
   ]
  },
  {
   "cell_type": "code",
   "execution_count": null,
   "id": "deb4bfd0",
   "metadata": {},
   "outputs": [],
   "source": [
    "# # Calculate the correlations between each attribute and the decision\n",
    "# coratr = np.corrcoef(test2a['Decision'], test2a['Attractive'])[0, 1]\n",
    "# corsin = np.corrcoef(test2b['Decision'], test2b['Sincere'])[0, 1]\n",
    "# corint = np.corrcoef(test2c['Decision'], test2c['Intelligent'])[0, 1]\n",
    "# corfun = np.corrcoef(test2d['Decision'], test2d['Fun'])[0, 1]\n",
    "# coramb = np.corrcoef(test2e['Decision'], test2e['Ambitious'])[0, 1]\n",
    "# corshar = np.corrcoef(test2f['Decision'], test2f['Interest'])[0, 1]"
   ]
  },
  {
   "cell_type": "code",
   "execution_count": 94,
   "id": "40df9095",
   "metadata": {},
   "outputs": [],
   "source": [
    "# np.corrcoef(test2a['Decision'], test2a['Attractive'])"
   ]
  },
  {
   "cell_type": "code",
   "execution_count": null,
   "id": "eaec84b6",
   "metadata": {},
   "outputs": [],
   "source": []
  },
  {
   "cell_type": "code",
   "execution_count": null,
   "id": "3688df02",
   "metadata": {},
   "outputs": [],
   "source": []
  },
  {
   "cell_type": "markdown",
   "id": "cb7e2c8f",
   "metadata": {},
   "source": [
    "## Selectivity wrt group size"
   ]
  },
  {
   "cell_type": "markdown",
   "id": "8dcd0dd6",
   "metadata": {},
   "source": [
    "### Women's selectivity"
   ]
  },
  {
   "cell_type": "code",
   "execution_count": 72,
   "id": "4ba59212",
   "metadata": {},
   "outputs": [
    {
     "data": {
      "text/html": [
       "<div>\n",
       "<style scoped>\n",
       "    .dataframe tbody tr th:only-of-type {\n",
       "        vertical-align: middle;\n",
       "    }\n",
       "\n",
       "    .dataframe tbody tr th {\n",
       "        vertical-align: top;\n",
       "    }\n",
       "\n",
       "    .dataframe thead th {\n",
       "        text-align: right;\n",
       "    }\n",
       "</style>\n",
       "<table border=\"1\" class=\"dataframe\">\n",
       "  <thead>\n",
       "    <tr style=\"text-align: right;\">\n",
       "      <th></th>\n",
       "      <th>count</th>\n",
       "      <th>mean</th>\n",
       "      <th>std</th>\n",
       "      <th>min</th>\n",
       "      <th>25%</th>\n",
       "      <th>50%</th>\n",
       "      <th>75%</th>\n",
       "      <th>max</th>\n",
       "    </tr>\n",
       "    <tr>\n",
       "      <th>condtn</th>\n",
       "      <th></th>\n",
       "      <th></th>\n",
       "      <th></th>\n",
       "      <th></th>\n",
       "      <th></th>\n",
       "      <th></th>\n",
       "      <th></th>\n",
       "      <th></th>\n",
       "    </tr>\n",
       "  </thead>\n",
       "  <tbody>\n",
       "    <tr>\n",
       "      <th>1</th>\n",
       "      <td>712.0</td>\n",
       "      <td>0.439607</td>\n",
       "      <td>0.496688</td>\n",
       "      <td>0.0</td>\n",
       "      <td>0.0</td>\n",
       "      <td>0.0</td>\n",
       "      <td>1.0</td>\n",
       "      <td>1.0</td>\n",
       "    </tr>\n",
       "    <tr>\n",
       "      <th>2</th>\n",
       "      <td>3472.0</td>\n",
       "      <td>0.350230</td>\n",
       "      <td>0.477111</td>\n",
       "      <td>0.0</td>\n",
       "      <td>0.0</td>\n",
       "      <td>0.0</td>\n",
       "      <td>1.0</td>\n",
       "      <td>1.0</td>\n",
       "    </tr>\n",
       "  </tbody>\n",
       "</table>\n",
       "</div>"
      ],
      "text/plain": [
       "         count      mean       std  min  25%  50%  75%  max\n",
       "condtn                                                     \n",
       "1        712.0  0.439607  0.496688  0.0  0.0  0.0  1.0  1.0\n",
       "2       3472.0  0.350230  0.477111  0.0  0.0  0.0  1.0  1.0"
      ]
     },
     "execution_count": 72,
     "metadata": {},
     "output_type": "execute_result"
    }
   ],
   "source": [
    "data[data[\"gender\"] == 0].groupby([\"condtn\"])[\"dec\"].describe()"
   ]
  },
  {
   "cell_type": "markdown",
   "id": "3afa35b7",
   "metadata": {},
   "source": [
    "We notice a diffrent in the proportion of women saying \"yes\" wrt group size (big vs small). We proceed to test the significant of these results."
   ]
  },
  {
   "cell_type": "markdown",
   "id": "82dca56a",
   "metadata": {},
   "source": [
    "\n",
    "$p_{1}$ the proportion of women saying yes in limited choice setup\n",
    "\n",
    "$p_{2}$ the proportion of women saying yes in an extensive choice setup\n"
   ]
  },
  {
   "cell_type": "code",
   "execution_count": 73,
   "id": "66814939",
   "metadata": {},
   "outputs": [],
   "source": [
    "p1 = 0.43960\n",
    "p2 = 0.350230\n",
    "n1 = len(data[(data[\"gender\"] == 0) & (data[\"condtn\"] == 1)])\n",
    "n2 = len(data[(data[\"gender\"] == 0) & (data[\"condtn\"] == 2)])\n",
    "p = (n1*p1 + n2*p2)/(n1 + n2)"
   ]
  },
  {
   "cell_type": "markdown",
   "id": "0ab7ede7",
   "metadata": {},
   "source": [
    "$H_0$ : $p_{1} = p_{2} = p $\n",
    "$\\\\$\n",
    "$H_1$ : $p_{1}$ > $p_{2}$\n",
    "\n",
    "The test statistic is \n",
    "$T = \\frac{p_1-p_2}{\\sqrt{p(1-p)}\\sqrt{\\frac{1}{n_1}+\\frac{1}{n_2}}}$\n",
    "\n",
    "\n",
    "Under $ H_0 :$ $T \\approx N(0, 1)$\n",
    "\n",
    "\n",
    "\n",
    "for $α = 5\\%$,  $W = \\{T > 1.64\\}$"
   ]
  },
  {
   "cell_type": "code",
   "execution_count": 74,
   "id": "26026db6",
   "metadata": {},
   "outputs": [
    {
     "data": {
      "text/plain": [
       "4.511093424068466"
      ]
     },
     "execution_count": 74,
     "metadata": {},
     "output_type": "execute_result"
    }
   ],
   "source": [
    "t = (p1-p2)/(np.sqrt(p*(1-p)*(1/n1 + 1/n2)));t"
   ]
  },
  {
   "cell_type": "markdown",
   "id": "0a8435fe",
   "metadata": {},
   "source": [
    "We have t = 4.51 > 1.64, so we reject the null hypothesis.\n",
    "Women are more likely to say yes in limited choice situation, in other words they are less selective."
   ]
  },
  {
   "cell_type": "markdown",
   "id": "349579c8",
   "metadata": {},
   "source": [
    "### Men's selectivity"
   ]
  },
  {
   "cell_type": "code",
   "execution_count": 75,
   "id": "da7acb45",
   "metadata": {},
   "outputs": [
    {
     "data": {
      "text/html": [
       "<div>\n",
       "<style scoped>\n",
       "    .dataframe tbody tr th:only-of-type {\n",
       "        vertical-align: middle;\n",
       "    }\n",
       "\n",
       "    .dataframe tbody tr th {\n",
       "        vertical-align: top;\n",
       "    }\n",
       "\n",
       "    .dataframe thead th {\n",
       "        text-align: right;\n",
       "    }\n",
       "</style>\n",
       "<table border=\"1\" class=\"dataframe\">\n",
       "  <thead>\n",
       "    <tr style=\"text-align: right;\">\n",
       "      <th></th>\n",
       "      <th>count</th>\n",
       "      <th>mean</th>\n",
       "      <th>std</th>\n",
       "      <th>min</th>\n",
       "      <th>25%</th>\n",
       "      <th>50%</th>\n",
       "      <th>75%</th>\n",
       "      <th>max</th>\n",
       "    </tr>\n",
       "    <tr>\n",
       "      <th>condtn</th>\n",
       "      <th></th>\n",
       "      <th></th>\n",
       "      <th></th>\n",
       "      <th></th>\n",
       "      <th></th>\n",
       "      <th></th>\n",
       "      <th></th>\n",
       "      <th></th>\n",
       "    </tr>\n",
       "  </thead>\n",
       "  <tbody>\n",
       "    <tr>\n",
       "      <th>1</th>\n",
       "      <td>722.0</td>\n",
       "      <td>0.480609</td>\n",
       "      <td>0.499970</td>\n",
       "      <td>0.0</td>\n",
       "      <td>0.0</td>\n",
       "      <td>0.0</td>\n",
       "      <td>1.0</td>\n",
       "      <td>1.0</td>\n",
       "    </tr>\n",
       "    <tr>\n",
       "      <th>2</th>\n",
       "      <td>3472.0</td>\n",
       "      <td>0.472926</td>\n",
       "      <td>0.499338</td>\n",
       "      <td>0.0</td>\n",
       "      <td>0.0</td>\n",
       "      <td>0.0</td>\n",
       "      <td>1.0</td>\n",
       "      <td>1.0</td>\n",
       "    </tr>\n",
       "  </tbody>\n",
       "</table>\n",
       "</div>"
      ],
      "text/plain": [
       "         count      mean       std  min  25%  50%  75%  max\n",
       "condtn                                                     \n",
       "1        722.0  0.480609  0.499970  0.0  0.0  0.0  1.0  1.0\n",
       "2       3472.0  0.472926  0.499338  0.0  0.0  0.0  1.0  1.0"
      ]
     },
     "execution_count": 75,
     "metadata": {},
     "output_type": "execute_result"
    }
   ],
   "source": [
    "data[data[\"gender\"] == 1].groupby([\"condtn\"])[\"dec\"].describe()"
   ]
  },
  {
   "cell_type": "markdown",
   "id": "a77af156",
   "metadata": {},
   "source": [
    "We do the same test for men"
   ]
  },
  {
   "cell_type": "markdown",
   "id": "622bba4a",
   "metadata": {},
   "source": [
    "\n",
    "$p_{1}$ the proportion of men saying yes in limited choice setup\n",
    "\n",
    "$p_{2}$ the proportion of men saying yes in an extensive choice setup\n"
   ]
  },
  {
   "cell_type": "code",
   "execution_count": 76,
   "id": "7fca734e",
   "metadata": {},
   "outputs": [],
   "source": [
    "p1 = 0.480609\n",
    "p2 = 0.472926\n",
    "n1 = len(data[(data[\"gender\"] == 1) & (data[\"condtn\"] == 1)])\n",
    "n2 = len(data[(data[\"gender\"] == 1) & (data[\"condtn\"] == 2)])\n",
    "p = (n1*p1 + n2*p2)/(n1 + n2)"
   ]
  },
  {
   "cell_type": "markdown",
   "id": "8620d1b6",
   "metadata": {},
   "source": [
    "$H_0 : p_{1} = p_{2} = p$\n",
    "\n",
    "\n",
    "$H_1 : p_{1} \\ne p_{2}$\n",
    "\n",
    "The test statistic is \n",
    "$T = \\frac{p_1-p_2}{\\sqrt{p(1-p)}\\sqrt{\\frac{1}{n_1}+\\frac{1}{n_2}}}$\n",
    "\n",
    "\n",
    "Under $ H_0 :$ $T \\approx N(0, 1)$\n",
    "\n",
    "\n",
    "for $α = 5\\%$,  $W = \\{|T| > 1.96\\}$"
   ]
  },
  {
   "cell_type": "code",
   "execution_count": 77,
   "id": "f4d3c9bf",
   "metadata": {},
   "outputs": [
    {
     "data": {
      "text/plain": [
       "0.37616798260726453"
      ]
     },
     "execution_count": 77,
     "metadata": {},
     "output_type": "execute_result"
    }
   ],
   "source": [
    "t = (p1-p2)/(np.sqrt(p*(1-p)*(1/n1 + 1/n2)));t"
   ]
  },
  {
   "cell_type": "markdown",
   "id": "79967317",
   "metadata": {},
   "source": [
    "We have |t| = 0.37 < 1.96, so we can't reject the null hypothesis.\n",
    "Men's selectivity doesn't change wrt the group size"
   ]
  },
  {
   "cell_type": "markdown",
   "id": "61e3ada6",
   "metadata": {},
   "source": [
    "## Would men date a woman that is more intelligent or ambitious than them ?"
   ]
  },
  {
   "cell_type": "code",
   "execution_count": 5,
   "id": "45ea7a49",
   "metadata": {},
   "outputs": [],
   "source": [
    "df1 = data_to_model.copy()"
   ]
  },
  {
   "cell_type": "code",
   "execution_count": 6,
   "id": "6b8ea4e5",
   "metadata": {},
   "outputs": [],
   "source": [
    "# more_intel = the partner is more intelligent\n",
    "df1[\"woman_more_intel\"] = df1[\"intel3_1_w\"] > df1[\"intel3_1_m\"]\n",
    "df1[\"woman_more_amb\"] = df1[\"amb3_1_w\"] > df1[\"amb3_1_m\"]"
   ]
  },
  {
   "cell_type": "markdown",
   "id": "6b026a4b",
   "metadata": {},
   "source": [
    "### Intelligence"
   ]
  },
  {
   "cell_type": "code",
   "execution_count": 80,
   "id": "cb1cfb5c",
   "metadata": {},
   "outputs": [
    {
     "data": {
      "text/plain": [
       "woman_more_intel\n",
       "False    0.494824\n",
       "True     0.428241\n",
       "Name: dec_m, dtype: float64"
      ]
     },
     "execution_count": 80,
     "metadata": {},
     "output_type": "execute_result"
    }
   ],
   "source": [
    "temp = df1.groupby(\"woman_more_intel\")[\"dec_m\"].mean();temp"
   ]
  },
  {
   "cell_type": "markdown",
   "id": "00e1a08e",
   "metadata": {},
   "source": [
    "We notice that it's more likely for a man to say \"yes\" when the woman is not more intelligent than him."
   ]
  },
  {
   "cell_type": "markdown",
   "id": "1e3eddc0",
   "metadata": {},
   "source": [
    "\n",
    "$p_{1}$ the proportion of men saying yes when their date is not smarter then them\n",
    "\n",
    "$p_{2}$ the proportion of men saying yes when their date is smarter then them\n"
   ]
  },
  {
   "cell_type": "code",
   "execution_count": 81,
   "id": "2b7d073b",
   "metadata": {},
   "outputs": [],
   "source": [
    "p1 = temp[0]\n",
    "p2 = temp[1]\n",
    "n1 = len(df1[df1[\"woman_more_intel\"] == False])\n",
    "n2 = len(df1[df1[\"woman_more_intel\"] == True])\n",
    "p = (n1*p1 + n2*p2)/(n1 + n2)"
   ]
  },
  {
   "cell_type": "markdown",
   "id": "036f615e",
   "metadata": {},
   "source": [
    "$H_0$ : $p_{1} = p_{2} = p $\n",
    "$\\\\$\n",
    "$H_1$ : $p_{1}$ > $p_{2}$\n",
    "\n",
    "The test statistic is \n",
    "$T = \\frac{p_1-p_2}{\\sqrt{p(1-p)}\\sqrt{\\frac{1}{n_1}+\\frac{1}{n_2}}}$\n",
    "\n",
    "\n",
    "Under $ H_0 :$ $T \\approx N(0, 1)$\n",
    "\n",
    "\n",
    "for $α = 5\\%$,  $W = \\{T > 1.64\\}$"
   ]
  },
  {
   "cell_type": "code",
   "execution_count": 82,
   "id": "bae37f2c",
   "metadata": {},
   "outputs": [
    {
     "data": {
      "text/plain": [
       "3.99033515257042"
      ]
     },
     "execution_count": 82,
     "metadata": {},
     "output_type": "execute_result"
    }
   ],
   "source": [
    "t = (p1-p2)/(np.sqrt(p*(1-p)*(1/n1 + 1/n2)));t"
   ]
  },
  {
   "cell_type": "markdown",
   "id": "4510806a",
   "metadata": {},
   "source": [
    "We have t = 5.89 > 1.64, so we reject the null hypothesis.\n",
    "Men do not value women’s intelligence when it exceeds their own."
   ]
  },
  {
   "cell_type": "markdown",
   "id": "45fc5501",
   "metadata": {},
   "source": [
    "### Ambition"
   ]
  },
  {
   "cell_type": "code",
   "execution_count": 7,
   "id": "0c476cfb",
   "metadata": {},
   "outputs": [
    {
     "data": {
      "text/plain": [
       "woman_more_amb\n",
       "False    0.492969\n",
       "True     0.446921\n",
       "Name: dec_m, dtype: float64"
      ]
     },
     "execution_count": 7,
     "metadata": {},
     "output_type": "execute_result"
    }
   ],
   "source": [
    "temp = df1.groupby(\"woman_more_amb\")[\"dec_m\"].mean();temp"
   ]
  },
  {
   "cell_type": "markdown",
   "id": "744f1302",
   "metadata": {},
   "source": [
    "Same as before, we notice that it's more likely for a man to say \"yes\" when the woman is not more ambitious than him."
   ]
  },
  {
   "cell_type": "markdown",
   "id": "8b7f31bb",
   "metadata": {},
   "source": [
    "\n",
    "$p_{1}$ the proportion of men saying yes when their date is not ambitious then them\n",
    "\n",
    "$p_{2}$ the proportion of men saying yes when their date is ambitious then them\n"
   ]
  },
  {
   "cell_type": "code",
   "execution_count": 8,
   "id": "b8e0ba37",
   "metadata": {},
   "outputs": [],
   "source": [
    "p1 = temp[0]\n",
    "p2 = temp[1]\n",
    "n1 = len(df1[df1[\"woman_more_intel\"] == False])\n",
    "n2 = len(df1[df1[\"woman_more_intel\"] == True])\n",
    "p = (n1*p1 + n2*p2)/(n1 + n2)"
   ]
  },
  {
   "cell_type": "markdown",
   "id": "e70e9b35",
   "metadata": {},
   "source": [
    "We do the same test of significance\n",
    "\n",
    "$H_0$ : $p_{1} = p_{2} = p $\n",
    "$\\\\$\n",
    "$H_1$ : $p_{1}$ > $p_{2}$\n",
    "\n",
    "\n",
    "$T = \\frac{p_1-p_2}{\\sqrt{p(1-p)}\\sqrt{\\frac{1}{n_1}+\\frac{1}{n_2}}}$\n",
    "\n",
    "for α = 5%,  W = {T > 1.64}"
   ]
  },
  {
   "cell_type": "code",
   "execution_count": 9,
   "id": "7af10373",
   "metadata": {},
   "outputs": [
    {
     "data": {
      "text/plain": [
       "2.758503241914721"
      ]
     },
     "execution_count": 9,
     "metadata": {},
     "output_type": "execute_result"
    }
   ],
   "source": [
    "t = (p1-p2)/(np.sqrt(p*(1-p)*(1/n1 + 1/n2)));t"
   ]
  },
  {
   "cell_type": "markdown",
   "id": "a16cd25e",
   "metadata": {},
   "source": [
    "We have t = 5.89 > 1.64, so we reject the null hypothesis.\n",
    "Men do not value women’s ambition when it exceeds their own."
   ]
  },
  {
   "cell_type": "markdown",
   "id": "41eae5f5",
   "metadata": {},
   "source": [
    "## Does the race influence the decesion ?"
   ]
  },
  {
   "cell_type": "code",
   "execution_count": 86,
   "id": "c836d379",
   "metadata": {},
   "outputs": [],
   "source": [
    "data_by_samerace = data[['wave', 'iid', 'gender', 'age','dec_o','dec','match',\"samerace\"]]\n",
    "dict_wave_race = {}\n",
    "for i in range(len(list_wave)):\n",
    "    dict_wave_race[f\"wave_{i+1}\"] = data_by_samerace[data_by_samerace[\"wave\"] == i+1]"
   ]
  },
  {
   "cell_type": "markdown",
   "id": "97365946",
   "metadata": {},
   "source": [
    "### For women"
   ]
  },
  {
   "cell_type": "code",
   "execution_count": 87,
   "id": "238d9557",
   "metadata": {
    "scrolled": true
   },
   "outputs": [
    {
     "data": {
      "text/html": [
       "<div>\n",
       "<style scoped>\n",
       "    .dataframe tbody tr th:only-of-type {\n",
       "        vertical-align: middle;\n",
       "    }\n",
       "\n",
       "    .dataframe tbody tr th {\n",
       "        vertical-align: top;\n",
       "    }\n",
       "\n",
       "    .dataframe thead th {\n",
       "        text-align: right;\n",
       "    }\n",
       "</style>\n",
       "<table border=\"1\" class=\"dataframe\">\n",
       "  <thead>\n",
       "    <tr style=\"text-align: right;\">\n",
       "      <th></th>\n",
       "      <th>count</th>\n",
       "      <th>mean</th>\n",
       "      <th>std</th>\n",
       "      <th>min</th>\n",
       "      <th>25%</th>\n",
       "      <th>50%</th>\n",
       "      <th>75%</th>\n",
       "      <th>max</th>\n",
       "    </tr>\n",
       "    <tr>\n",
       "      <th>samerace</th>\n",
       "      <th></th>\n",
       "      <th></th>\n",
       "      <th></th>\n",
       "      <th></th>\n",
       "      <th></th>\n",
       "      <th></th>\n",
       "      <th></th>\n",
       "      <th></th>\n",
       "    </tr>\n",
       "  </thead>\n",
       "  <tbody>\n",
       "    <tr>\n",
       "      <th>0</th>\n",
       "      <td>2526.0</td>\n",
       "      <td>0.347189</td>\n",
       "      <td>0.476171</td>\n",
       "      <td>0.0</td>\n",
       "      <td>0.0</td>\n",
       "      <td>0.0</td>\n",
       "      <td>1.0</td>\n",
       "      <td>1.0</td>\n",
       "    </tr>\n",
       "    <tr>\n",
       "      <th>1</th>\n",
       "      <td>1658.0</td>\n",
       "      <td>0.393245</td>\n",
       "      <td>0.488618</td>\n",
       "      <td>0.0</td>\n",
       "      <td>0.0</td>\n",
       "      <td>0.0</td>\n",
       "      <td>1.0</td>\n",
       "      <td>1.0</td>\n",
       "    </tr>\n",
       "  </tbody>\n",
       "</table>\n",
       "</div>"
      ],
      "text/plain": [
       "           count      mean       std  min  25%  50%  75%  max\n",
       "samerace                                                     \n",
       "0         2526.0  0.347189  0.476171  0.0  0.0  0.0  1.0  1.0\n",
       "1         1658.0  0.393245  0.488618  0.0  0.0  0.0  1.0  1.0"
      ]
     },
     "execution_count": 87,
     "metadata": {},
     "output_type": "execute_result"
    }
   ],
   "source": [
    "data[data[\"gender\"] == 0].groupby([\"samerace\"])[\"dec\"].describe()"
   ]
  },
  {
   "cell_type": "markdown",
   "id": "241d8336",
   "metadata": {},
   "source": [
    "We notice a diffrent in the proportion of women saying \"yes\" wrt the same race (1 if they both are from the same race 0 if ot ). We procude to test the significant of these results."
   ]
  },
  {
   "cell_type": "markdown",
   "id": "088133dd",
   "metadata": {},
   "source": [
    "\n",
    "$p_{0}$ the proportion of women saying yes if they are both from the same race\n",
    "\n",
    "$p_{1}$ the proportion of women saying yes if they are not from the same race\n"
   ]
  },
  {
   "cell_type": "code",
   "execution_count": 88,
   "id": "04d98e9d",
   "metadata": {},
   "outputs": [],
   "source": [
    "p0 = 0.347189\n",
    "p1 = 0.393245\n",
    "n0 = len(data[(data[\"gender\"] == 0) & (data[\"samerace\"] == 0)])\n",
    "n1 = len(data[(data[\"gender\"] == 0) & (data[\"samerace\"] == 1)])\n",
    "p = (n0*p0 + n1*p1)/(n0 + n1)"
   ]
  },
  {
   "cell_type": "markdown",
   "id": "175da78a",
   "metadata": {},
   "source": [
    "$H_0$ : $p_{1} = p_{2} = p $\n",
    "$\\\\$\n",
    "$H_1$ : $p_{1}$ > $p_{2}$\n",
    "\n",
    "The test statistic is \n",
    "$T = \\frac{p_1-p_2}{\\sqrt{p(1-p)}\\sqrt{\\frac{1}{n_1}+\\frac{1}{n_2}}}$\n",
    "\n",
    "\n",
    "Under $ H_0 :$ $T \\approx N(0, 1)$\n",
    "\n",
    "\n",
    "\n",
    "for $α = 5\\%$,  $W = \\{T > 1.64\\}$"
   ]
  },
  {
   "cell_type": "code",
   "execution_count": 89,
   "id": "201e97e7",
   "metadata": {},
   "outputs": [
    {
     "data": {
      "text/plain": [
       "3.025903041082406"
      ]
     },
     "execution_count": 89,
     "metadata": {},
     "output_type": "execute_result"
    }
   ],
   "source": [
    "t = (p1-p0)/(np.sqrt(p*(1-p)*(1/n0 + 1/n1)));t"
   ]
  },
  {
   "cell_type": "markdown",
   "id": "9ba2cf69",
   "metadata": {},
   "source": [
    "We have t = 3.02 > 1.64, so we reject the null hypothesis.\n",
    "Women are more likely to say yes if they find a partner from the same race."
   ]
  },
  {
   "cell_type": "markdown",
   "id": "4faa4100",
   "metadata": {},
   "source": [
    "### For men"
   ]
  },
  {
   "cell_type": "code",
   "execution_count": 90,
   "id": "682bc66b",
   "metadata": {},
   "outputs": [
    {
     "data": {
      "text/html": [
       "<div>\n",
       "<style scoped>\n",
       "    .dataframe tbody tr th:only-of-type {\n",
       "        vertical-align: middle;\n",
       "    }\n",
       "\n",
       "    .dataframe tbody tr th {\n",
       "        vertical-align: top;\n",
       "    }\n",
       "\n",
       "    .dataframe thead th {\n",
       "        text-align: right;\n",
       "    }\n",
       "</style>\n",
       "<table border=\"1\" class=\"dataframe\">\n",
       "  <thead>\n",
       "    <tr style=\"text-align: right;\">\n",
       "      <th></th>\n",
       "      <th>count</th>\n",
       "      <th>mean</th>\n",
       "      <th>std</th>\n",
       "      <th>min</th>\n",
       "      <th>25%</th>\n",
       "      <th>50%</th>\n",
       "      <th>75%</th>\n",
       "      <th>max</th>\n",
       "    </tr>\n",
       "    <tr>\n",
       "      <th>samerace</th>\n",
       "      <th></th>\n",
       "      <th></th>\n",
       "      <th></th>\n",
       "      <th></th>\n",
       "      <th></th>\n",
       "      <th></th>\n",
       "      <th></th>\n",
       "      <th></th>\n",
       "    </tr>\n",
       "  </thead>\n",
       "  <tbody>\n",
       "    <tr>\n",
       "      <th>0</th>\n",
       "      <td>2536.0</td>\n",
       "      <td>0.473975</td>\n",
       "      <td>0.499421</td>\n",
       "      <td>0.0</td>\n",
       "      <td>0.0</td>\n",
       "      <td>0.0</td>\n",
       "      <td>1.0</td>\n",
       "      <td>1.0</td>\n",
       "    </tr>\n",
       "    <tr>\n",
       "      <th>1</th>\n",
       "      <td>1658.0</td>\n",
       "      <td>0.474668</td>\n",
       "      <td>0.499509</td>\n",
       "      <td>0.0</td>\n",
       "      <td>0.0</td>\n",
       "      <td>0.0</td>\n",
       "      <td>1.0</td>\n",
       "      <td>1.0</td>\n",
       "    </tr>\n",
       "  </tbody>\n",
       "</table>\n",
       "</div>"
      ],
      "text/plain": [
       "           count      mean       std  min  25%  50%  75%  max\n",
       "samerace                                                     \n",
       "0         2536.0  0.473975  0.499421  0.0  0.0  0.0  1.0  1.0\n",
       "1         1658.0  0.474668  0.499509  0.0  0.0  0.0  1.0  1.0"
      ]
     },
     "execution_count": 90,
     "metadata": {},
     "output_type": "execute_result"
    }
   ],
   "source": [
    "data[data[\"gender\"] == 1].groupby([\"samerace\"])[\"dec\"].describe()"
   ]
  },
  {
   "cell_type": "markdown",
   "id": "dd031440",
   "metadata": {},
   "source": [
    "We notice close proportions of men saying \"yes\" wrt the same race (1 if they both are from the same race 0 if ot ). We procude to test the significant of these results."
   ]
  },
  {
   "cell_type": "markdown",
   "id": "6085e70e",
   "metadata": {},
   "source": [
    "$p_{0}$ the proportion of men saying yes if they are both from the same race\n",
    "\n",
    "$p_{1}$ the proportion of men saying yes if they are not from the same race\n"
   ]
  },
  {
   "cell_type": "code",
   "execution_count": 91,
   "id": "d03942c1",
   "metadata": {},
   "outputs": [],
   "source": [
    "p0 = 0.473975\n",
    "p1 = 0.474668\n",
    "n0 = len(data[(data[\"gender\"] == 1) & (data[\"samerace\"] == 0)])\n",
    "n1 = len(data[(data[\"gender\"] == 1) & (data[\"samerace\"] == 1)])\n",
    "p = (n1*p1 + n0*p0)/(n1 + n0)"
   ]
  },
  {
   "cell_type": "markdown",
   "id": "8c42bf53",
   "metadata": {},
   "source": [
    "$H_0 : p_{1} = p_{2} = p$\n",
    "\n",
    "\n",
    "$H_1 : p_{1} \\ne p_{2}$\n",
    "\n",
    "The test statistic is \n",
    "$T = \\frac{p_1-p_2}{\\sqrt{p(1-p)}\\sqrt{\\frac{1}{n_1}+\\frac{1}{n_2}}}$\n",
    "\n",
    "\n",
    "Under $ H_0 :$ $T \\approx N(0, 1)$\n",
    "\n",
    "\n",
    "for $α = 5\\%$,  $W = \\{|T| > 1.96\\}$"
   ]
  },
  {
   "cell_type": "code",
   "execution_count": 92,
   "id": "82b44302",
   "metadata": {},
   "outputs": [
    {
     "data": {
      "text/plain": [
       "0.04394329771945641"
      ]
     },
     "execution_count": 92,
     "metadata": {},
     "output_type": "execute_result"
    }
   ],
   "source": [
    "t = (p1-p0)/(np.sqrt(p*(1-p)*(1/n0 + 1/n1)));t"
   ]
  },
  {
   "cell_type": "markdown",
   "id": "bc238835",
   "metadata": {},
   "source": [
    "We have |t| = 0.04 < 1.64, so we can't reject the null hypothesis.\n",
    "Men don't take race into their decision "
   ]
  },
  {
   "cell_type": "markdown",
   "id": "1926cb0d",
   "metadata": {},
   "source": [
    "## Women & Men's most desired attributes in the opposite sex"
   ]
  },
  {
   "cell_type": "code",
   "execution_count": 7,
   "id": "e066672e",
   "metadata": {},
   "outputs": [
    {
     "data": {
      "image/png": "[encoded data removed]",
      "text/plain": [
       "<Figure size 432x432 with 1 Axes>"
      ]
     },
     "metadata": {},
     "output_type": "display_data"
    },
    {
     "data": {
      "image/png": "[encoded data removed]",
      "text/plain": [
       "<Figure size 432x432 with 1 Axes>"
      ]
     },
     "metadata": {},
     "output_type": "display_data"
    }
   ],
   "source": [
    "df = data.copy()\n",
    "# Set data\n",
    "dp = pd.DataFrame({\n",
    "'group': ['Men','Women','Ms','Ws'],\n",
    "'Attractiveness': [data[df['gender']==1]['attr1_1'].mean(), df[df['gender']==0]['attr1_1'].mean(), df[df['gender']==1]['attr1_s'].mean(), df[df['gender']==0]['attr1_s'].mean()],\n",
    "'Sincerity': [df[df['gender']==1]['sinc1_1'].mean(), df[df['gender']==0]['sinc1_1'].mean(), df[df['gender']==1]['sinc1_s'].mean(), df[df['gender']==0]['sinc1_s'].mean()],\n",
    "'Fun': [df[df['gender']==1]['fun1_1'].mean(), df[df['gender']==0]['fun1_1'].mean(), df[df['gender']==1]['fun1_s'].mean(), df[df['gender']==0]['fun1_s'].mean()],\n",
    "'Intelligence': [df[df['gender']==1]['intel1_1'].mean(), df[df['gender']==0]['intel1_1'].mean(), df[df['gender']==1]['intel1_s'].mean(), df[df['gender']==0]['intel1_s'].mean()],\n",
    "'Ambition': [df[df['gender']==1]['amb1_1'].mean(), df[df['gender']==0]['amb1_1'].mean(), df[df['gender']==1]['amb1_s'].mean(), df[df['gender']==0]['amb1_s'].mean()],\n",
    "})\n",
    " \n",
    "# ------- PART 1: Create background\n",
    " \n",
    "# number of variable\n",
    "categories=list(dp)[1:]\n",
    "N = len(categories)\n",
    " \n",
    "# What will be the angle of each axis in the plot? (we divide the plot / number of variable)\n",
    "angles = [n / float(N) * 2 * np.pi for n in range(N)]\n",
    "angles += angles[:1]\n",
    " \n",
    "# Initialise the spider plot\n",
    "fig = plt.figure(figsize=(6, 6))\n",
    "ax = fig.add_subplot(111, polar=True)\n",
    " \n",
    "# If you want the first axis to be on top:\n",
    "ax.set_theta_offset(np.pi / 2)\n",
    "ax.set_theta_direction(-1)\n",
    " \n",
    "# Draw one axe per variable + add labels\n",
    "plt.xticks(angles[:-1], categories)\n",
    " \n",
    "# Draw ylabels\n",
    "ax.set_rlabel_position(0)\n",
    "plt.yticks([5,10,20], [\"5\",\"10\",\"20\"], color=\"grey\", size=7)\n",
    "plt.ylim(0,30)\n",
    " \n",
    "\n",
    "# ------- PART 2: Add plots\n",
    " \n",
    "# Plot each individual = each line of the data\n",
    "# I don't make a loop, because plotting more than 3 groups makes the chart unreadable\n",
    " \n",
    "# Ind1\n",
    "values=dp.loc[0].drop('group').values.flatten().tolist()\n",
    "values += values[:1]\n",
    "ax.plot(angles, values, linewidth=1, linestyle='solid', label=\"Men\")\n",
    "ax.fill(angles, values, 'b', alpha=0.1)\n",
    " \n",
    "# Ind2\n",
    "values=dp.loc[1].drop('group').values.flatten().tolist()\n",
    "values += values[:1]\n",
    "ax.plot(angles, values, linewidth=1, linestyle='solid', label=\"Women\")\n",
    "ax.fill(angles, values, 'r', alpha=0.1)\n",
    " \n",
    "# Add legend\n",
    "plt.legend(loc='upper right', bbox_to_anchor=(0.1, 0.1))\n",
    "\n",
    "#title\n",
    "plt.title(\"Women & Men's most desired attributes in the opposite sex before speed dating\")\n",
    "\n",
    "# Show the graph\n",
    "plt.show()\n",
    "\n",
    "\n",
    "#----------------------2nd plot--------------\n",
    "fig2 = plt.figure(figsize=(6, 6))\n",
    "ax2 = fig2.add_subplot(111, polar=True)\n",
    "\n",
    "# If you want the first axis to be on top:\n",
    "ax2.set_theta_offset(np.pi / 2)\n",
    "ax2.set_theta_direction(-1)\n",
    " \n",
    "# Draw one axe per variable + add labels\n",
    "plt.xticks(angles[:-1], categories)\n",
    " \n",
    "# Draw ylabels\n",
    "ax.set_rlabel_position(0)\n",
    "plt.yticks([5,10,20], [\"5\",\"10\",\"20\"], color=\"grey\", size=7)\n",
    "plt.ylim(0,30)\n",
    " \n",
    "\n",
    "# ------- PART 2: Add plots\n",
    " \n",
    "# Plot each individual = each line of the data\n",
    "# I don't make a loop, because plotting more than 3 groups makes the chart unreadable\n",
    " \n",
    "# Ind1\n",
    "values=dp.loc[2].drop('group').values.flatten().tolist()\n",
    "values += values[:1]\n",
    "ax2.plot(angles, values, linewidth=1, linestyle='solid', label=\"Men in date\")\n",
    "ax2.fill(angles, values, 'b', alpha=0.1)\n",
    " \n",
    "# Ind2\n",
    "values=dp.loc[3].drop('group').values.flatten().tolist()\n",
    "values += values[:1]\n",
    "ax2.plot(angles, values, linewidth=1, linestyle='solid', label=\"Women in date\")\n",
    "ax2.fill(angles, values, 'r', alpha=0.1)\n",
    " \n",
    "# Add legend\n",
    "plt.legend(loc='upper right', bbox_to_anchor=(0.1, 0.1))\n",
    "\n",
    "#title\n",
    "plt.title(\"Women & Men's most desired attributes in the opposite sex in the middle of the speed dating\")\n",
    "\n",
    "# Show the graph\n",
    "plt.show()"
   ]
  },
  {
   "cell_type": "markdown",
   "id": "82766c84",
   "metadata": {},
   "source": [
    "We can see that before the speedating, Women put greater weight on the intelligence of partner, while men respond more to physical attractiveness. But during the speedating, the women reduced their expectations of the partner's intelligence while the men's opinion remained practically unchanged."
   ]
  },
  {
   "cell_type": "code",
   "execution_count": 8,
   "id": "f334eb2b",
   "metadata": {},
   "outputs": [
    {
     "data": {
      "image/png": "[encoded data removed]",
      "text/plain": [
       "<Figure size 432x432 with 1 Axes>"
      ]
     },
     "metadata": {},
     "output_type": "display_data"
    }
   ],
   "source": [
    "# Set data\n",
    "drp = pd.DataFrame({\n",
    "'group': ['Men','Women'],\n",
    "'Attractiveness': [df[(df['gender']==1) & (df['match']==1)]['attr'].mean(), df[(df['gender']==0) & (df['match']==1)]['attr'].mean()],\n",
    "'Sincerity': [df[(df['gender']==1) & (df['match']==1)]['sinc'].mean(), df[(df['gender']==0) & (df['match']==1)]['sinc'].mean()],\n",
    "'Fun': [df[(df['gender']==1) & (df['match']==1)]['fun'].mean(), df[(df['gender']==0) & (df['match']==1)]['fun'].mean()],\n",
    "'Intelligence': [df[(df['gender']==1) & (df['match']==1)]['intel'].mean(), df[(df['gender']==0) & (df['match']==1)]['intel'].mean()],\n",
    "'Ambition': [df[(df['gender']==1) & (df['match']==1)]['amb'].mean(), df[(df['gender']==0) & (df['match']==1)]['amb'].mean()],\n",
    "})\n",
    " \n",
    "# ------- PART 1: Create background\n",
    " \n",
    "# number of variable\n",
    "categories=list(drp)[1:]\n",
    "N = len(categories)\n",
    " \n",
    "# What will be the angle of each axis in the plot? (we divide the plot / number of variable)\n",
    "angles = [n / float(N) * 2 * np.pi for n in range(N)]\n",
    "angles += angles[:1]\n",
    " \n",
    "# Initialise the spider plot\n",
    "fig = plt.figure(figsize=(6, 6))\n",
    "ax = fig.add_subplot(111, polar=True)\n",
    " \n",
    "# If you want the first axis to be on top:\n",
    "ax.set_theta_offset(np.pi / 2)\n",
    "ax.set_theta_direction(-1)\n",
    " \n",
    "# Draw one axe per variable + add labels\n",
    "plt.xticks(angles[:-1], categories)\n",
    " \n",
    "# Draw ylabels\n",
    "ax.set_rlabel_position(0)\n",
    "plt.yticks([4,6,8], [\"5\",\"10\",\"20\"], color=\"grey\", size=7)\n",
    "plt.ylim(0,10) \n",
    " \n",
    "\n",
    "# ------- PART 2: Add plots\n",
    " \n",
    "# Plot each individual = each line of the data\n",
    "# I don't make a loop, because plotting more than 3 groups makes the chart unreadable\n",
    " \n",
    "# Ind1\n",
    "values=drp.loc[0].drop('group').values.flatten().tolist()\n",
    "values += values[:1]\n",
    "ax.plot(angles, values, linewidth=1, linestyle='solid', label=\"Men\")\n",
    "ax.fill(angles, values, 'b', alpha=0.1)\n",
    " \n",
    "# Ind2\n",
    "values=drp.loc[1].drop('group').values.flatten().tolist()\n",
    "values += values[:1]\n",
    "ax.plot(angles, values, linewidth=1, linestyle='solid', label=\"Women\")\n",
    "ax.fill(angles, values, 'r', alpha=0.1)\n",
    " \n",
    "# Add legend\n",
    "plt.legend(loc='upper right', bbox_to_anchor=(0.1, 0.1))\n",
    "\n",
    "#title\n",
    "plt.title(\"Women & Men's most desired attributes in the opposite sex that actually matched\")\n",
    "\n",
    "# Show the graph\n",
    "\n",
    "plt.show()"
   ]
  },
  {
   "cell_type": "markdown",
   "id": "57e18583",
   "metadata": {},
   "source": [
    "When it comes to the people who actually matched, we can see that no particular attribute stands out and that in reality what's more important is a balance in all attributes."
   ]
  },
  {
   "cell_type": "markdown",
   "id": "a5ead6a6",
   "metadata": {},
   "source": [
    "# Modeling"
   ]
  },
  {
   "cell_type": "code",
   "execution_count": 25,
   "id": "28924dd6",
   "metadata": {},
   "outputs": [],
   "source": [
    "from sklearn.decomposition import PCA\n",
    "from sklearn.preprocessing import StandardScaler"
   ]
  },
  {
   "cell_type": "code",
   "execution_count": 26,
   "id": "0ae030ba",
   "metadata": {},
   "outputs": [],
   "source": [
    "def benchmark(X,y,model = LogisticRegression(), test_size = 0.2):\n",
    "    X_train, X_test, y_train, y_test = train_test_split(X, y, test_size = test_size, random_state=42)\n",
    "    model.fit(X_train, y_train)\n",
    "    y_test_pred = model.predict(X_test)\n",
    "    y_train_pred = model.predict(X_train)\n",
    "    accuracy_test = accuracy_score(y_test, y_test_pred)\n",
    "    accuracy_train = accuracy_score(y_train, y_train_pred)\n",
    "    print(\"Benchmark using a \" + str(model) + \" model and test size of \" + str(test_size)+ \"%\")\n",
    "    print(\"Accuracy on the training data:\", accuracy_train)\n",
    "    print(\"Accuracy on the test data:\", accuracy_test)"
   ]
  },
  {
   "cell_type": "markdown",
   "id": "aa6d4f3a",
   "metadata": {},
   "source": [
    "## PCA"
   ]
  },
  {
   "cell_type": "markdown",
   "id": "e79e35d9",
   "metadata": {},
   "source": [
    "As our dataset is fairly large, containing 100 columns, we start our analysis using Principal Component Analysis (PCA). PCA is a common technique used in data science to reduce the dimensionality of the data while retaining most of the relevant information. By reducing the number of variables, PCA can help us to better understand the underlying structure of the data, identify patterns and correlations, and potentially improve the performance of our machine learning models. Therefore, applying PCA to our dataset can be an effective way to deal with the challenge of high-dimensional data and improve the quality of our analysis."
   ]
  },
  {
   "cell_type": "markdown",
   "id": "c1557f99",
   "metadata": {},
   "source": [
    "### Without PCA"
   ]
  },
  {
   "cell_type": "markdown",
   "id": "bb8f94ad",
   "metadata": {},
   "source": [
    "First we will do a bench mark without using PCA."
   ]
  },
  {
   "cell_type": "code",
   "execution_count": 134,
   "id": "10b8f2a1",
   "metadata": {},
   "outputs": [],
   "source": [
    "df = data_small[numerical_variables + [x for x in categorical_variables if x not in [\"from\",\"career\",\"field\",\"dec\",\"dec_o\",\"match\"]]]\n",
    "X = df.copy()\n",
    "y = data_small[\"match\"]\n",
    "\n",
    "scaler = StandardScaler()\n",
    "X_std = scaler.fit_transform(X)\n",
    "X_std = np.nan_to_num(X_std, nan=0)"
   ]
  },
  {
   "cell_type": "code",
   "execution_count": 135,
   "id": "c616bf2d",
   "metadata": {},
   "outputs": [
    {
     "name": "stdout",
     "output_type": "stream",
     "text": [
      "Benchmark using a LogisticRegression() and test size of 0.2%\n",
      "Accuracy on the training data: 0.8676514473291554\n",
      "Accuracy on the test data: 0.8514319809069213\n"
     ]
    }
   ],
   "source": [
    "benchmark(X_std,y)"
   ]
  },
  {
   "cell_type": "markdown",
   "id": "93815b95",
   "metadata": {},
   "source": [
    "### PCA without categorical variables"
   ]
  },
  {
   "cell_type": "markdown",
   "id": "eb1c27a9",
   "metadata": {},
   "source": [
    "As a start, we will only work with numerical variables."
   ]
  },
  {
   "cell_type": "code",
   "execution_count": 136,
   "id": "c03502b4",
   "metadata": {},
   "outputs": [],
   "source": [
    "df = data_small[numerical_variables]"
   ]
  },
  {
   "cell_type": "code",
   "execution_count": 137,
   "id": "6b68f289",
   "metadata": {},
   "outputs": [
    {
     "data": {
      "text/plain": [
       "<AxesSubplot: >"
      ]
     },
     "execution_count": 137,
     "metadata": {},
     "output_type": "execute_result"
    },
    {
     "data": {
      "image/png": "[encoded data removed]",
      "text/plain": [
       "<Figure size 2000x1000 with 2 Axes>"
      ]
     },
     "metadata": {},
     "output_type": "display_data"
    }
   ],
   "source": [
    "plt.subplots(figsize=(20, 10))\n",
    "sns.heatmap(df.corr())"
   ]
  },
  {
   "cell_type": "markdown",
   "id": "9cc7d4c2",
   "metadata": {},
   "source": [
    "We can see groups of highly correlated variables in the heatmap, which indicates multicollinearity between these variables. Multicollinearity can cause issues in statistical models, such as inflated standard errors and unreliable coefficients. This is where PCA can be useful in reducing the dimensionality of the dataset while still retaining the most important information."
   ]
  },
  {
   "cell_type": "code",
   "execution_count": 138,
   "id": "9e139bf9",
   "metadata": {},
   "outputs": [],
   "source": [
    "X = df.copy()\n",
    "y = data_small[\"match\"]\n",
    "scaler = StandardScaler()\n",
    "X_std = scaler.fit_transform(X)\n",
    "X_std = np.nan_to_num(X_std, nan=0)"
   ]
  },
  {
   "cell_type": "code",
   "execution_count": 139,
   "id": "cb29b507",
   "metadata": {},
   "outputs": [
    {
     "data": {
      "text/plain": [
       "PCA()"
      ]
     },
     "execution_count": 139,
     "metadata": {},
     "output_type": "execute_result"
    }
   ],
   "source": [
    "pca = PCA()\n",
    "pca.fit(X_std)"
   ]
  },
  {
   "cell_type": "code",
   "execution_count": 140,
   "id": "567adaf6",
   "metadata": {},
   "outputs": [
    {
     "data": {
      "image/png": "[encoded data removed]",
      "text/plain": [
       "<Figure size 640x480 with 1 Axes>"
      ]
     },
     "metadata": {},
     "output_type": "display_data"
    }
   ],
   "source": [
    "plt.plot(np.cumsum(pca.explained_variance_ratio_))\n",
    "plt.xlabel('Number of Components')\n",
    "plt.ylabel('Cumulative Explained Variance')\n",
    "plt.show()\n"
   ]
  },
  {
   "cell_type": "code",
   "execution_count": 141,
   "id": "4f196a7a",
   "metadata": {},
   "outputs": [],
   "source": [
    "n_components = 65 \n",
    "pca = PCA(n_components=n_components)\n",
    "X_pca = pca.fit_transform(X_std)"
   ]
  },
  {
   "cell_type": "code",
   "execution_count": 142,
   "id": "c602fa2c",
   "metadata": {},
   "outputs": [
    {
     "name": "stdout",
     "output_type": "stream",
     "text": [
      "Benchmark using a LogisticRegression() and test size of 0.2%\n",
      "Accuracy on the training data: 0.8627275440167115\n",
      "Accuracy on the test data: 0.8544152744630071\n"
     ]
    }
   ],
   "source": [
    "# We will benchmark the performance of out analysis using a logistic regression model\n",
    "benchmark(X_pca,y)"
   ]
  },
  {
   "cell_type": "markdown",
   "id": "7ede62a5",
   "metadata": {},
   "source": [
    "We can see that a logistic regression model trained on our \"X_pca\" performe a bit better than the base model."
   ]
  },
  {
   "cell_type": "markdown",
   "id": "f624d8fd",
   "metadata": {},
   "source": [
    "### PCA with categorical variables"
   ]
  },
  {
   "cell_type": "raw",
   "id": "88b89663",
   "metadata": {},
   "source": [
    "change this !!!!!"
   ]
  },
  {
   "cell_type": "markdown",
   "id": "fec6fe07",
   "metadata": {},
   "source": [
    "To use categorical variables in PCA we would need to turn them into numerical variables through onehot or ordinal encoding. However, that was already done. We will only remove **\"from\"**, **\"career\"**, **\"field\"** and we will use their encoded counterparts **\"from_c\"**, **\"career_c\"**, **\"field_cd\"**. \n",
    "\n",
    "We will also remove the variables **\"dec\"** and **\"dec_o\"** because they are a dead giveaway for the target variable (match = dec * dec_o)"
   ]
  },
  {
   "cell_type": "code",
   "execution_count": 21,
   "id": "b94a65c5",
   "metadata": {},
   "outputs": [
    {
     "name": "stdout",
     "output_type": "stream",
     "text": [
      "['gender', 'condtn', 'wave', 'match', 'samerace', 'dec_o', 'field', 'undergra', 'from', 'from_c', 'career', 'dec', 'race_o', 'met_o', 'field_cd', 'race', 'imprace', 'imprelig', 'zipcode', 'goal', 'date', 'go_out', 'career_c', 'met', 'numdat_2']\n"
     ]
    }
   ],
   "source": [
    "print(categorical_variables)"
   ]
  },
  {
   "cell_type": "code",
   "execution_count": 22,
   "id": "2f1b9410",
   "metadata": {},
   "outputs": [],
   "source": [
    "df = data_small[numerical_variables + [x for x in categorical_variables if x not in [\"from\",\"career\",\"field\",\"dec\",\"dec_o\",\"match\"]]]"
   ]
  },
  {
   "cell_type": "code",
   "execution_count": 27,
   "id": "1b106265",
   "metadata": {},
   "outputs": [],
   "source": [
    "X = df.copy()\n",
    "y = data_small[\"match\"]\n",
    "scaler = StandardScaler()\n",
    "X_std = scaler.fit_transform(X)\n",
    "X_std = np.nan_to_num(X_std, nan=0)"
   ]
  },
  {
   "cell_type": "code",
   "execution_count": 28,
   "id": "ce78c631",
   "metadata": {},
   "outputs": [
    {
     "data": {
      "text/plain": [
       "PCA()"
      ]
     },
     "execution_count": 28,
     "metadata": {},
     "output_type": "execute_result"
    }
   ],
   "source": [
    "pca = PCA()\n",
    "pca.fit(X_std)"
   ]
  },
  {
   "cell_type": "code",
   "execution_count": 30,
   "id": "3afd75c5",
   "metadata": {},
   "outputs": [
    {
     "data": {
      "text/plain": [
       "(8378, 95)"
      ]
     },
     "execution_count": 30,
     "metadata": {},
     "output_type": "execute_result"
    }
   ],
   "source": [
    "df.shape"
   ]
  },
  {
   "cell_type": "code",
   "execution_count": 147,
   "id": "002dff8d",
   "metadata": {},
   "outputs": [
    {
     "data": {
      "image/png": "[encoded data removed]",
      "text/plain": [
       "<Figure size 640x480 with 1 Axes>"
      ]
     },
     "metadata": {},
     "output_type": "display_data"
    }
   ],
   "source": [
    "plt.plot(np.cumsum(pca.explained_variance_ratio_))\n",
    "plt.xlabel('Number of Components')\n",
    "plt.ylabel('Cumulative Explained Variance')\n",
    "plt.show()\n"
   ]
  },
  {
   "cell_type": "code",
   "execution_count": 148,
   "id": "5cad2717",
   "metadata": {},
   "outputs": [],
   "source": [
    "n_components = 90 \n",
    "pca = PCA(n_components=n_components)\n",
    "X_pca = pca.fit_transform(X_std)"
   ]
  },
  {
   "cell_type": "code",
   "execution_count": 149,
   "id": "c1ee6f47",
   "metadata": {},
   "outputs": [
    {
     "name": "stdout",
     "output_type": "stream",
     "text": [
      "Benchmark using a LogisticRegression() and test size of 0.2%\n",
      "Accuracy on the training data: 0.8672038197552969\n",
      "Accuracy on the test data: 0.8520286396181385\n"
     ]
    }
   ],
   "source": [
    "# logistic regression benchmark\n",
    "benchmark(X_pca,y)"
   ]
  },
  {
   "cell_type": "markdown",
   "id": "9ad31dc7",
   "metadata": {},
   "source": [
    "### Summary"
   ]
  },
  {
   "cell_type": "markdown",
   "id": "b5c7f2f5",
   "metadata": {},
   "source": [
    "|       | Without PCA | PCA without categorical variables | PCA with categorical variables |\n",
    "|-------|----------|----------|----------|\n",
    "| Accuracy on the training data     | 0.8676 | 0.8627 | 0.8672 |\n",
    "| Accuracy on the test data     | 0.8514 | 0.8544 | 0.8520 |\n",
    "\n"
   ]
  },
  {
   "cell_type": "markdown",
   "id": "e86a3af8",
   "metadata": {},
   "source": [
    "Overall, PCA improved accuracy on the test dataset and thus reducing overfitting. However the increase in accuracy wasn't significant."
   ]
  },
  {
   "cell_type": "markdown",
   "id": "ccdaf212",
   "metadata": {},
   "source": [
    "## A more practical model"
   ]
  },
  {
   "cell_type": "markdown",
   "id": "ee84a343",
   "metadata": {},
   "source": [
    "So far we were working with **data_small** as our dataset to predect matching. However **data_small** contain information specefic to the speed dating experiement. Building a model that predect matching for this specefic setup doesn't seems interesting, that's why we decided to create a new dataset called **data_to_model** that we think will lead to build a more usefull and practical model to predict matches because it only uses backround information about the man and woman involved in the date."
   ]
  },
  {
   "cell_type": "code",
   "execution_count": 4,
   "id": "1aa184d7",
   "metadata": {},
   "outputs": [
    {
     "data": {
      "text/html": [
       "<div>\n",
       "<style scoped>\n",
       "    .dataframe tbody tr th:only-of-type {\n",
       "        vertical-align: middle;\n",
       "    }\n",
       "\n",
       "    .dataframe tbody tr th {\n",
       "        vertical-align: top;\n",
       "    }\n",
       "\n",
       "    .dataframe thead th {\n",
       "        text-align: right;\n",
       "    }\n",
       "</style>\n",
       "<table border=\"1\" class=\"dataframe\">\n",
       "  <thead>\n",
       "    <tr style=\"text-align: right;\">\n",
       "      <th></th>\n",
       "      <th>id</th>\n",
       "      <th>condtn</th>\n",
       "      <th>int_corr</th>\n",
       "      <th>samerace</th>\n",
       "      <th>match</th>\n",
       "      <th>race_m</th>\n",
       "      <th>race_w</th>\n",
       "      <th>field_cd_m</th>\n",
       "      <th>field_cd_w</th>\n",
       "      <th>undergra_m</th>\n",
       "      <th>...</th>\n",
       "      <th>amb_m</th>\n",
       "      <th>amb_w</th>\n",
       "      <th>shar_m</th>\n",
       "      <th>shar_w</th>\n",
       "      <th>like_m</th>\n",
       "      <th>like_w</th>\n",
       "      <th>prob_m</th>\n",
       "      <th>prob_w</th>\n",
       "      <th>met_m</th>\n",
       "      <th>met_w</th>\n",
       "    </tr>\n",
       "  </thead>\n",
       "  <tbody>\n",
       "    <tr>\n",
       "      <th>0</th>\n",
       "      <td>(11, 1)</td>\n",
       "      <td>1</td>\n",
       "      <td>0.14</td>\n",
       "      <td>0</td>\n",
       "      <td>0</td>\n",
       "      <td>2.0</td>\n",
       "      <td>4.0</td>\n",
       "      <td>8.0</td>\n",
       "      <td>1.0</td>\n",
       "      <td>0</td>\n",
       "      <td>...</td>\n",
       "      <td>8.0</td>\n",
       "      <td>6.0</td>\n",
       "      <td>6.0</td>\n",
       "      <td>5.0</td>\n",
       "      <td>7.0</td>\n",
       "      <td>7.0</td>\n",
       "      <td>4.0</td>\n",
       "      <td>6.0</td>\n",
       "      <td>2.0</td>\n",
       "      <td>2.0</td>\n",
       "    </tr>\n",
       "    <tr>\n",
       "      <th>1</th>\n",
       "      <td>(12, 1)</td>\n",
       "      <td>1</td>\n",
       "      <td>0.54</td>\n",
       "      <td>0</td>\n",
       "      <td>0</td>\n",
       "      <td>2.0</td>\n",
       "      <td>4.0</td>\n",
       "      <td>1.0</td>\n",
       "      <td>1.0</td>\n",
       "      <td>0</td>\n",
       "      <td>...</td>\n",
       "      <td>7.0</td>\n",
       "      <td>5.0</td>\n",
       "      <td>5.0</td>\n",
       "      <td>6.0</td>\n",
       "      <td>8.0</td>\n",
       "      <td>7.0</td>\n",
       "      <td>4.0</td>\n",
       "      <td>5.0</td>\n",
       "      <td>2.0</td>\n",
       "      <td>1.0</td>\n",
       "    </tr>\n",
       "    <tr>\n",
       "      <th>2</th>\n",
       "      <td>(13, 1)</td>\n",
       "      <td>1</td>\n",
       "      <td>0.16</td>\n",
       "      <td>1</td>\n",
       "      <td>1</td>\n",
       "      <td>4.0</td>\n",
       "      <td>4.0</td>\n",
       "      <td>1.0</td>\n",
       "      <td>1.0</td>\n",
       "      <td>0</td>\n",
       "      <td>...</td>\n",
       "      <td>10.0</td>\n",
       "      <td>5.0</td>\n",
       "      <td>10.0</td>\n",
       "      <td>7.0</td>\n",
       "      <td>10.0</td>\n",
       "      <td>7.0</td>\n",
       "      <td>10.0</td>\n",
       "      <td>NaN</td>\n",
       "      <td>1.0</td>\n",
       "      <td>1.0</td>\n",
       "    </tr>\n",
       "    <tr>\n",
       "      <th>3</th>\n",
       "      <td>(14, 1)</td>\n",
       "      <td>1</td>\n",
       "      <td>0.61</td>\n",
       "      <td>0</td>\n",
       "      <td>1</td>\n",
       "      <td>2.0</td>\n",
       "      <td>4.0</td>\n",
       "      <td>1.0</td>\n",
       "      <td>1.0</td>\n",
       "      <td>0</td>\n",
       "      <td>...</td>\n",
       "      <td>9.0</td>\n",
       "      <td>6.0</td>\n",
       "      <td>8.0</td>\n",
       "      <td>8.0</td>\n",
       "      <td>7.0</td>\n",
       "      <td>7.0</td>\n",
       "      <td>7.0</td>\n",
       "      <td>6.0</td>\n",
       "      <td>2.0</td>\n",
       "      <td>2.0</td>\n",
       "    </tr>\n",
       "    <tr>\n",
       "      <th>4</th>\n",
       "      <td>(15, 1)</td>\n",
       "      <td>1</td>\n",
       "      <td>0.21</td>\n",
       "      <td>0</td>\n",
       "      <td>1</td>\n",
       "      <td>3.0</td>\n",
       "      <td>4.0</td>\n",
       "      <td>1.0</td>\n",
       "      <td>1.0</td>\n",
       "      <td>0</td>\n",
       "      <td>...</td>\n",
       "      <td>9.0</td>\n",
       "      <td>6.0</td>\n",
       "      <td>7.0</td>\n",
       "      <td>6.0</td>\n",
       "      <td>8.0</td>\n",
       "      <td>6.0</td>\n",
       "      <td>6.0</td>\n",
       "      <td>6.0</td>\n",
       "      <td>2.0</td>\n",
       "      <td>2.0</td>\n",
       "    </tr>\n",
       "  </tbody>\n",
       "</table>\n",
       "<p>5 rows × 117 columns</p>\n",
       "</div>"
      ],
      "text/plain": [
       "        id  condtn  int_corr  samerace  match  race_m  race_w  field_cd_m  \\\n",
       "0  (11, 1)       1      0.14         0      0     2.0     4.0         8.0   \n",
       "1  (12, 1)       1      0.54         0      0     2.0     4.0         1.0   \n",
       "2  (13, 1)       1      0.16         1      1     4.0     4.0         1.0   \n",
       "3  (14, 1)       1      0.61         0      1     2.0     4.0         1.0   \n",
       "4  (15, 1)       1      0.21         0      1     3.0     4.0         1.0   \n",
       "\n",
       "   field_cd_w  undergra_m  ...  amb_m  amb_w  shar_m  shar_w  like_m  like_w  \\\n",
       "0         1.0           0  ...    8.0    6.0     6.0     5.0     7.0     7.0   \n",
       "1         1.0           0  ...    7.0    5.0     5.0     6.0     8.0     7.0   \n",
       "2         1.0           0  ...   10.0    5.0    10.0     7.0    10.0     7.0   \n",
       "3         1.0           0  ...    9.0    6.0     8.0     8.0     7.0     7.0   \n",
       "4         1.0           0  ...    9.0    6.0     7.0     6.0     8.0     6.0   \n",
       "\n",
       "   prob_m  prob_w  met_m  met_w  \n",
       "0     4.0     6.0    2.0    2.0  \n",
       "1     4.0     5.0    2.0    1.0  \n",
       "2    10.0     NaN    1.0    1.0  \n",
       "3     7.0     6.0    2.0    2.0  \n",
       "4     6.0     6.0    2.0    2.0  \n",
       "\n",
       "[5 rows x 117 columns]"
      ]
     },
     "execution_count": 4,
     "metadata": {},
     "output_type": "execute_result"
    }
   ],
   "source": [
    "data_to_model.head()"
   ]
  },
  {
   "cell_type": "markdown",
   "id": "aba2f2bb",
   "metadata": {},
   "source": [
    "In **data_to_model** a date is identified by an id that combine iid and pid. Unlike the original dataset, in **data_to_model** a date is represented only once. Each row/date contain information related to the experiemental setup and background information about the man and woman involved. "
   ]
  },
  {
   "cell_type": "code",
   "execution_count": 5,
   "id": "8ababb91",
   "metadata": {},
   "outputs": [],
   "source": [
    "# print(data_to_model.columns.tolist())"
   ]
  },
  {
   "cell_type": "markdown",
   "id": "32ac7c96",
   "metadata": {},
   "source": [
    "We will only use data that is independent than the experiement in our modeling."
   ]
  },
  {
   "cell_type": "code",
   "execution_count": 6,
   "id": "7d797bb3",
   "metadata": {},
   "outputs": [],
   "source": [
    "df = data_to_model.drop(columns = ['condtn','int_corr', 'samerace','attr_m', 'attr_w', 'sinc_m', 'sinc_w', 'intel_m', 'intel_w', 'fun_m', 'fun_w', 'amb_m', 'amb_w', 'shar_m', 'shar_w', 'like_m', 'like_w', 'prob_m', 'prob_w', 'met_m', 'met_w'])"
   ]
  },
  {
   "cell_type": "markdown",
   "id": "d44bbed8",
   "metadata": {},
   "source": [
    "We will be using a package called **pycaret** that make it easy to compare the performance of multiple models."
   ]
  },
  {
   "cell_type": "code",
   "execution_count": 8,
   "id": "368c5694",
   "metadata": {},
   "outputs": [],
   "source": [
    "from pycaret.classification import *"
   ]
  },
  {
   "cell_type": "code",
   "execution_count": 9,
   "id": "46d6fc60",
   "metadata": {},
   "outputs": [],
   "source": [
    "X = df.drop(columns = [\"id\",'dec_m','dec_w'])\n",
    "target = \"match\""
   ]
  },
  {
   "cell_type": "code",
   "execution_count": 10,
   "id": "3c79c929",
   "metadata": {},
   "outputs": [],
   "source": [
    "X_train,X_test= train_test_split(X, test_size=0.1, random_state = 0)"
   ]
  },
  {
   "cell_type": "code",
   "execution_count": 11,
   "id": "90f9f2fc",
   "metadata": {},
   "outputs": [
    {
     "data": {
      "text/html": [
       "<style type=\"text/css\">\n",
       "#T_d1c15_row9_col1 {\n",
       "  background-color: lightgreen;\n",
       "}\n",
       "</style>\n",
       "<table id=\"T_d1c15\">\n",
       "  <thead>\n",
       "    <tr>\n",
       "      <th class=\"blank level0\" >&nbsp;</th>\n",
       "      <th id=\"T_d1c15_level0_col0\" class=\"col_heading level0 col0\" >Description</th>\n",
       "      <th id=\"T_d1c15_level0_col1\" class=\"col_heading level0 col1\" >Value</th>\n",
       "    </tr>\n",
       "  </thead>\n",
       "  <tbody>\n",
       "    <tr>\n",
       "      <th id=\"T_d1c15_level0_row0\" class=\"row_heading level0 row0\" >0</th>\n",
       "      <td id=\"T_d1c15_row0_col0\" class=\"data row0 col0\" >Session id</td>\n",
       "      <td id=\"T_d1c15_row0_col1\" class=\"data row0 col1\" >5820</td>\n",
       "    </tr>\n",
       "    <tr>\n",
       "      <th id=\"T_d1c15_level0_row1\" class=\"row_heading level0 row1\" >1</th>\n",
       "      <td id=\"T_d1c15_row1_col0\" class=\"data row1 col0\" >Target</td>\n",
       "      <td id=\"T_d1c15_row1_col1\" class=\"data row1 col1\" >match</td>\n",
       "    </tr>\n",
       "    <tr>\n",
       "      <th id=\"T_d1c15_level0_row2\" class=\"row_heading level0 row2\" >2</th>\n",
       "      <td id=\"T_d1c15_row2_col0\" class=\"data row2 col0\" >Target type</td>\n",
       "      <td id=\"T_d1c15_row2_col1\" class=\"data row2 col1\" >Binary</td>\n",
       "    </tr>\n",
       "    <tr>\n",
       "      <th id=\"T_d1c15_level0_row3\" class=\"row_heading level0 row3\" >3</th>\n",
       "      <td id=\"T_d1c15_row3_col0\" class=\"data row3 col0\" >Original data shape</td>\n",
       "      <td id=\"T_d1c15_row3_col1\" class=\"data row3 col1\" >(4194, 93)</td>\n",
       "    </tr>\n",
       "    <tr>\n",
       "      <th id=\"T_d1c15_level0_row4\" class=\"row_heading level0 row4\" >4</th>\n",
       "      <td id=\"T_d1c15_row4_col0\" class=\"data row4 col0\" >Transformed data shape</td>\n",
       "      <td id=\"T_d1c15_row4_col1\" class=\"data row4 col1\" >(4194, 93)</td>\n",
       "    </tr>\n",
       "    <tr>\n",
       "      <th id=\"T_d1c15_level0_row5\" class=\"row_heading level0 row5\" >5</th>\n",
       "      <td id=\"T_d1c15_row5_col0\" class=\"data row5 col0\" >Transformed train set shape</td>\n",
       "      <td id=\"T_d1c15_row5_col1\" class=\"data row5 col1\" >(3774, 93)</td>\n",
       "    </tr>\n",
       "    <tr>\n",
       "      <th id=\"T_d1c15_level0_row6\" class=\"row_heading level0 row6\" >6</th>\n",
       "      <td id=\"T_d1c15_row6_col0\" class=\"data row6 col0\" >Transformed test set shape</td>\n",
       "      <td id=\"T_d1c15_row6_col1\" class=\"data row6 col1\" >(420, 93)</td>\n",
       "    </tr>\n",
       "    <tr>\n",
       "      <th id=\"T_d1c15_level0_row7\" class=\"row_heading level0 row7\" >7</th>\n",
       "      <td id=\"T_d1c15_row7_col0\" class=\"data row7 col0\" >Numeric features</td>\n",
       "      <td id=\"T_d1c15_row7_col1\" class=\"data row7 col1\" >92</td>\n",
       "    </tr>\n",
       "    <tr>\n",
       "      <th id=\"T_d1c15_level0_row8\" class=\"row_heading level0 row8\" >8</th>\n",
       "      <td id=\"T_d1c15_row8_col0\" class=\"data row8 col0\" >Rows with missing values</td>\n",
       "      <td id=\"T_d1c15_row8_col1\" class=\"data row8 col1\" >24.7%</td>\n",
       "    </tr>\n",
       "    <tr>\n",
       "      <th id=\"T_d1c15_level0_row9\" class=\"row_heading level0 row9\" >9</th>\n",
       "      <td id=\"T_d1c15_row9_col0\" class=\"data row9 col0\" >Preprocess</td>\n",
       "      <td id=\"T_d1c15_row9_col1\" class=\"data row9 col1\" >True</td>\n",
       "    </tr>\n",
       "    <tr>\n",
       "      <th id=\"T_d1c15_level0_row10\" class=\"row_heading level0 row10\" >10</th>\n",
       "      <td id=\"T_d1c15_row10_col0\" class=\"data row10 col0\" >Imputation type</td>\n",
       "      <td id=\"T_d1c15_row10_col1\" class=\"data row10 col1\" >simple</td>\n",
       "    </tr>\n",
       "    <tr>\n",
       "      <th id=\"T_d1c15_level0_row11\" class=\"row_heading level0 row11\" >11</th>\n",
       "      <td id=\"T_d1c15_row11_col0\" class=\"data row11 col0\" >Numeric imputation</td>\n",
       "      <td id=\"T_d1c15_row11_col1\" class=\"data row11 col1\" >mean</td>\n",
       "    </tr>\n",
       "    <tr>\n",
       "      <th id=\"T_d1c15_level0_row12\" class=\"row_heading level0 row12\" >12</th>\n",
       "      <td id=\"T_d1c15_row12_col0\" class=\"data row12 col0\" >Categorical imputation</td>\n",
       "      <td id=\"T_d1c15_row12_col1\" class=\"data row12 col1\" >mode</td>\n",
       "    </tr>\n",
       "    <tr>\n",
       "      <th id=\"T_d1c15_level0_row13\" class=\"row_heading level0 row13\" >13</th>\n",
       "      <td id=\"T_d1c15_row13_col0\" class=\"data row13 col0\" >Fold Generator</td>\n",
       "      <td id=\"T_d1c15_row13_col1\" class=\"data row13 col1\" >StratifiedKFold</td>\n",
       "    </tr>\n",
       "    <tr>\n",
       "      <th id=\"T_d1c15_level0_row14\" class=\"row_heading level0 row14\" >14</th>\n",
       "      <td id=\"T_d1c15_row14_col0\" class=\"data row14 col0\" >Fold Number</td>\n",
       "      <td id=\"T_d1c15_row14_col1\" class=\"data row14 col1\" >10</td>\n",
       "    </tr>\n",
       "    <tr>\n",
       "      <th id=\"T_d1c15_level0_row15\" class=\"row_heading level0 row15\" >15</th>\n",
       "      <td id=\"T_d1c15_row15_col0\" class=\"data row15 col0\" >CPU Jobs</td>\n",
       "      <td id=\"T_d1c15_row15_col1\" class=\"data row15 col1\" >-1</td>\n",
       "    </tr>\n",
       "    <tr>\n",
       "      <th id=\"T_d1c15_level0_row16\" class=\"row_heading level0 row16\" >16</th>\n",
       "      <td id=\"T_d1c15_row16_col0\" class=\"data row16 col0\" >Use GPU</td>\n",
       "      <td id=\"T_d1c15_row16_col1\" class=\"data row16 col1\" >False</td>\n",
       "    </tr>\n",
       "    <tr>\n",
       "      <th id=\"T_d1c15_level0_row17\" class=\"row_heading level0 row17\" >17</th>\n",
       "      <td id=\"T_d1c15_row17_col0\" class=\"data row17 col0\" >Log Experiment</td>\n",
       "      <td id=\"T_d1c15_row17_col1\" class=\"data row17 col1\" >False</td>\n",
       "    </tr>\n",
       "    <tr>\n",
       "      <th id=\"T_d1c15_level0_row18\" class=\"row_heading level0 row18\" >18</th>\n",
       "      <td id=\"T_d1c15_row18_col0\" class=\"data row18 col0\" >Experiment Name</td>\n",
       "      <td id=\"T_d1c15_row18_col1\" class=\"data row18 col1\" >clf-default-name</td>\n",
       "    </tr>\n",
       "    <tr>\n",
       "      <th id=\"T_d1c15_level0_row19\" class=\"row_heading level0 row19\" >19</th>\n",
       "      <td id=\"T_d1c15_row19_col0\" class=\"data row19 col0\" >USI</td>\n",
       "      <td id=\"T_d1c15_row19_col1\" class=\"data row19 col1\" >99b5</td>\n",
       "    </tr>\n",
       "  </tbody>\n",
       "</table>\n"
      ],
      "text/plain": [
       "<pandas.io.formats.style.Styler at 0x21f65029a30>"
      ]
     },
     "metadata": {},
     "output_type": "display_data"
    },
    {
     "data": {
      "text/plain": [
       "<pycaret.classification.oop.ClassificationExperiment at 0x21f64515c70>"
      ]
     },
     "execution_count": 11,
     "metadata": {},
     "output_type": "execute_result"
    }
   ],
   "source": [
    "s = ClassificationExperiment()\n",
    "s.setup(X_train, target = target,test_data = X_test)"
   ]
  },
  {
   "cell_type": "code",
   "execution_count": 12,
   "id": "aea90990",
   "metadata": {},
   "outputs": [
    {
     "data": {
      "text/html": [],
      "text/plain": [
       "<IPython.core.display.HTML object>"
      ]
     },
     "metadata": {},
     "output_type": "display_data"
    },
    {
     "data": {
      "text/html": [
       "<style type=\"text/css\">\n",
       "#T_f9c89 th {\n",
       "  text-align: left;\n",
       "}\n",
       "#T_f9c89_row0_col0, #T_f9c89_row0_col2, #T_f9c89_row0_col3, #T_f9c89_row0_col4, #T_f9c89_row0_col5, #T_f9c89_row0_col6, #T_f9c89_row0_col7, #T_f9c89_row1_col0, #T_f9c89_row1_col3, #T_f9c89_row1_col5, #T_f9c89_row1_col6, #T_f9c89_row1_col7, #T_f9c89_row2_col0, #T_f9c89_row2_col1, #T_f9c89_row2_col2, #T_f9c89_row2_col3, #T_f9c89_row2_col4, #T_f9c89_row2_col5, #T_f9c89_row2_col6, #T_f9c89_row2_col7, #T_f9c89_row3_col0, #T_f9c89_row3_col1, #T_f9c89_row3_col2, #T_f9c89_row3_col3, #T_f9c89_row3_col4, #T_f9c89_row3_col5, #T_f9c89_row3_col6, #T_f9c89_row3_col7, #T_f9c89_row4_col0, #T_f9c89_row4_col1, #T_f9c89_row4_col2, #T_f9c89_row4_col3, #T_f9c89_row4_col4, #T_f9c89_row4_col5, #T_f9c89_row4_col6, #T_f9c89_row4_col7, #T_f9c89_row5_col0, #T_f9c89_row5_col1, #T_f9c89_row5_col2, #T_f9c89_row5_col3, #T_f9c89_row5_col4, #T_f9c89_row5_col5, #T_f9c89_row5_col6, #T_f9c89_row5_col7, #T_f9c89_row6_col0, #T_f9c89_row6_col1, #T_f9c89_row6_col2, #T_f9c89_row6_col3, #T_f9c89_row6_col4, #T_f9c89_row6_col5, #T_f9c89_row6_col6, #T_f9c89_row6_col7, #T_f9c89_row7_col0, #T_f9c89_row7_col1, #T_f9c89_row7_col2, #T_f9c89_row7_col3, #T_f9c89_row7_col4, #T_f9c89_row7_col5, #T_f9c89_row7_col6, #T_f9c89_row7_col7, #T_f9c89_row8_col0, #T_f9c89_row8_col1, #T_f9c89_row8_col2, #T_f9c89_row8_col3, #T_f9c89_row8_col4, #T_f9c89_row8_col5, #T_f9c89_row8_col6, #T_f9c89_row8_col7, #T_f9c89_row9_col0, #T_f9c89_row9_col1, #T_f9c89_row9_col2, #T_f9c89_row9_col3, #T_f9c89_row9_col4, #T_f9c89_row9_col5, #T_f9c89_row9_col6, #T_f9c89_row9_col7, #T_f9c89_row10_col0, #T_f9c89_row10_col1, #T_f9c89_row10_col2, #T_f9c89_row10_col3, #T_f9c89_row10_col4, #T_f9c89_row10_col5, #T_f9c89_row10_col6, #T_f9c89_row10_col7, #T_f9c89_row11_col0, #T_f9c89_row11_col1, #T_f9c89_row11_col2, #T_f9c89_row11_col4, #T_f9c89_row12_col0, #T_f9c89_row12_col1, #T_f9c89_row12_col2, #T_f9c89_row12_col3, #T_f9c89_row12_col4, #T_f9c89_row12_col5, #T_f9c89_row12_col6, #T_f9c89_row12_col7, #T_f9c89_row13_col0, #T_f9c89_row13_col1, #T_f9c89_row13_col2, #T_f9c89_row13_col3, #T_f9c89_row13_col4, #T_f9c89_row13_col5, #T_f9c89_row13_col6, #T_f9c89_row13_col7 {\n",
       "  text-align: left;\n",
       "}\n",
       "#T_f9c89_row0_col1, #T_f9c89_row1_col1, #T_f9c89_row1_col2, #T_f9c89_row1_col4, #T_f9c89_row11_col3, #T_f9c89_row11_col5, #T_f9c89_row11_col6, #T_f9c89_row11_col7 {\n",
       "  text-align: left;\n",
       "  background-color: yellow;\n",
       "}\n",
       "#T_f9c89_row0_col8, #T_f9c89_row1_col8, #T_f9c89_row2_col8, #T_f9c89_row3_col8, #T_f9c89_row4_col8, #T_f9c89_row5_col8, #T_f9c89_row6_col8, #T_f9c89_row7_col8, #T_f9c89_row8_col8, #T_f9c89_row9_col8, #T_f9c89_row10_col8, #T_f9c89_row11_col8, #T_f9c89_row12_col8 {\n",
       "  text-align: left;\n",
       "  background-color: lightgrey;\n",
       "}\n",
       "#T_f9c89_row13_col8 {\n",
       "  text-align: left;\n",
       "  background-color: yellow;\n",
       "  background-color: lightgrey;\n",
       "}\n",
       "</style>\n",
       "<table id=\"T_f9c89\">\n",
       "  <thead>\n",
       "    <tr>\n",
       "      <th class=\"blank level0\" >&nbsp;</th>\n",
       "      <th id=\"T_f9c89_level0_col0\" class=\"col_heading level0 col0\" >Model</th>\n",
       "      <th id=\"T_f9c89_level0_col1\" class=\"col_heading level0 col1\" >Accuracy</th>\n",
       "      <th id=\"T_f9c89_level0_col2\" class=\"col_heading level0 col2\" >AUC</th>\n",
       "      <th id=\"T_f9c89_level0_col3\" class=\"col_heading level0 col3\" >Recall</th>\n",
       "      <th id=\"T_f9c89_level0_col4\" class=\"col_heading level0 col4\" >Prec.</th>\n",
       "      <th id=\"T_f9c89_level0_col5\" class=\"col_heading level0 col5\" >F1</th>\n",
       "      <th id=\"T_f9c89_level0_col6\" class=\"col_heading level0 col6\" >Kappa</th>\n",
       "      <th id=\"T_f9c89_level0_col7\" class=\"col_heading level0 col7\" >MCC</th>\n",
       "      <th id=\"T_f9c89_level0_col8\" class=\"col_heading level0 col8\" >TT (Sec)</th>\n",
       "    </tr>\n",
       "  </thead>\n",
       "  <tbody>\n",
       "    <tr>\n",
       "      <th id=\"T_f9c89_level0_row0\" class=\"row_heading level0 row0\" >ada</th>\n",
       "      <td id=\"T_f9c89_row0_col0\" class=\"data row0 col0\" >Ada Boost Classifier</td>\n",
       "      <td id=\"T_f9c89_row0_col1\" class=\"data row0 col1\" >0.8408</td>\n",
       "      <td id=\"T_f9c89_row0_col2\" class=\"data row0 col2\" >0.6921</td>\n",
       "      <td id=\"T_f9c89_row0_col3\" class=\"data row0 col3\" >0.0927</td>\n",
       "      <td id=\"T_f9c89_row0_col4\" class=\"data row0 col4\" >0.5939</td>\n",
       "      <td id=\"T_f9c89_row0_col5\" class=\"data row0 col5\" >0.1597</td>\n",
       "      <td id=\"T_f9c89_row0_col6\" class=\"data row0 col6\" >0.1197</td>\n",
       "      <td id=\"T_f9c89_row0_col7\" class=\"data row0 col7\" >0.1863</td>\n",
       "      <td id=\"T_f9c89_row0_col8\" class=\"data row0 col8\" >0.4410</td>\n",
       "    </tr>\n",
       "    <tr>\n",
       "      <th id=\"T_f9c89_level0_row1\" class=\"row_heading level0 row1\" >gbc</th>\n",
       "      <td id=\"T_f9c89_row1_col0\" class=\"data row1 col0\" >Gradient Boosting Classifier</td>\n",
       "      <td id=\"T_f9c89_row1_col1\" class=\"data row1 col1\" >0.8408</td>\n",
       "      <td id=\"T_f9c89_row1_col2\" class=\"data row1 col2\" >0.7012</td>\n",
       "      <td id=\"T_f9c89_row1_col3\" class=\"data row1 col3\" >0.0651</td>\n",
       "      <td id=\"T_f9c89_row1_col4\" class=\"data row1 col4\" >0.6119</td>\n",
       "      <td id=\"T_f9c89_row1_col5\" class=\"data row1 col5\" >0.1162</td>\n",
       "      <td id=\"T_f9c89_row1_col6\" class=\"data row1 col6\" >0.0880</td>\n",
       "      <td id=\"T_f9c89_row1_col7\" class=\"data row1 col7\" >0.1580</td>\n",
       "      <td id=\"T_f9c89_row1_col8\" class=\"data row1 col8\" >1.2600</td>\n",
       "    </tr>\n",
       "    <tr>\n",
       "      <th id=\"T_f9c89_level0_row2\" class=\"row_heading level0 row2\" >rf</th>\n",
       "      <td id=\"T_f9c89_row2_col0\" class=\"data row2 col0\" >Random Forest Classifier</td>\n",
       "      <td id=\"T_f9c89_row2_col1\" class=\"data row2 col1\" >0.8384</td>\n",
       "      <td id=\"T_f9c89_row2_col2\" class=\"data row2 col2\" >0.6932</td>\n",
       "      <td id=\"T_f9c89_row2_col3\" class=\"data row2 col3\" >0.0456</td>\n",
       "      <td id=\"T_f9c89_row2_col4\" class=\"data row2 col4\" >0.5259</td>\n",
       "      <td id=\"T_f9c89_row2_col5\" class=\"data row2 col5\" >0.0826</td>\n",
       "      <td id=\"T_f9c89_row2_col6\" class=\"data row2 col6\" >0.0599</td>\n",
       "      <td id=\"T_f9c89_row2_col7\" class=\"data row2 col7\" >0.1160</td>\n",
       "      <td id=\"T_f9c89_row2_col8\" class=\"data row2 col8\" >0.7780</td>\n",
       "    </tr>\n",
       "    <tr>\n",
       "      <th id=\"T_f9c89_level0_row3\" class=\"row_heading level0 row3\" >et</th>\n",
       "      <td id=\"T_f9c89_row3_col0\" class=\"data row3 col0\" >Extra Trees Classifier</td>\n",
       "      <td id=\"T_f9c89_row3_col1\" class=\"data row3 col1\" >0.8381</td>\n",
       "      <td id=\"T_f9c89_row3_col2\" class=\"data row3 col2\" >0.6973</td>\n",
       "      <td id=\"T_f9c89_row3_col3\" class=\"data row3 col3\" >0.0569</td>\n",
       "      <td id=\"T_f9c89_row3_col4\" class=\"data row3 col4\" >0.5405</td>\n",
       "      <td id=\"T_f9c89_row3_col5\" class=\"data row3 col5\" >0.1025</td>\n",
       "      <td id=\"T_f9c89_row3_col6\" class=\"data row3 col6\" >0.0735</td>\n",
       "      <td id=\"T_f9c89_row3_col7\" class=\"data row3 col7\" >0.1337</td>\n",
       "      <td id=\"T_f9c89_row3_col8\" class=\"data row3 col8\" >0.6730</td>\n",
       "    </tr>\n",
       "    <tr>\n",
       "      <th id=\"T_f9c89_level0_row4\" class=\"row_heading level0 row4\" >lr</th>\n",
       "      <td id=\"T_f9c89_row4_col0\" class=\"data row4 col0\" >Logistic Regression</td>\n",
       "      <td id=\"T_f9c89_row4_col1\" class=\"data row4 col1\" >0.8370</td>\n",
       "      <td id=\"T_f9c89_row4_col2\" class=\"data row4 col2\" >0.5128</td>\n",
       "      <td id=\"T_f9c89_row4_col3\" class=\"data row4 col3\" >0.0000</td>\n",
       "      <td id=\"T_f9c89_row4_col4\" class=\"data row4 col4\" >0.0000</td>\n",
       "      <td id=\"T_f9c89_row4_col5\" class=\"data row4 col5\" >0.0000</td>\n",
       "      <td id=\"T_f9c89_row4_col6\" class=\"data row4 col6\" >0.0000</td>\n",
       "      <td id=\"T_f9c89_row4_col7\" class=\"data row4 col7\" >0.0000</td>\n",
       "      <td id=\"T_f9c89_row4_col8\" class=\"data row4 col8\" >0.7310</td>\n",
       "    </tr>\n",
       "    <tr>\n",
       "      <th id=\"T_f9c89_level0_row5\" class=\"row_heading level0 row5\" >ridge</th>\n",
       "      <td id=\"T_f9c89_row5_col0\" class=\"data row5 col0\" >Ridge Classifier</td>\n",
       "      <td id=\"T_f9c89_row5_col1\" class=\"data row5 col1\" >0.8370</td>\n",
       "      <td id=\"T_f9c89_row5_col2\" class=\"data row5 col2\" >0.0000</td>\n",
       "      <td id=\"T_f9c89_row5_col3\" class=\"data row5 col3\" >0.0049</td>\n",
       "      <td id=\"T_f9c89_row5_col4\" class=\"data row5 col4\" >0.3000</td>\n",
       "      <td id=\"T_f9c89_row5_col5\" class=\"data row5 col5\" >0.0096</td>\n",
       "      <td id=\"T_f9c89_row5_col6\" class=\"data row5 col6\" >0.0065</td>\n",
       "      <td id=\"T_f9c89_row5_col7\" class=\"data row5 col7\" >0.0296</td>\n",
       "      <td id=\"T_f9c89_row5_col8\" class=\"data row5 col8\" >0.0820</td>\n",
       "    </tr>\n",
       "    <tr>\n",
       "      <th id=\"T_f9c89_level0_row6\" class=\"row_heading level0 row6\" >lda</th>\n",
       "      <td id=\"T_f9c89_row6_col0\" class=\"data row6 col0\" >Linear Discriminant Analysis</td>\n",
       "      <td id=\"T_f9c89_row6_col1\" class=\"data row6 col1\" >0.8370</td>\n",
       "      <td id=\"T_f9c89_row6_col2\" class=\"data row6 col2\" >0.6456</td>\n",
       "      <td id=\"T_f9c89_row6_col3\" class=\"data row6 col3\" >0.0603</td>\n",
       "      <td id=\"T_f9c89_row6_col4\" class=\"data row6 col4\" >0.5108</td>\n",
       "      <td id=\"T_f9c89_row6_col5\" class=\"data row6 col5\" >0.1068</td>\n",
       "      <td id=\"T_f9c89_row6_col6\" class=\"data row6 col6\" >0.0748</td>\n",
       "      <td id=\"T_f9c89_row6_col7\" class=\"data row6 col7\" >0.1297</td>\n",
       "      <td id=\"T_f9c89_row6_col8\" class=\"data row6 col8\" >0.2290</td>\n",
       "    </tr>\n",
       "    <tr>\n",
       "      <th id=\"T_f9c89_level0_row7\" class=\"row_heading level0 row7\" >dummy</th>\n",
       "      <td id=\"T_f9c89_row7_col0\" class=\"data row7 col0\" >Dummy Classifier</td>\n",
       "      <td id=\"T_f9c89_row7_col1\" class=\"data row7 col1\" >0.8370</td>\n",
       "      <td id=\"T_f9c89_row7_col2\" class=\"data row7 col2\" >0.5000</td>\n",
       "      <td id=\"T_f9c89_row7_col3\" class=\"data row7 col3\" >0.0000</td>\n",
       "      <td id=\"T_f9c89_row7_col4\" class=\"data row7 col4\" >0.0000</td>\n",
       "      <td id=\"T_f9c89_row7_col5\" class=\"data row7 col5\" >0.0000</td>\n",
       "      <td id=\"T_f9c89_row7_col6\" class=\"data row7 col6\" >0.0000</td>\n",
       "      <td id=\"T_f9c89_row7_col7\" class=\"data row7 col7\" >0.0000</td>\n",
       "      <td id=\"T_f9c89_row7_col8\" class=\"data row7 col8\" >0.1350</td>\n",
       "    </tr>\n",
       "    <tr>\n",
       "      <th id=\"T_f9c89_level0_row8\" class=\"row_heading level0 row8\" >lightgbm</th>\n",
       "      <td id=\"T_f9c89_row8_col0\" class=\"data row8 col0\" >Light Gradient Boosting Machine</td>\n",
       "      <td id=\"T_f9c89_row8_col1\" class=\"data row8 col1\" >0.8360</td>\n",
       "      <td id=\"T_f9c89_row8_col2\" class=\"data row8 col2\" >0.6966</td>\n",
       "      <td id=\"T_f9c89_row8_col3\" class=\"data row8 col3\" >0.1302</td>\n",
       "      <td id=\"T_f9c89_row8_col4\" class=\"data row8 col4\" >0.4957</td>\n",
       "      <td id=\"T_f9c89_row8_col5\" class=\"data row8 col5\" >0.2044</td>\n",
       "      <td id=\"T_f9c89_row8_col6\" class=\"data row8 col6\" >0.1466</td>\n",
       "      <td id=\"T_f9c89_row8_col7\" class=\"data row8 col7\" >0.1887</td>\n",
       "      <td id=\"T_f9c89_row8_col8\" class=\"data row8 col8\" >0.4330</td>\n",
       "    </tr>\n",
       "    <tr>\n",
       "      <th id=\"T_f9c89_level0_row9\" class=\"row_heading level0 row9\" >nb</th>\n",
       "      <td id=\"T_f9c89_row9_col0\" class=\"data row9 col0\" >Naive Bayes</td>\n",
       "      <td id=\"T_f9c89_row9_col1\" class=\"data row9 col1\" >0.8336</td>\n",
       "      <td id=\"T_f9c89_row9_col2\" class=\"data row9 col2\" >0.5626</td>\n",
       "      <td id=\"T_f9c89_row9_col3\" class=\"data row9 col3\" >0.0049</td>\n",
       "      <td id=\"T_f9c89_row9_col4\" class=\"data row9 col4\" >0.0867</td>\n",
       "      <td id=\"T_f9c89_row9_col5\" class=\"data row9 col5\" >0.0091</td>\n",
       "      <td id=\"T_f9c89_row9_col6\" class=\"data row9 col6\" >-0.0003</td>\n",
       "      <td id=\"T_f9c89_row9_col7\" class=\"data row9 col7\" >-0.0030</td>\n",
       "      <td id=\"T_f9c89_row9_col8\" class=\"data row9 col8\" >0.0790</td>\n",
       "    </tr>\n",
       "    <tr>\n",
       "      <th id=\"T_f9c89_level0_row10\" class=\"row_heading level0 row10\" >knn</th>\n",
       "      <td id=\"T_f9c89_row10_col0\" class=\"data row10 col0\" >K Neighbors Classifier</td>\n",
       "      <td id=\"T_f9c89_row10_col1\" class=\"data row10 col1\" >0.8063</td>\n",
       "      <td id=\"T_f9c89_row10_col2\" class=\"data row10 col2\" >0.5552</td>\n",
       "      <td id=\"T_f9c89_row10_col3\" class=\"data row10 col3\" >0.0423</td>\n",
       "      <td id=\"T_f9c89_row10_col4\" class=\"data row10 col4\" >0.1750</td>\n",
       "      <td id=\"T_f9c89_row10_col5\" class=\"data row10 col5\" >0.0675</td>\n",
       "      <td id=\"T_f9c89_row10_col6\" class=\"data row10 col6\" >-0.0024</td>\n",
       "      <td id=\"T_f9c89_row10_col7\" class=\"data row10 col7\" >0.0007</td>\n",
       "      <td id=\"T_f9c89_row10_col8\" class=\"data row10 col8\" >0.1100</td>\n",
       "    </tr>\n",
       "    <tr>\n",
       "      <th id=\"T_f9c89_level0_row11\" class=\"row_heading level0 row11\" >qda</th>\n",
       "      <td id=\"T_f9c89_row11_col0\" class=\"data row11 col0\" >Quadratic Discriminant Analysis</td>\n",
       "      <td id=\"T_f9c89_row11_col1\" class=\"data row11 col1\" >0.7522</td>\n",
       "      <td id=\"T_f9c89_row11_col2\" class=\"data row11 col2\" >0.6735</td>\n",
       "      <td id=\"T_f9c89_row11_col3\" class=\"data row11 col3\" >0.4211</td>\n",
       "      <td id=\"T_f9c89_row11_col4\" class=\"data row11 col4\" >0.3094</td>\n",
       "      <td id=\"T_f9c89_row11_col5\" class=\"data row11 col5\" >0.3564</td>\n",
       "      <td id=\"T_f9c89_row11_col6\" class=\"data row11 col6\" >0.2076</td>\n",
       "      <td id=\"T_f9c89_row11_col7\" class=\"data row11 col7\" >0.2115</td>\n",
       "      <td id=\"T_f9c89_row11_col8\" class=\"data row11 col8\" >0.1410</td>\n",
       "    </tr>\n",
       "    <tr>\n",
       "      <th id=\"T_f9c89_level0_row12\" class=\"row_heading level0 row12\" >dt</th>\n",
       "      <td id=\"T_f9c89_row12_col0\" class=\"data row12 col0\" >Decision Tree Classifier</td>\n",
       "      <td id=\"T_f9c89_row12_col1\" class=\"data row12 col1\" >0.7377</td>\n",
       "      <td id=\"T_f9c89_row12_col2\" class=\"data row12 col2\" >0.5443</td>\n",
       "      <td id=\"T_f9c89_row12_col3\" class=\"data row12 col3\" >0.2569</td>\n",
       "      <td id=\"T_f9c89_row12_col4\" class=\"data row12 col4\" >0.2294</td>\n",
       "      <td id=\"T_f9c89_row12_col5\" class=\"data row12 col5\" >0.2419</td>\n",
       "      <td id=\"T_f9c89_row12_col6\" class=\"data row12 col6\" >0.0842</td>\n",
       "      <td id=\"T_f9c89_row12_col7\" class=\"data row12 col7\" >0.0845</td>\n",
       "      <td id=\"T_f9c89_row12_col8\" class=\"data row12 col8\" >0.1710</td>\n",
       "    </tr>\n",
       "    <tr>\n",
       "      <th id=\"T_f9c89_level0_row13\" class=\"row_heading level0 row13\" >svm</th>\n",
       "      <td id=\"T_f9c89_row13_col0\" class=\"data row13 col0\" >SVM - Linear Kernel</td>\n",
       "      <td id=\"T_f9c89_row13_col1\" class=\"data row13 col1\" >0.7105</td>\n",
       "      <td id=\"T_f9c89_row13_col2\" class=\"data row13 col2\" >0.0000</td>\n",
       "      <td id=\"T_f9c89_row13_col3\" class=\"data row13 col3\" >0.1816</td>\n",
       "      <td id=\"T_f9c89_row13_col4\" class=\"data row13 col4\" >0.0736</td>\n",
       "      <td id=\"T_f9c89_row13_col5\" class=\"data row13 col5\" >0.0923</td>\n",
       "      <td id=\"T_f9c89_row13_col6\" class=\"data row13 col6\" >-0.0073</td>\n",
       "      <td id=\"T_f9c89_row13_col7\" class=\"data row13 col7\" >-0.0108</td>\n",
       "      <td id=\"T_f9c89_row13_col8\" class=\"data row13 col8\" >0.0730</td>\n",
       "    </tr>\n",
       "  </tbody>\n",
       "</table>\n"
      ],
      "text/plain": [
       "<pandas.io.formats.style.Styler at 0x21f4f040b50>"
      ]
     },
     "metadata": {},
     "output_type": "display_data"
    },
    {
     "data": {
      "text/html": [],
      "text/plain": [
       "<IPython.core.display.HTML object>"
      ]
     },
     "metadata": {},
     "output_type": "display_data"
    }
   ],
   "source": [
    "best = s.compare_models()"
   ]
  },
  {
   "cell_type": "code",
   "execution_count": 33,
   "id": "d9f43268",
   "metadata": {},
   "outputs": [],
   "source": [
    "# s.evaluate_model(best)"
   ]
  },
  {
   "cell_type": "code",
   "execution_count": 17,
   "id": "ded476a4",
   "metadata": {},
   "outputs": [
    {
     "data": {
      "text/html": [
       "<style type=\"text/css\">\n",
       "</style>\n",
       "<table id=\"T_9bd51\">\n",
       "  <thead>\n",
       "    <tr>\n",
       "      <th class=\"blank level0\" >&nbsp;</th>\n",
       "      <th id=\"T_9bd51_level0_col0\" class=\"col_heading level0 col0\" >Model</th>\n",
       "      <th id=\"T_9bd51_level0_col1\" class=\"col_heading level0 col1\" >Accuracy</th>\n",
       "      <th id=\"T_9bd51_level0_col2\" class=\"col_heading level0 col2\" >AUC</th>\n",
       "      <th id=\"T_9bd51_level0_col3\" class=\"col_heading level0 col3\" >Recall</th>\n",
       "      <th id=\"T_9bd51_level0_col4\" class=\"col_heading level0 col4\" >Prec.</th>\n",
       "      <th id=\"T_9bd51_level0_col5\" class=\"col_heading level0 col5\" >F1</th>\n",
       "      <th id=\"T_9bd51_level0_col6\" class=\"col_heading level0 col6\" >Kappa</th>\n",
       "      <th id=\"T_9bd51_level0_col7\" class=\"col_heading level0 col7\" >MCC</th>\n",
       "    </tr>\n",
       "  </thead>\n",
       "  <tbody>\n",
       "    <tr>\n",
       "      <th id=\"T_9bd51_level0_row0\" class=\"row_heading level0 row0\" >0</th>\n",
       "      <td id=\"T_9bd51_row0_col0\" class=\"data row0 col0\" >str</td>\n",
       "      <td id=\"T_9bd51_row0_col1\" class=\"data row0 col1\" >0.8071</td>\n",
       "      <td id=\"T_9bd51_row0_col2\" class=\"data row0 col2\" >0.6796</td>\n",
       "      <td id=\"T_9bd51_row0_col3\" class=\"data row0 col3\" >0.0267</td>\n",
       "      <td id=\"T_9bd51_row0_col4\" class=\"data row0 col4\" >0.2000</td>\n",
       "      <td id=\"T_9bd51_row0_col5\" class=\"data row0 col5\" >0.0471</td>\n",
       "      <td id=\"T_9bd51_row0_col6\" class=\"data row0 col6\" >0.0053</td>\n",
       "      <td id=\"T_9bd51_row0_col7\" class=\"data row0 col7\" >0.0087</td>\n",
       "    </tr>\n",
       "  </tbody>\n",
       "</table>\n"
      ],
      "text/plain": [
       "<pandas.io.formats.style.Styler at 0x21f6674c3d0>"
      ]
     },
     "metadata": {},
     "output_type": "display_data"
    }
   ],
   "source": [
    "predictions1 = s.predict_model(best)"
   ]
  },
  {
   "cell_type": "code",
   "execution_count": null,
   "id": "f87d9fce",
   "metadata": {},
   "outputs": [],
   "source": []
  },
  {
   "cell_type": "code",
   "execution_count": null,
   "id": "20f87640",
   "metadata": {},
   "outputs": [],
   "source": []
  },
  {
   "cell_type": "code",
   "execution_count": null,
   "id": "2df55484",
   "metadata": {},
   "outputs": [],
   "source": []
  },
  {
   "cell_type": "code",
   "execution_count": 164,
   "id": "02252b0f",
   "metadata": {},
   "outputs": [
    {
     "data": {
      "text/plain": [
       "0.9520402755696873"
      ]
     },
     "execution_count": 164,
     "metadata": {},
     "output_type": "execute_result"
    }
   ],
   "source": [
    "pred = predict_model(best, data=X_train.drop(columns = [target]))\n",
    "accuracy_score(X_train[target], pred[['Label']])"
   ]
  },
  {
   "cell_type": "markdown",
   "id": "62ffe959",
   "metadata": {},
   "source": [
    "We didn't get a good score, so we will try a different approach. We know that **match = dec_w * dec_m** so we will try predecting **dec_w** and **dec_m**."
   ]
  },
  {
   "cell_type": "code",
   "execution_count": 165,
   "id": "c1c04b1e",
   "metadata": {},
   "outputs": [],
   "source": [
    "X_m = df.drop(columns = [\"id\",'match','dec_w'])"
   ]
  },
  {
   "cell_type": "code",
   "execution_count": 166,
   "id": "26be330d",
   "metadata": {},
   "outputs": [],
   "source": [
    "X_train_m,X_test_m= train_test_split(X_m, test_size=0.1, random_state = 0)"
   ]
  },
  {
   "cell_type": "code",
   "execution_count": 167,
   "id": "ac1ab202",
   "metadata": {},
   "outputs": [
    {
     "data": {
      "text/html": [
       "<style type=\"text/css\">\n",
       "#T_3f082_row5_col1, #T_3f082_row44_col1, #T_3f082_row58_col1 {\n",
       "  background-color: lightgreen;\n",
       "}\n",
       "</style>\n",
       "<table id=\"T_3f082\">\n",
       "  <thead>\n",
       "    <tr>\n",
       "      <th class=\"blank level0\" >&nbsp;</th>\n",
       "      <th id=\"T_3f082_level0_col0\" class=\"col_heading level0 col0\" >Description</th>\n",
       "      <th id=\"T_3f082_level0_col1\" class=\"col_heading level0 col1\" >Value</th>\n",
       "    </tr>\n",
       "  </thead>\n",
       "  <tbody>\n",
       "    <tr>\n",
       "      <th id=\"T_3f082_level0_row0\" class=\"row_heading level0 row0\" >0</th>\n",
       "      <td id=\"T_3f082_row0_col0\" class=\"data row0 col0\" >session_id</td>\n",
       "      <td id=\"T_3f082_row0_col1\" class=\"data row0 col1\" >1914</td>\n",
       "    </tr>\n",
       "    <tr>\n",
       "      <th id=\"T_3f082_level0_row1\" class=\"row_heading level0 row1\" >1</th>\n",
       "      <td id=\"T_3f082_row1_col0\" class=\"data row1 col0\" >Target</td>\n",
       "      <td id=\"T_3f082_row1_col1\" class=\"data row1 col1\" >dec_m</td>\n",
       "    </tr>\n",
       "    <tr>\n",
       "      <th id=\"T_3f082_level0_row2\" class=\"row_heading level0 row2\" >2</th>\n",
       "      <td id=\"T_3f082_row2_col0\" class=\"data row2 col0\" >Target Type</td>\n",
       "      <td id=\"T_3f082_row2_col1\" class=\"data row2 col1\" >Binary</td>\n",
       "    </tr>\n",
       "    <tr>\n",
       "      <th id=\"T_3f082_level0_row3\" class=\"row_heading level0 row3\" >3</th>\n",
       "      <td id=\"T_3f082_row3_col0\" class=\"data row3 col0\" >Label Encoded</td>\n",
       "      <td id=\"T_3f082_row3_col1\" class=\"data row3 col1\" >None</td>\n",
       "    </tr>\n",
       "    <tr>\n",
       "      <th id=\"T_3f082_level0_row4\" class=\"row_heading level0 row4\" >4</th>\n",
       "      <td id=\"T_3f082_row4_col0\" class=\"data row4 col0\" >Original Data</td>\n",
       "      <td id=\"T_3f082_row4_col1\" class=\"data row4 col1\" >(3774, 93)</td>\n",
       "    </tr>\n",
       "    <tr>\n",
       "      <th id=\"T_3f082_level0_row5\" class=\"row_heading level0 row5\" >5</th>\n",
       "      <td id=\"T_3f082_row5_col0\" class=\"data row5 col0\" >Missing Values</td>\n",
       "      <td id=\"T_3f082_row5_col1\" class=\"data row5 col1\" >True</td>\n",
       "    </tr>\n",
       "    <tr>\n",
       "      <th id=\"T_3f082_level0_row6\" class=\"row_heading level0 row6\" >6</th>\n",
       "      <td id=\"T_3f082_row6_col0\" class=\"data row6 col0\" >Numeric Features</td>\n",
       "      <td id=\"T_3f082_row6_col1\" class=\"data row6 col1\" >29</td>\n",
       "    </tr>\n",
       "    <tr>\n",
       "      <th id=\"T_3f082_level0_row7\" class=\"row_heading level0 row7\" >7</th>\n",
       "      <td id=\"T_3f082_row7_col0\" class=\"data row7 col0\" >Categorical Features</td>\n",
       "      <td id=\"T_3f082_row7_col1\" class=\"data row7 col1\" >63</td>\n",
       "    </tr>\n",
       "    <tr>\n",
       "      <th id=\"T_3f082_level0_row8\" class=\"row_heading level0 row8\" >8</th>\n",
       "      <td id=\"T_3f082_row8_col0\" class=\"data row8 col0\" >Ordinal Features</td>\n",
       "      <td id=\"T_3f082_row8_col1\" class=\"data row8 col1\" >False</td>\n",
       "    </tr>\n",
       "    <tr>\n",
       "      <th id=\"T_3f082_level0_row9\" class=\"row_heading level0 row9\" >9</th>\n",
       "      <td id=\"T_3f082_row9_col0\" class=\"data row9 col0\" >High Cardinality Features</td>\n",
       "      <td id=\"T_3f082_row9_col1\" class=\"data row9 col1\" >False</td>\n",
       "    </tr>\n",
       "    <tr>\n",
       "      <th id=\"T_3f082_level0_row10\" class=\"row_heading level0 row10\" >10</th>\n",
       "      <td id=\"T_3f082_row10_col0\" class=\"data row10 col0\" >High Cardinality Method</td>\n",
       "      <td id=\"T_3f082_row10_col1\" class=\"data row10 col1\" >None</td>\n",
       "    </tr>\n",
       "    <tr>\n",
       "      <th id=\"T_3f082_level0_row11\" class=\"row_heading level0 row11\" >11</th>\n",
       "      <td id=\"T_3f082_row11_col0\" class=\"data row11 col0\" >Transformed Train Set</td>\n",
       "      <td id=\"T_3f082_row11_col1\" class=\"data row11 col1\" >(2641, 616)</td>\n",
       "    </tr>\n",
       "    <tr>\n",
       "      <th id=\"T_3f082_level0_row12\" class=\"row_heading level0 row12\" >12</th>\n",
       "      <td id=\"T_3f082_row12_col0\" class=\"data row12 col0\" >Transformed Test Set</td>\n",
       "      <td id=\"T_3f082_row12_col1\" class=\"data row12 col1\" >(1133, 616)</td>\n",
       "    </tr>\n",
       "    <tr>\n",
       "      <th id=\"T_3f082_level0_row13\" class=\"row_heading level0 row13\" >13</th>\n",
       "      <td id=\"T_3f082_row13_col0\" class=\"data row13 col0\" >Shuffle Train-Test</td>\n",
       "      <td id=\"T_3f082_row13_col1\" class=\"data row13 col1\" >True</td>\n",
       "    </tr>\n",
       "    <tr>\n",
       "      <th id=\"T_3f082_level0_row14\" class=\"row_heading level0 row14\" >14</th>\n",
       "      <td id=\"T_3f082_row14_col0\" class=\"data row14 col0\" >Stratify Train-Test</td>\n",
       "      <td id=\"T_3f082_row14_col1\" class=\"data row14 col1\" >False</td>\n",
       "    </tr>\n",
       "    <tr>\n",
       "      <th id=\"T_3f082_level0_row15\" class=\"row_heading level0 row15\" >15</th>\n",
       "      <td id=\"T_3f082_row15_col0\" class=\"data row15 col0\" >Fold Generator</td>\n",
       "      <td id=\"T_3f082_row15_col1\" class=\"data row15 col1\" >StratifiedKFold</td>\n",
       "    </tr>\n",
       "    <tr>\n",
       "      <th id=\"T_3f082_level0_row16\" class=\"row_heading level0 row16\" >16</th>\n",
       "      <td id=\"T_3f082_row16_col0\" class=\"data row16 col0\" >Fold Number</td>\n",
       "      <td id=\"T_3f082_row16_col1\" class=\"data row16 col1\" >10</td>\n",
       "    </tr>\n",
       "    <tr>\n",
       "      <th id=\"T_3f082_level0_row17\" class=\"row_heading level0 row17\" >17</th>\n",
       "      <td id=\"T_3f082_row17_col0\" class=\"data row17 col0\" >CPU Jobs</td>\n",
       "      <td id=\"T_3f082_row17_col1\" class=\"data row17 col1\" >-1</td>\n",
       "    </tr>\n",
       "    <tr>\n",
       "      <th id=\"T_3f082_level0_row18\" class=\"row_heading level0 row18\" >18</th>\n",
       "      <td id=\"T_3f082_row18_col0\" class=\"data row18 col0\" >Use GPU</td>\n",
       "      <td id=\"T_3f082_row18_col1\" class=\"data row18 col1\" >False</td>\n",
       "    </tr>\n",
       "    <tr>\n",
       "      <th id=\"T_3f082_level0_row19\" class=\"row_heading level0 row19\" >19</th>\n",
       "      <td id=\"T_3f082_row19_col0\" class=\"data row19 col0\" >Log Experiment</td>\n",
       "      <td id=\"T_3f082_row19_col1\" class=\"data row19 col1\" >False</td>\n",
       "    </tr>\n",
       "    <tr>\n",
       "      <th id=\"T_3f082_level0_row20\" class=\"row_heading level0 row20\" >20</th>\n",
       "      <td id=\"T_3f082_row20_col0\" class=\"data row20 col0\" >Experiment Name</td>\n",
       "      <td id=\"T_3f082_row20_col1\" class=\"data row20 col1\" >clf-default-name</td>\n",
       "    </tr>\n",
       "    <tr>\n",
       "      <th id=\"T_3f082_level0_row21\" class=\"row_heading level0 row21\" >21</th>\n",
       "      <td id=\"T_3f082_row21_col0\" class=\"data row21 col0\" >USI</td>\n",
       "      <td id=\"T_3f082_row21_col1\" class=\"data row21 col1\" >3a4d</td>\n",
       "    </tr>\n",
       "    <tr>\n",
       "      <th id=\"T_3f082_level0_row22\" class=\"row_heading level0 row22\" >22</th>\n",
       "      <td id=\"T_3f082_row22_col0\" class=\"data row22 col0\" >Imputation Type</td>\n",
       "      <td id=\"T_3f082_row22_col1\" class=\"data row22 col1\" >simple</td>\n",
       "    </tr>\n",
       "    <tr>\n",
       "      <th id=\"T_3f082_level0_row23\" class=\"row_heading level0 row23\" >23</th>\n",
       "      <td id=\"T_3f082_row23_col0\" class=\"data row23 col0\" >Iterative Imputation Iteration</td>\n",
       "      <td id=\"T_3f082_row23_col1\" class=\"data row23 col1\" >None</td>\n",
       "    </tr>\n",
       "    <tr>\n",
       "      <th id=\"T_3f082_level0_row24\" class=\"row_heading level0 row24\" >24</th>\n",
       "      <td id=\"T_3f082_row24_col0\" class=\"data row24 col0\" >Numeric Imputer</td>\n",
       "      <td id=\"T_3f082_row24_col1\" class=\"data row24 col1\" >mean</td>\n",
       "    </tr>\n",
       "    <tr>\n",
       "      <th id=\"T_3f082_level0_row25\" class=\"row_heading level0 row25\" >25</th>\n",
       "      <td id=\"T_3f082_row25_col0\" class=\"data row25 col0\" >Iterative Imputation Numeric Model</td>\n",
       "      <td id=\"T_3f082_row25_col1\" class=\"data row25 col1\" >None</td>\n",
       "    </tr>\n",
       "    <tr>\n",
       "      <th id=\"T_3f082_level0_row26\" class=\"row_heading level0 row26\" >26</th>\n",
       "      <td id=\"T_3f082_row26_col0\" class=\"data row26 col0\" >Categorical Imputer</td>\n",
       "      <td id=\"T_3f082_row26_col1\" class=\"data row26 col1\" >constant</td>\n",
       "    </tr>\n",
       "    <tr>\n",
       "      <th id=\"T_3f082_level0_row27\" class=\"row_heading level0 row27\" >27</th>\n",
       "      <td id=\"T_3f082_row27_col0\" class=\"data row27 col0\" >Iterative Imputation Categorical Model</td>\n",
       "      <td id=\"T_3f082_row27_col1\" class=\"data row27 col1\" >None</td>\n",
       "    </tr>\n",
       "    <tr>\n",
       "      <th id=\"T_3f082_level0_row28\" class=\"row_heading level0 row28\" >28</th>\n",
       "      <td id=\"T_3f082_row28_col0\" class=\"data row28 col0\" >Unknown Categoricals Handling</td>\n",
       "      <td id=\"T_3f082_row28_col1\" class=\"data row28 col1\" >least_frequent</td>\n",
       "    </tr>\n",
       "    <tr>\n",
       "      <th id=\"T_3f082_level0_row29\" class=\"row_heading level0 row29\" >29</th>\n",
       "      <td id=\"T_3f082_row29_col0\" class=\"data row29 col0\" >Normalize</td>\n",
       "      <td id=\"T_3f082_row29_col1\" class=\"data row29 col1\" >False</td>\n",
       "    </tr>\n",
       "    <tr>\n",
       "      <th id=\"T_3f082_level0_row30\" class=\"row_heading level0 row30\" >30</th>\n",
       "      <td id=\"T_3f082_row30_col0\" class=\"data row30 col0\" >Normalize Method</td>\n",
       "      <td id=\"T_3f082_row30_col1\" class=\"data row30 col1\" >None</td>\n",
       "    </tr>\n",
       "    <tr>\n",
       "      <th id=\"T_3f082_level0_row31\" class=\"row_heading level0 row31\" >31</th>\n",
       "      <td id=\"T_3f082_row31_col0\" class=\"data row31 col0\" >Transformation</td>\n",
       "      <td id=\"T_3f082_row31_col1\" class=\"data row31 col1\" >False</td>\n",
       "    </tr>\n",
       "    <tr>\n",
       "      <th id=\"T_3f082_level0_row32\" class=\"row_heading level0 row32\" >32</th>\n",
       "      <td id=\"T_3f082_row32_col0\" class=\"data row32 col0\" >Transformation Method</td>\n",
       "      <td id=\"T_3f082_row32_col1\" class=\"data row32 col1\" >None</td>\n",
       "    </tr>\n",
       "    <tr>\n",
       "      <th id=\"T_3f082_level0_row33\" class=\"row_heading level0 row33\" >33</th>\n",
       "      <td id=\"T_3f082_row33_col0\" class=\"data row33 col0\" >PCA</td>\n",
       "      <td id=\"T_3f082_row33_col1\" class=\"data row33 col1\" >False</td>\n",
       "    </tr>\n",
       "    <tr>\n",
       "      <th id=\"T_3f082_level0_row34\" class=\"row_heading level0 row34\" >34</th>\n",
       "      <td id=\"T_3f082_row34_col0\" class=\"data row34 col0\" >PCA Method</td>\n",
       "      <td id=\"T_3f082_row34_col1\" class=\"data row34 col1\" >None</td>\n",
       "    </tr>\n",
       "    <tr>\n",
       "      <th id=\"T_3f082_level0_row35\" class=\"row_heading level0 row35\" >35</th>\n",
       "      <td id=\"T_3f082_row35_col0\" class=\"data row35 col0\" >PCA Components</td>\n",
       "      <td id=\"T_3f082_row35_col1\" class=\"data row35 col1\" >None</td>\n",
       "    </tr>\n",
       "    <tr>\n",
       "      <th id=\"T_3f082_level0_row36\" class=\"row_heading level0 row36\" >36</th>\n",
       "      <td id=\"T_3f082_row36_col0\" class=\"data row36 col0\" >Ignore Low Variance</td>\n",
       "      <td id=\"T_3f082_row36_col1\" class=\"data row36 col1\" >False</td>\n",
       "    </tr>\n",
       "    <tr>\n",
       "      <th id=\"T_3f082_level0_row37\" class=\"row_heading level0 row37\" >37</th>\n",
       "      <td id=\"T_3f082_row37_col0\" class=\"data row37 col0\" >Combine Rare Levels</td>\n",
       "      <td id=\"T_3f082_row37_col1\" class=\"data row37 col1\" >False</td>\n",
       "    </tr>\n",
       "    <tr>\n",
       "      <th id=\"T_3f082_level0_row38\" class=\"row_heading level0 row38\" >38</th>\n",
       "      <td id=\"T_3f082_row38_col0\" class=\"data row38 col0\" >Rare Level Threshold</td>\n",
       "      <td id=\"T_3f082_row38_col1\" class=\"data row38 col1\" >None</td>\n",
       "    </tr>\n",
       "    <tr>\n",
       "      <th id=\"T_3f082_level0_row39\" class=\"row_heading level0 row39\" >39</th>\n",
       "      <td id=\"T_3f082_row39_col0\" class=\"data row39 col0\" >Numeric Binning</td>\n",
       "      <td id=\"T_3f082_row39_col1\" class=\"data row39 col1\" >False</td>\n",
       "    </tr>\n",
       "    <tr>\n",
       "      <th id=\"T_3f082_level0_row40\" class=\"row_heading level0 row40\" >40</th>\n",
       "      <td id=\"T_3f082_row40_col0\" class=\"data row40 col0\" >Remove Outliers</td>\n",
       "      <td id=\"T_3f082_row40_col1\" class=\"data row40 col1\" >False</td>\n",
       "    </tr>\n",
       "    <tr>\n",
       "      <th id=\"T_3f082_level0_row41\" class=\"row_heading level0 row41\" >41</th>\n",
       "      <td id=\"T_3f082_row41_col0\" class=\"data row41 col0\" >Outliers Threshold</td>\n",
       "      <td id=\"T_3f082_row41_col1\" class=\"data row41 col1\" >None</td>\n",
       "    </tr>\n",
       "    <tr>\n",
       "      <th id=\"T_3f082_level0_row42\" class=\"row_heading level0 row42\" >42</th>\n",
       "      <td id=\"T_3f082_row42_col0\" class=\"data row42 col0\" >Remove Multicollinearity</td>\n",
       "      <td id=\"T_3f082_row42_col1\" class=\"data row42 col1\" >False</td>\n",
       "    </tr>\n",
       "    <tr>\n",
       "      <th id=\"T_3f082_level0_row43\" class=\"row_heading level0 row43\" >43</th>\n",
       "      <td id=\"T_3f082_row43_col0\" class=\"data row43 col0\" >Multicollinearity Threshold</td>\n",
       "      <td id=\"T_3f082_row43_col1\" class=\"data row43 col1\" >None</td>\n",
       "    </tr>\n",
       "    <tr>\n",
       "      <th id=\"T_3f082_level0_row44\" class=\"row_heading level0 row44\" >44</th>\n",
       "      <td id=\"T_3f082_row44_col0\" class=\"data row44 col0\" >Remove Perfect Collinearity</td>\n",
       "      <td id=\"T_3f082_row44_col1\" class=\"data row44 col1\" >True</td>\n",
       "    </tr>\n",
       "    <tr>\n",
       "      <th id=\"T_3f082_level0_row45\" class=\"row_heading level0 row45\" >45</th>\n",
       "      <td id=\"T_3f082_row45_col0\" class=\"data row45 col0\" >Clustering</td>\n",
       "      <td id=\"T_3f082_row45_col1\" class=\"data row45 col1\" >False</td>\n",
       "    </tr>\n",
       "    <tr>\n",
       "      <th id=\"T_3f082_level0_row46\" class=\"row_heading level0 row46\" >46</th>\n",
       "      <td id=\"T_3f082_row46_col0\" class=\"data row46 col0\" >Clustering Iteration</td>\n",
       "      <td id=\"T_3f082_row46_col1\" class=\"data row46 col1\" >None</td>\n",
       "    </tr>\n",
       "    <tr>\n",
       "      <th id=\"T_3f082_level0_row47\" class=\"row_heading level0 row47\" >47</th>\n",
       "      <td id=\"T_3f082_row47_col0\" class=\"data row47 col0\" >Polynomial Features</td>\n",
       "      <td id=\"T_3f082_row47_col1\" class=\"data row47 col1\" >False</td>\n",
       "    </tr>\n",
       "    <tr>\n",
       "      <th id=\"T_3f082_level0_row48\" class=\"row_heading level0 row48\" >48</th>\n",
       "      <td id=\"T_3f082_row48_col0\" class=\"data row48 col0\" >Polynomial Degree</td>\n",
       "      <td id=\"T_3f082_row48_col1\" class=\"data row48 col1\" >None</td>\n",
       "    </tr>\n",
       "    <tr>\n",
       "      <th id=\"T_3f082_level0_row49\" class=\"row_heading level0 row49\" >49</th>\n",
       "      <td id=\"T_3f082_row49_col0\" class=\"data row49 col0\" >Trignometry Features</td>\n",
       "      <td id=\"T_3f082_row49_col1\" class=\"data row49 col1\" >False</td>\n",
       "    </tr>\n",
       "    <tr>\n",
       "      <th id=\"T_3f082_level0_row50\" class=\"row_heading level0 row50\" >50</th>\n",
       "      <td id=\"T_3f082_row50_col0\" class=\"data row50 col0\" >Polynomial Threshold</td>\n",
       "      <td id=\"T_3f082_row50_col1\" class=\"data row50 col1\" >None</td>\n",
       "    </tr>\n",
       "    <tr>\n",
       "      <th id=\"T_3f082_level0_row51\" class=\"row_heading level0 row51\" >51</th>\n",
       "      <td id=\"T_3f082_row51_col0\" class=\"data row51 col0\" >Group Features</td>\n",
       "      <td id=\"T_3f082_row51_col1\" class=\"data row51 col1\" >False</td>\n",
       "    </tr>\n",
       "    <tr>\n",
       "      <th id=\"T_3f082_level0_row52\" class=\"row_heading level0 row52\" >52</th>\n",
       "      <td id=\"T_3f082_row52_col0\" class=\"data row52 col0\" >Feature Selection</td>\n",
       "      <td id=\"T_3f082_row52_col1\" class=\"data row52 col1\" >False</td>\n",
       "    </tr>\n",
       "    <tr>\n",
       "      <th id=\"T_3f082_level0_row53\" class=\"row_heading level0 row53\" >53</th>\n",
       "      <td id=\"T_3f082_row53_col0\" class=\"data row53 col0\" >Feature Selection Method</td>\n",
       "      <td id=\"T_3f082_row53_col1\" class=\"data row53 col1\" >classic</td>\n",
       "    </tr>\n",
       "    <tr>\n",
       "      <th id=\"T_3f082_level0_row54\" class=\"row_heading level0 row54\" >54</th>\n",
       "      <td id=\"T_3f082_row54_col0\" class=\"data row54 col0\" >Features Selection Threshold</td>\n",
       "      <td id=\"T_3f082_row54_col1\" class=\"data row54 col1\" >None</td>\n",
       "    </tr>\n",
       "    <tr>\n",
       "      <th id=\"T_3f082_level0_row55\" class=\"row_heading level0 row55\" >55</th>\n",
       "      <td id=\"T_3f082_row55_col0\" class=\"data row55 col0\" >Feature Interaction</td>\n",
       "      <td id=\"T_3f082_row55_col1\" class=\"data row55 col1\" >False</td>\n",
       "    </tr>\n",
       "    <tr>\n",
       "      <th id=\"T_3f082_level0_row56\" class=\"row_heading level0 row56\" >56</th>\n",
       "      <td id=\"T_3f082_row56_col0\" class=\"data row56 col0\" >Feature Ratio</td>\n",
       "      <td id=\"T_3f082_row56_col1\" class=\"data row56 col1\" >False</td>\n",
       "    </tr>\n",
       "    <tr>\n",
       "      <th id=\"T_3f082_level0_row57\" class=\"row_heading level0 row57\" >57</th>\n",
       "      <td id=\"T_3f082_row57_col0\" class=\"data row57 col0\" >Interaction Threshold</td>\n",
       "      <td id=\"T_3f082_row57_col1\" class=\"data row57 col1\" >None</td>\n",
       "    </tr>\n",
       "    <tr>\n",
       "      <th id=\"T_3f082_level0_row58\" class=\"row_heading level0 row58\" >58</th>\n",
       "      <td id=\"T_3f082_row58_col0\" class=\"data row58 col0\" >Fix Imbalance</td>\n",
       "      <td id=\"T_3f082_row58_col1\" class=\"data row58 col1\" >True</td>\n",
       "    </tr>\n",
       "    <tr>\n",
       "      <th id=\"T_3f082_level0_row59\" class=\"row_heading level0 row59\" >59</th>\n",
       "      <td id=\"T_3f082_row59_col0\" class=\"data row59 col0\" >Fix Imbalance Method</td>\n",
       "      <td id=\"T_3f082_row59_col1\" class=\"data row59 col1\" >SMOTE</td>\n",
       "    </tr>\n",
       "  </tbody>\n",
       "</table>\n"
      ],
      "text/plain": [
       "<pandas.io.formats.style.Styler at 0x1e129edb430>"
      ]
     },
     "metadata": {},
     "output_type": "display_data"
    }
   ],
   "source": [
    "s_m = setup(X_train_m, target = \"dec_m\", fix_imbalance = True)"
   ]
  },
  {
   "cell_type": "code",
   "execution_count": 168,
   "id": "ebf9fb17",
   "metadata": {},
   "outputs": [
    {
     "data": {
      "text/html": [
       "<style type=\"text/css\">\n",
       "#T_e26fc th {\n",
       "  text-align: left;\n",
       "}\n",
       "#T_e26fc_row0_col0, #T_e26fc_row0_col3, #T_e26fc_row1_col0, #T_e26fc_row1_col1, #T_e26fc_row1_col2, #T_e26fc_row1_col3, #T_e26fc_row1_col4, #T_e26fc_row1_col5, #T_e26fc_row1_col6, #T_e26fc_row1_col7, #T_e26fc_row2_col0, #T_e26fc_row2_col1, #T_e26fc_row2_col2, #T_e26fc_row2_col3, #T_e26fc_row2_col4, #T_e26fc_row2_col5, #T_e26fc_row2_col6, #T_e26fc_row2_col7, #T_e26fc_row3_col0, #T_e26fc_row3_col1, #T_e26fc_row3_col2, #T_e26fc_row3_col3, #T_e26fc_row3_col4, #T_e26fc_row3_col5, #T_e26fc_row3_col6, #T_e26fc_row3_col7, #T_e26fc_row4_col0, #T_e26fc_row4_col1, #T_e26fc_row4_col2, #T_e26fc_row4_col3, #T_e26fc_row4_col4, #T_e26fc_row4_col5, #T_e26fc_row4_col6, #T_e26fc_row4_col7, #T_e26fc_row5_col0, #T_e26fc_row5_col1, #T_e26fc_row5_col2, #T_e26fc_row5_col3, #T_e26fc_row5_col4, #T_e26fc_row5_col5, #T_e26fc_row5_col6, #T_e26fc_row5_col7, #T_e26fc_row6_col0, #T_e26fc_row6_col1, #T_e26fc_row6_col2, #T_e26fc_row6_col3, #T_e26fc_row6_col4, #T_e26fc_row6_col5, #T_e26fc_row6_col6, #T_e26fc_row6_col7, #T_e26fc_row7_col0, #T_e26fc_row7_col1, #T_e26fc_row7_col2, #T_e26fc_row7_col3, #T_e26fc_row7_col4, #T_e26fc_row7_col5, #T_e26fc_row7_col6, #T_e26fc_row7_col7, #T_e26fc_row8_col0, #T_e26fc_row8_col1, #T_e26fc_row8_col2, #T_e26fc_row8_col3, #T_e26fc_row8_col4, #T_e26fc_row8_col5, #T_e26fc_row8_col6, #T_e26fc_row8_col7, #T_e26fc_row9_col0, #T_e26fc_row9_col1, #T_e26fc_row9_col2, #T_e26fc_row9_col3, #T_e26fc_row9_col4, #T_e26fc_row9_col5, #T_e26fc_row9_col6, #T_e26fc_row9_col7, #T_e26fc_row10_col0, #T_e26fc_row10_col1, #T_e26fc_row10_col2, #T_e26fc_row10_col3, #T_e26fc_row10_col4, #T_e26fc_row10_col5, #T_e26fc_row10_col6, #T_e26fc_row10_col7, #T_e26fc_row11_col0, #T_e26fc_row11_col1, #T_e26fc_row11_col2, #T_e26fc_row11_col3, #T_e26fc_row11_col4, #T_e26fc_row11_col5, #T_e26fc_row11_col6, #T_e26fc_row11_col7, #T_e26fc_row12_col0, #T_e26fc_row12_col1, #T_e26fc_row12_col2, #T_e26fc_row12_col3, #T_e26fc_row12_col4, #T_e26fc_row12_col5, #T_e26fc_row12_col6, #T_e26fc_row12_col7, #T_e26fc_row13_col0, #T_e26fc_row13_col1, #T_e26fc_row13_col2, #T_e26fc_row13_col4, #T_e26fc_row13_col5, #T_e26fc_row13_col6, #T_e26fc_row13_col7 {\n",
       "  text-align: left;\n",
       "}\n",
       "#T_e26fc_row0_col1, #T_e26fc_row0_col2, #T_e26fc_row0_col4, #T_e26fc_row0_col5, #T_e26fc_row0_col6, #T_e26fc_row0_col7, #T_e26fc_row13_col3 {\n",
       "  text-align: left;\n",
       "  background-color: yellow;\n",
       "}\n",
       "#T_e26fc_row0_col8, #T_e26fc_row1_col8, #T_e26fc_row2_col8, #T_e26fc_row3_col8, #T_e26fc_row4_col8, #T_e26fc_row5_col8, #T_e26fc_row6_col8, #T_e26fc_row7_col8, #T_e26fc_row8_col8, #T_e26fc_row9_col8, #T_e26fc_row10_col8, #T_e26fc_row12_col8, #T_e26fc_row13_col8 {\n",
       "  text-align: left;\n",
       "  background-color: lightgrey;\n",
       "}\n",
       "#T_e26fc_row11_col8 {\n",
       "  text-align: left;\n",
       "  background-color: yellow;\n",
       "  background-color: lightgrey;\n",
       "}\n",
       "</style>\n",
       "<table id=\"T_e26fc\">\n",
       "  <thead>\n",
       "    <tr>\n",
       "      <th class=\"blank level0\" >&nbsp;</th>\n",
       "      <th id=\"T_e26fc_level0_col0\" class=\"col_heading level0 col0\" >Model</th>\n",
       "      <th id=\"T_e26fc_level0_col1\" class=\"col_heading level0 col1\" >Accuracy</th>\n",
       "      <th id=\"T_e26fc_level0_col2\" class=\"col_heading level0 col2\" >AUC</th>\n",
       "      <th id=\"T_e26fc_level0_col3\" class=\"col_heading level0 col3\" >Recall</th>\n",
       "      <th id=\"T_e26fc_level0_col4\" class=\"col_heading level0 col4\" >Prec.</th>\n",
       "      <th id=\"T_e26fc_level0_col5\" class=\"col_heading level0 col5\" >F1</th>\n",
       "      <th id=\"T_e26fc_level0_col6\" class=\"col_heading level0 col6\" >Kappa</th>\n",
       "      <th id=\"T_e26fc_level0_col7\" class=\"col_heading level0 col7\" >MCC</th>\n",
       "      <th id=\"T_e26fc_level0_col8\" class=\"col_heading level0 col8\" >TT (Sec)</th>\n",
       "    </tr>\n",
       "  </thead>\n",
       "  <tbody>\n",
       "    <tr>\n",
       "      <th id=\"T_e26fc_level0_row0\" class=\"row_heading level0 row0\" >lda</th>\n",
       "      <td id=\"T_e26fc_row0_col0\" class=\"data row0 col0\" >Linear Discriminant Analysis</td>\n",
       "      <td id=\"T_e26fc_row0_col1\" class=\"data row0 col1\" >0.7054</td>\n",
       "      <td id=\"T_e26fc_row0_col2\" class=\"data row0 col2\" >0.7719</td>\n",
       "      <td id=\"T_e26fc_row0_col3\" class=\"data row0 col3\" >0.6938</td>\n",
       "      <td id=\"T_e26fc_row0_col4\" class=\"data row0 col4\" >0.6871</td>\n",
       "      <td id=\"T_e26fc_row0_col5\" class=\"data row0 col5\" >0.6900</td>\n",
       "      <td id=\"T_e26fc_row0_col6\" class=\"data row0 col6\" >0.4094</td>\n",
       "      <td id=\"T_e26fc_row0_col7\" class=\"data row0 col7\" >0.4098</td>\n",
       "      <td id=\"T_e26fc_row0_col8\" class=\"data row0 col8\" >0.7410</td>\n",
       "    </tr>\n",
       "    <tr>\n",
       "      <th id=\"T_e26fc_level0_row1\" class=\"row_heading level0 row1\" >ridge</th>\n",
       "      <td id=\"T_e26fc_row1_col0\" class=\"data row1 col0\" >Ridge Classifier</td>\n",
       "      <td id=\"T_e26fc_row1_col1\" class=\"data row1 col1\" >0.6990</td>\n",
       "      <td id=\"T_e26fc_row1_col2\" class=\"data row1 col2\" >0.0000</td>\n",
       "      <td id=\"T_e26fc_row1_col3\" class=\"data row1 col3\" >0.7026</td>\n",
       "      <td id=\"T_e26fc_row1_col4\" class=\"data row1 col4\" >0.6750</td>\n",
       "      <td id=\"T_e26fc_row1_col5\" class=\"data row1 col5\" >0.6883</td>\n",
       "      <td id=\"T_e26fc_row1_col6\" class=\"data row1 col6\" >0.3974</td>\n",
       "      <td id=\"T_e26fc_row1_col7\" class=\"data row1 col7\" >0.3980</td>\n",
       "      <td id=\"T_e26fc_row1_col8\" class=\"data row1 col8\" >0.2690</td>\n",
       "    </tr>\n",
       "    <tr>\n",
       "      <th id=\"T_e26fc_level0_row2\" class=\"row_heading level0 row2\" >et</th>\n",
       "      <td id=\"T_e26fc_row2_col0\" class=\"data row2 col0\" >Extra Trees Classifier</td>\n",
       "      <td id=\"T_e26fc_row2_col1\" class=\"data row2 col1\" >0.6899</td>\n",
       "      <td id=\"T_e26fc_row2_col2\" class=\"data row2 col2\" >0.7555</td>\n",
       "      <td id=\"T_e26fc_row2_col3\" class=\"data row2 col3\" >0.6434</td>\n",
       "      <td id=\"T_e26fc_row2_col4\" class=\"data row2 col4\" >0.6846</td>\n",
       "      <td id=\"T_e26fc_row2_col5\" class=\"data row2 col5\" >0.6625</td>\n",
       "      <td id=\"T_e26fc_row2_col6\" class=\"data row2 col6\" >0.3762</td>\n",
       "      <td id=\"T_e26fc_row2_col7\" class=\"data row2 col7\" >0.3776</td>\n",
       "      <td id=\"T_e26fc_row2_col8\" class=\"data row2 col8\" >0.9490</td>\n",
       "    </tr>\n",
       "    <tr>\n",
       "      <th id=\"T_e26fc_level0_row3\" class=\"row_heading level0 row3\" >lightgbm</th>\n",
       "      <td id=\"T_e26fc_row3_col0\" class=\"data row3 col0\" >Light Gradient Boosting Machine</td>\n",
       "      <td id=\"T_e26fc_row3_col1\" class=\"data row3 col1\" >0.6872</td>\n",
       "      <td id=\"T_e26fc_row3_col2\" class=\"data row3 col2\" >0.7569</td>\n",
       "      <td id=\"T_e26fc_row3_col3\" class=\"data row3 col3\" >0.6570</td>\n",
       "      <td id=\"T_e26fc_row3_col4\" class=\"data row3 col4\" >0.6748</td>\n",
       "      <td id=\"T_e26fc_row3_col5\" class=\"data row3 col5\" >0.6655</td>\n",
       "      <td id=\"T_e26fc_row3_col6\" class=\"data row3 col6\" >0.3719</td>\n",
       "      <td id=\"T_e26fc_row3_col7\" class=\"data row3 col7\" >0.3724</td>\n",
       "      <td id=\"T_e26fc_row3_col8\" class=\"data row3 col8\" >0.5740</td>\n",
       "    </tr>\n",
       "    <tr>\n",
       "      <th id=\"T_e26fc_level0_row4\" class=\"row_heading level0 row4\" >rf</th>\n",
       "      <td id=\"T_e26fc_row4_col0\" class=\"data row4 col0\" >Random Forest Classifier</td>\n",
       "      <td id=\"T_e26fc_row4_col1\" class=\"data row4 col1\" >0.6812</td>\n",
       "      <td id=\"T_e26fc_row4_col2\" class=\"data row4 col2\" >0.7502</td>\n",
       "      <td id=\"T_e26fc_row4_col3\" class=\"data row4 col3\" >0.6250</td>\n",
       "      <td id=\"T_e26fc_row4_col4\" class=\"data row4 col4\" >0.6785</td>\n",
       "      <td id=\"T_e26fc_row4_col5\" class=\"data row4 col5\" >0.6496</td>\n",
       "      <td id=\"T_e26fc_row4_col6\" class=\"data row4 col6\" >0.3581</td>\n",
       "      <td id=\"T_e26fc_row4_col7\" class=\"data row4 col7\" >0.3600</td>\n",
       "      <td id=\"T_e26fc_row4_col8\" class=\"data row4 col8\" >0.7340</td>\n",
       "    </tr>\n",
       "    <tr>\n",
       "      <th id=\"T_e26fc_level0_row5\" class=\"row_heading level0 row5\" >gbc</th>\n",
       "      <td id=\"T_e26fc_row5_col0\" class=\"data row5 col0\" >Gradient Boosting Classifier</td>\n",
       "      <td id=\"T_e26fc_row5_col1\" class=\"data row5 col1\" >0.6789</td>\n",
       "      <td id=\"T_e26fc_row5_col2\" class=\"data row5 col2\" >0.7468</td>\n",
       "      <td id=\"T_e26fc_row5_col3\" class=\"data row5 col3\" >0.6530</td>\n",
       "      <td id=\"T_e26fc_row5_col4\" class=\"data row5 col4\" >0.6642</td>\n",
       "      <td id=\"T_e26fc_row5_col5\" class=\"data row5 col5\" >0.6582</td>\n",
       "      <td id=\"T_e26fc_row5_col6\" class=\"data row5 col6\" >0.3555</td>\n",
       "      <td id=\"T_e26fc_row5_col7\" class=\"data row5 col7\" >0.3559</td>\n",
       "      <td id=\"T_e26fc_row5_col8\" class=\"data row5 col8\" >2.0510</td>\n",
       "    </tr>\n",
       "    <tr>\n",
       "      <th id=\"T_e26fc_level0_row6\" class=\"row_heading level0 row6\" >ada</th>\n",
       "      <td id=\"T_e26fc_row6_col0\" class=\"data row6 col0\" >Ada Boost Classifier</td>\n",
       "      <td id=\"T_e26fc_row6_col1\" class=\"data row6 col1\" >0.6395</td>\n",
       "      <td id=\"T_e26fc_row6_col2\" class=\"data row6 col2\" >0.6937</td>\n",
       "      <td id=\"T_e26fc_row6_col3\" class=\"data row6 col3\" >0.6131</td>\n",
       "      <td id=\"T_e26fc_row6_col4\" class=\"data row6 col4\" >0.6208</td>\n",
       "      <td id=\"T_e26fc_row6_col5\" class=\"data row6 col5\" >0.6165</td>\n",
       "      <td id=\"T_e26fc_row6_col6\" class=\"data row6 col6\" >0.2765</td>\n",
       "      <td id=\"T_e26fc_row6_col7\" class=\"data row6 col7\" >0.2769</td>\n",
       "      <td id=\"T_e26fc_row6_col8\" class=\"data row6 col8\" >0.6790</td>\n",
       "    </tr>\n",
       "    <tr>\n",
       "      <th id=\"T_e26fc_level0_row7\" class=\"row_heading level0 row7\" >dt</th>\n",
       "      <td id=\"T_e26fc_row7_col0\" class=\"data row7 col0\" >Decision Tree Classifier</td>\n",
       "      <td id=\"T_e26fc_row7_col1\" class=\"data row7 col1\" >0.6001</td>\n",
       "      <td id=\"T_e26fc_row7_col2\" class=\"data row7 col2\" >0.5993</td>\n",
       "      <td id=\"T_e26fc_row7_col3\" class=\"data row7 col3\" >0.5843</td>\n",
       "      <td id=\"T_e26fc_row7_col4\" class=\"data row7 col4\" >0.5767</td>\n",
       "      <td id=\"T_e26fc_row7_col5\" class=\"data row7 col5\" >0.5803</td>\n",
       "      <td id=\"T_e26fc_row7_col6\" class=\"data row7 col6\" >0.1985</td>\n",
       "      <td id=\"T_e26fc_row7_col7\" class=\"data row7 col7\" >0.1987</td>\n",
       "      <td id=\"T_e26fc_row7_col8\" class=\"data row7 col8\" >0.3460</td>\n",
       "    </tr>\n",
       "    <tr>\n",
       "      <th id=\"T_e26fc_level0_row8\" class=\"row_heading level0 row8\" >qda</th>\n",
       "      <td id=\"T_e26fc_row8_col0\" class=\"data row8 col0\" >Quadratic Discriminant Analysis</td>\n",
       "      <td id=\"T_e26fc_row8_col1\" class=\"data row8 col1\" >0.5710</td>\n",
       "      <td id=\"T_e26fc_row8_col2\" class=\"data row8 col2\" >0.5587</td>\n",
       "      <td id=\"T_e26fc_row8_col3\" class=\"data row8 col3\" >0.3246</td>\n",
       "      <td id=\"T_e26fc_row8_col4\" class=\"data row8 col4\" >0.6245</td>\n",
       "      <td id=\"T_e26fc_row8_col5\" class=\"data row8 col5\" >0.3960</td>\n",
       "      <td id=\"T_e26fc_row8_col6\" class=\"data row8 col6\" >0.1199</td>\n",
       "      <td id=\"T_e26fc_row8_col7\" class=\"data row8 col7\" >0.1505</td>\n",
       "      <td id=\"T_e26fc_row8_col8\" class=\"data row8 col8\" >0.7350</td>\n",
       "    </tr>\n",
       "    <tr>\n",
       "      <th id=\"T_e26fc_level0_row9\" class=\"row_heading level0 row9\" >knn</th>\n",
       "      <td id=\"T_e26fc_row9_col0\" class=\"data row9 col0\" >K Neighbors Classifier</td>\n",
       "      <td id=\"T_e26fc_row9_col1\" class=\"data row9 col1\" >0.5642</td>\n",
       "      <td id=\"T_e26fc_row9_col2\" class=\"data row9 col2\" >0.5681</td>\n",
       "      <td id=\"T_e26fc_row9_col3\" class=\"data row9 col3\" >0.5492</td>\n",
       "      <td id=\"T_e26fc_row9_col4\" class=\"data row9 col4\" >0.5397</td>\n",
       "      <td id=\"T_e26fc_row9_col5\" class=\"data row9 col5\" >0.5433</td>\n",
       "      <td id=\"T_e26fc_row9_col6\" class=\"data row9 col6\" >0.1268</td>\n",
       "      <td id=\"T_e26fc_row9_col7\" class=\"data row9 col7\" >0.1273</td>\n",
       "      <td id=\"T_e26fc_row9_col8\" class=\"data row9 col8\" >0.4560</td>\n",
       "    </tr>\n",
       "    <tr>\n",
       "      <th id=\"T_e26fc_level0_row10\" class=\"row_heading level0 row10\" >lr</th>\n",
       "      <td id=\"T_e26fc_row10_col0\" class=\"data row10 col0\" >Logistic Regression</td>\n",
       "      <td id=\"T_e26fc_row10_col1\" class=\"data row10 col1\" >0.5301</td>\n",
       "      <td id=\"T_e26fc_row10_col2\" class=\"data row10 col2\" >0.5111</td>\n",
       "      <td id=\"T_e26fc_row10_col3\" class=\"data row10 col3\" >0.1184</td>\n",
       "      <td id=\"T_e26fc_row10_col4\" class=\"data row10 col4\" >0.2035</td>\n",
       "      <td id=\"T_e26fc_row10_col5\" class=\"data row10 col5\" >0.1117</td>\n",
       "      <td id=\"T_e26fc_row10_col6\" class=\"data row10 col6\" >0.0190</td>\n",
       "      <td id=\"T_e26fc_row10_col7\" class=\"data row10 col7\" >0.0197</td>\n",
       "      <td id=\"T_e26fc_row10_col8\" class=\"data row10 col8\" >0.3300</td>\n",
       "    </tr>\n",
       "    <tr>\n",
       "      <th id=\"T_e26fc_level0_row11\" class=\"row_heading level0 row11\" >dummy</th>\n",
       "      <td id=\"T_e26fc_row11_col0\" class=\"data row11 col0\" >Dummy Classifier</td>\n",
       "      <td id=\"T_e26fc_row11_col1\" class=\"data row11 col1\" >0.5263</td>\n",
       "      <td id=\"T_e26fc_row11_col2\" class=\"data row11 col2\" >0.5000</td>\n",
       "      <td id=\"T_e26fc_row11_col3\" class=\"data row11 col3\" >0.0000</td>\n",
       "      <td id=\"T_e26fc_row11_col4\" class=\"data row11 col4\" >0.0000</td>\n",
       "      <td id=\"T_e26fc_row11_col5\" class=\"data row11 col5\" >0.0000</td>\n",
       "      <td id=\"T_e26fc_row11_col6\" class=\"data row11 col6\" >0.0000</td>\n",
       "      <td id=\"T_e26fc_row11_col7\" class=\"data row11 col7\" >0.0000</td>\n",
       "      <td id=\"T_e26fc_row11_col8\" class=\"data row11 col8\" >0.2320</td>\n",
       "    </tr>\n",
       "    <tr>\n",
       "      <th id=\"T_e26fc_level0_row12\" class=\"row_heading level0 row12\" >svm</th>\n",
       "      <td id=\"T_e26fc_row12_col0\" class=\"data row12 col0\" >SVM - Linear Kernel</td>\n",
       "      <td id=\"T_e26fc_row12_col1\" class=\"data row12 col1\" >0.5032</td>\n",
       "      <td id=\"T_e26fc_row12_col2\" class=\"data row12 col2\" >0.0000</td>\n",
       "      <td id=\"T_e26fc_row12_col3\" class=\"data row12 col3\" >0.4853</td>\n",
       "      <td id=\"T_e26fc_row12_col4\" class=\"data row12 col4\" >0.3782</td>\n",
       "      <td id=\"T_e26fc_row12_col5\" class=\"data row12 col5\" >0.3896</td>\n",
       "      <td id=\"T_e26fc_row12_col6\" class=\"data row12 col6\" >0.0044</td>\n",
       "      <td id=\"T_e26fc_row12_col7\" class=\"data row12 col7\" >0.0058</td>\n",
       "      <td id=\"T_e26fc_row12_col8\" class=\"data row12 col8\" >0.2780</td>\n",
       "    </tr>\n",
       "    <tr>\n",
       "      <th id=\"T_e26fc_level0_row13\" class=\"row_heading level0 row13\" >nb</th>\n",
       "      <td id=\"T_e26fc_row13_col0\" class=\"data row13 col0\" >Naive Bayes</td>\n",
       "      <td id=\"T_e26fc_row13_col1\" class=\"data row13 col1\" >0.4843</td>\n",
       "      <td id=\"T_e26fc_row13_col2\" class=\"data row13 col2\" >0.5499</td>\n",
       "      <td id=\"T_e26fc_row13_col3\" class=\"data row13 col3\" >0.9744</td>\n",
       "      <td id=\"T_e26fc_row13_col4\" class=\"data row13 col4\" >0.4783</td>\n",
       "      <td id=\"T_e26fc_row13_col5\" class=\"data row13 col5\" >0.6416</td>\n",
       "      <td id=\"T_e26fc_row13_col6\" class=\"data row13 col6\" >0.0167</td>\n",
       "      <td id=\"T_e26fc_row13_col7\" class=\"data row13 col7\" >0.0485</td>\n",
       "      <td id=\"T_e26fc_row13_col8\" class=\"data row13 col8\" >0.2520</td>\n",
       "    </tr>\n",
       "  </tbody>\n",
       "</table>\n"
      ],
      "text/plain": [
       "<pandas.io.formats.style.Styler at 0x1e11cd23e50>"
      ]
     },
     "metadata": {},
     "output_type": "display_data"
    }
   ],
   "source": [
    "best_m = compare_models()"
   ]
  },
  {
   "cell_type": "code",
   "execution_count": 169,
   "id": "cfcf0528",
   "metadata": {},
   "outputs": [],
   "source": [
    "predictions_m = predict_model(best_m, data=X_test_m.drop(columns = [\"dec_m\"]))"
   ]
  },
  {
   "cell_type": "code",
   "execution_count": 170,
   "id": "8733e392",
   "metadata": {},
   "outputs": [
    {
     "data": {
      "text/plain": [
       "0.6928571428571428"
      ]
     },
     "execution_count": 170,
     "metadata": {},
     "output_type": "execute_result"
    }
   ],
   "source": [
    "accuracy_score(X_test_m['dec_m'], predictions_m[['Label']])"
   ]
  },
  {
   "cell_type": "code",
   "execution_count": 171,
   "id": "02088c50",
   "metadata": {},
   "outputs": [
    {
     "data": {
      "text/plain": [
       "0.7978272390037096"
      ]
     },
     "execution_count": 171,
     "metadata": {},
     "output_type": "execute_result"
    }
   ],
   "source": [
    "pred_m = predict_model(best_m, data=X_train_m.drop(columns = [\"dec_m\"]))\n",
    "accuracy_score(X_train_m[\"dec_m\"], pred_m[['Label']])"
   ]
  },
  {
   "cell_type": "code",
   "execution_count": null,
   "id": "9a599811",
   "metadata": {},
   "outputs": [],
   "source": []
  },
  {
   "cell_type": "code",
   "execution_count": null,
   "id": "b2f930ac",
   "metadata": {},
   "outputs": [],
   "source": []
  },
  {
   "cell_type": "code",
   "execution_count": null,
   "id": "d8e3699a",
   "metadata": {},
   "outputs": [],
   "source": []
  },
  {
   "cell_type": "code",
   "execution_count": 175,
   "id": "e4ae3de1",
   "metadata": {},
   "outputs": [],
   "source": [
    "X_w = df.drop(columns = [\"id\",'match','dec_m'])"
   ]
  },
  {
   "cell_type": "code",
   "execution_count": 176,
   "id": "aefe2a63",
   "metadata": {},
   "outputs": [],
   "source": [
    "X_train_w,X_test_w= train_test_split(X_w, test_size=0.1, random_state = 0)"
   ]
  },
  {
   "cell_type": "code",
   "execution_count": 220,
   "id": "f40fec34",
   "metadata": {},
   "outputs": [
    {
     "data": {
      "text/html": [
       "<style type=\"text/css\">\n",
       "#T_9bd22_row5_col1, #T_9bd22_row44_col1, #T_9bd22_row58_col1 {\n",
       "  background-color: lightgreen;\n",
       "}\n",
       "</style>\n",
       "<table id=\"T_9bd22\">\n",
       "  <thead>\n",
       "    <tr>\n",
       "      <th class=\"blank level0\" >&nbsp;</th>\n",
       "      <th id=\"T_9bd22_level0_col0\" class=\"col_heading level0 col0\" >Description</th>\n",
       "      <th id=\"T_9bd22_level0_col1\" class=\"col_heading level0 col1\" >Value</th>\n",
       "    </tr>\n",
       "  </thead>\n",
       "  <tbody>\n",
       "    <tr>\n",
       "      <th id=\"T_9bd22_level0_row0\" class=\"row_heading level0 row0\" >0</th>\n",
       "      <td id=\"T_9bd22_row0_col0\" class=\"data row0 col0\" >session_id</td>\n",
       "      <td id=\"T_9bd22_row0_col1\" class=\"data row0 col1\" >210</td>\n",
       "    </tr>\n",
       "    <tr>\n",
       "      <th id=\"T_9bd22_level0_row1\" class=\"row_heading level0 row1\" >1</th>\n",
       "      <td id=\"T_9bd22_row1_col0\" class=\"data row1 col0\" >Target</td>\n",
       "      <td id=\"T_9bd22_row1_col1\" class=\"data row1 col1\" >dec_w</td>\n",
       "    </tr>\n",
       "    <tr>\n",
       "      <th id=\"T_9bd22_level0_row2\" class=\"row_heading level0 row2\" >2</th>\n",
       "      <td id=\"T_9bd22_row2_col0\" class=\"data row2 col0\" >Target Type</td>\n",
       "      <td id=\"T_9bd22_row2_col1\" class=\"data row2 col1\" >Binary</td>\n",
       "    </tr>\n",
       "    <tr>\n",
       "      <th id=\"T_9bd22_level0_row3\" class=\"row_heading level0 row3\" >3</th>\n",
       "      <td id=\"T_9bd22_row3_col0\" class=\"data row3 col0\" >Label Encoded</td>\n",
       "      <td id=\"T_9bd22_row3_col1\" class=\"data row3 col1\" >None</td>\n",
       "    </tr>\n",
       "    <tr>\n",
       "      <th id=\"T_9bd22_level0_row4\" class=\"row_heading level0 row4\" >4</th>\n",
       "      <td id=\"T_9bd22_row4_col0\" class=\"data row4 col0\" >Original Data</td>\n",
       "      <td id=\"T_9bd22_row4_col1\" class=\"data row4 col1\" >(3774, 93)</td>\n",
       "    </tr>\n",
       "    <tr>\n",
       "      <th id=\"T_9bd22_level0_row5\" class=\"row_heading level0 row5\" >5</th>\n",
       "      <td id=\"T_9bd22_row5_col0\" class=\"data row5 col0\" >Missing Values</td>\n",
       "      <td id=\"T_9bd22_row5_col1\" class=\"data row5 col1\" >True</td>\n",
       "    </tr>\n",
       "    <tr>\n",
       "      <th id=\"T_9bd22_level0_row6\" class=\"row_heading level0 row6\" >6</th>\n",
       "      <td id=\"T_9bd22_row6_col0\" class=\"data row6 col0\" >Numeric Features</td>\n",
       "      <td id=\"T_9bd22_row6_col1\" class=\"data row6 col1\" >29</td>\n",
       "    </tr>\n",
       "    <tr>\n",
       "      <th id=\"T_9bd22_level0_row7\" class=\"row_heading level0 row7\" >7</th>\n",
       "      <td id=\"T_9bd22_row7_col0\" class=\"data row7 col0\" >Categorical Features</td>\n",
       "      <td id=\"T_9bd22_row7_col1\" class=\"data row7 col1\" >63</td>\n",
       "    </tr>\n",
       "    <tr>\n",
       "      <th id=\"T_9bd22_level0_row8\" class=\"row_heading level0 row8\" >8</th>\n",
       "      <td id=\"T_9bd22_row8_col0\" class=\"data row8 col0\" >Ordinal Features</td>\n",
       "      <td id=\"T_9bd22_row8_col1\" class=\"data row8 col1\" >False</td>\n",
       "    </tr>\n",
       "    <tr>\n",
       "      <th id=\"T_9bd22_level0_row9\" class=\"row_heading level0 row9\" >9</th>\n",
       "      <td id=\"T_9bd22_row9_col0\" class=\"data row9 col0\" >High Cardinality Features</td>\n",
       "      <td id=\"T_9bd22_row9_col1\" class=\"data row9 col1\" >False</td>\n",
       "    </tr>\n",
       "    <tr>\n",
       "      <th id=\"T_9bd22_level0_row10\" class=\"row_heading level0 row10\" >10</th>\n",
       "      <td id=\"T_9bd22_row10_col0\" class=\"data row10 col0\" >High Cardinality Method</td>\n",
       "      <td id=\"T_9bd22_row10_col1\" class=\"data row10 col1\" >None</td>\n",
       "    </tr>\n",
       "    <tr>\n",
       "      <th id=\"T_9bd22_level0_row11\" class=\"row_heading level0 row11\" >11</th>\n",
       "      <td id=\"T_9bd22_row11_col0\" class=\"data row11 col0\" >Transformed Train Set</td>\n",
       "      <td id=\"T_9bd22_row11_col1\" class=\"data row11 col1\" >(2641, 618)</td>\n",
       "    </tr>\n",
       "    <tr>\n",
       "      <th id=\"T_9bd22_level0_row12\" class=\"row_heading level0 row12\" >12</th>\n",
       "      <td id=\"T_9bd22_row12_col0\" class=\"data row12 col0\" >Transformed Test Set</td>\n",
       "      <td id=\"T_9bd22_row12_col1\" class=\"data row12 col1\" >(1133, 618)</td>\n",
       "    </tr>\n",
       "    <tr>\n",
       "      <th id=\"T_9bd22_level0_row13\" class=\"row_heading level0 row13\" >13</th>\n",
       "      <td id=\"T_9bd22_row13_col0\" class=\"data row13 col0\" >Shuffle Train-Test</td>\n",
       "      <td id=\"T_9bd22_row13_col1\" class=\"data row13 col1\" >True</td>\n",
       "    </tr>\n",
       "    <tr>\n",
       "      <th id=\"T_9bd22_level0_row14\" class=\"row_heading level0 row14\" >14</th>\n",
       "      <td id=\"T_9bd22_row14_col0\" class=\"data row14 col0\" >Stratify Train-Test</td>\n",
       "      <td id=\"T_9bd22_row14_col1\" class=\"data row14 col1\" >False</td>\n",
       "    </tr>\n",
       "    <tr>\n",
       "      <th id=\"T_9bd22_level0_row15\" class=\"row_heading level0 row15\" >15</th>\n",
       "      <td id=\"T_9bd22_row15_col0\" class=\"data row15 col0\" >Fold Generator</td>\n",
       "      <td id=\"T_9bd22_row15_col1\" class=\"data row15 col1\" >StratifiedKFold</td>\n",
       "    </tr>\n",
       "    <tr>\n",
       "      <th id=\"T_9bd22_level0_row16\" class=\"row_heading level0 row16\" >16</th>\n",
       "      <td id=\"T_9bd22_row16_col0\" class=\"data row16 col0\" >Fold Number</td>\n",
       "      <td id=\"T_9bd22_row16_col1\" class=\"data row16 col1\" >10</td>\n",
       "    </tr>\n",
       "    <tr>\n",
       "      <th id=\"T_9bd22_level0_row17\" class=\"row_heading level0 row17\" >17</th>\n",
       "      <td id=\"T_9bd22_row17_col0\" class=\"data row17 col0\" >CPU Jobs</td>\n",
       "      <td id=\"T_9bd22_row17_col1\" class=\"data row17 col1\" >-1</td>\n",
       "    </tr>\n",
       "    <tr>\n",
       "      <th id=\"T_9bd22_level0_row18\" class=\"row_heading level0 row18\" >18</th>\n",
       "      <td id=\"T_9bd22_row18_col0\" class=\"data row18 col0\" >Use GPU</td>\n",
       "      <td id=\"T_9bd22_row18_col1\" class=\"data row18 col1\" >False</td>\n",
       "    </tr>\n",
       "    <tr>\n",
       "      <th id=\"T_9bd22_level0_row19\" class=\"row_heading level0 row19\" >19</th>\n",
       "      <td id=\"T_9bd22_row19_col0\" class=\"data row19 col0\" >Log Experiment</td>\n",
       "      <td id=\"T_9bd22_row19_col1\" class=\"data row19 col1\" >False</td>\n",
       "    </tr>\n",
       "    <tr>\n",
       "      <th id=\"T_9bd22_level0_row20\" class=\"row_heading level0 row20\" >20</th>\n",
       "      <td id=\"T_9bd22_row20_col0\" class=\"data row20 col0\" >Experiment Name</td>\n",
       "      <td id=\"T_9bd22_row20_col1\" class=\"data row20 col1\" >clf-default-name</td>\n",
       "    </tr>\n",
       "    <tr>\n",
       "      <th id=\"T_9bd22_level0_row21\" class=\"row_heading level0 row21\" >21</th>\n",
       "      <td id=\"T_9bd22_row21_col0\" class=\"data row21 col0\" >USI</td>\n",
       "      <td id=\"T_9bd22_row21_col1\" class=\"data row21 col1\" >5e12</td>\n",
       "    </tr>\n",
       "    <tr>\n",
       "      <th id=\"T_9bd22_level0_row22\" class=\"row_heading level0 row22\" >22</th>\n",
       "      <td id=\"T_9bd22_row22_col0\" class=\"data row22 col0\" >Imputation Type</td>\n",
       "      <td id=\"T_9bd22_row22_col1\" class=\"data row22 col1\" >simple</td>\n",
       "    </tr>\n",
       "    <tr>\n",
       "      <th id=\"T_9bd22_level0_row23\" class=\"row_heading level0 row23\" >23</th>\n",
       "      <td id=\"T_9bd22_row23_col0\" class=\"data row23 col0\" >Iterative Imputation Iteration</td>\n",
       "      <td id=\"T_9bd22_row23_col1\" class=\"data row23 col1\" >None</td>\n",
       "    </tr>\n",
       "    <tr>\n",
       "      <th id=\"T_9bd22_level0_row24\" class=\"row_heading level0 row24\" >24</th>\n",
       "      <td id=\"T_9bd22_row24_col0\" class=\"data row24 col0\" >Numeric Imputer</td>\n",
       "      <td id=\"T_9bd22_row24_col1\" class=\"data row24 col1\" >mean</td>\n",
       "    </tr>\n",
       "    <tr>\n",
       "      <th id=\"T_9bd22_level0_row25\" class=\"row_heading level0 row25\" >25</th>\n",
       "      <td id=\"T_9bd22_row25_col0\" class=\"data row25 col0\" >Iterative Imputation Numeric Model</td>\n",
       "      <td id=\"T_9bd22_row25_col1\" class=\"data row25 col1\" >None</td>\n",
       "    </tr>\n",
       "    <tr>\n",
       "      <th id=\"T_9bd22_level0_row26\" class=\"row_heading level0 row26\" >26</th>\n",
       "      <td id=\"T_9bd22_row26_col0\" class=\"data row26 col0\" >Categorical Imputer</td>\n",
       "      <td id=\"T_9bd22_row26_col1\" class=\"data row26 col1\" >constant</td>\n",
       "    </tr>\n",
       "    <tr>\n",
       "      <th id=\"T_9bd22_level0_row27\" class=\"row_heading level0 row27\" >27</th>\n",
       "      <td id=\"T_9bd22_row27_col0\" class=\"data row27 col0\" >Iterative Imputation Categorical Model</td>\n",
       "      <td id=\"T_9bd22_row27_col1\" class=\"data row27 col1\" >None</td>\n",
       "    </tr>\n",
       "    <tr>\n",
       "      <th id=\"T_9bd22_level0_row28\" class=\"row_heading level0 row28\" >28</th>\n",
       "      <td id=\"T_9bd22_row28_col0\" class=\"data row28 col0\" >Unknown Categoricals Handling</td>\n",
       "      <td id=\"T_9bd22_row28_col1\" class=\"data row28 col1\" >least_frequent</td>\n",
       "    </tr>\n",
       "    <tr>\n",
       "      <th id=\"T_9bd22_level0_row29\" class=\"row_heading level0 row29\" >29</th>\n",
       "      <td id=\"T_9bd22_row29_col0\" class=\"data row29 col0\" >Normalize</td>\n",
       "      <td id=\"T_9bd22_row29_col1\" class=\"data row29 col1\" >False</td>\n",
       "    </tr>\n",
       "    <tr>\n",
       "      <th id=\"T_9bd22_level0_row30\" class=\"row_heading level0 row30\" >30</th>\n",
       "      <td id=\"T_9bd22_row30_col0\" class=\"data row30 col0\" >Normalize Method</td>\n",
       "      <td id=\"T_9bd22_row30_col1\" class=\"data row30 col1\" >None</td>\n",
       "    </tr>\n",
       "    <tr>\n",
       "      <th id=\"T_9bd22_level0_row31\" class=\"row_heading level0 row31\" >31</th>\n",
       "      <td id=\"T_9bd22_row31_col0\" class=\"data row31 col0\" >Transformation</td>\n",
       "      <td id=\"T_9bd22_row31_col1\" class=\"data row31 col1\" >False</td>\n",
       "    </tr>\n",
       "    <tr>\n",
       "      <th id=\"T_9bd22_level0_row32\" class=\"row_heading level0 row32\" >32</th>\n",
       "      <td id=\"T_9bd22_row32_col0\" class=\"data row32 col0\" >Transformation Method</td>\n",
       "      <td id=\"T_9bd22_row32_col1\" class=\"data row32 col1\" >None</td>\n",
       "    </tr>\n",
       "    <tr>\n",
       "      <th id=\"T_9bd22_level0_row33\" class=\"row_heading level0 row33\" >33</th>\n",
       "      <td id=\"T_9bd22_row33_col0\" class=\"data row33 col0\" >PCA</td>\n",
       "      <td id=\"T_9bd22_row33_col1\" class=\"data row33 col1\" >False</td>\n",
       "    </tr>\n",
       "    <tr>\n",
       "      <th id=\"T_9bd22_level0_row34\" class=\"row_heading level0 row34\" >34</th>\n",
       "      <td id=\"T_9bd22_row34_col0\" class=\"data row34 col0\" >PCA Method</td>\n",
       "      <td id=\"T_9bd22_row34_col1\" class=\"data row34 col1\" >None</td>\n",
       "    </tr>\n",
       "    <tr>\n",
       "      <th id=\"T_9bd22_level0_row35\" class=\"row_heading level0 row35\" >35</th>\n",
       "      <td id=\"T_9bd22_row35_col0\" class=\"data row35 col0\" >PCA Components</td>\n",
       "      <td id=\"T_9bd22_row35_col1\" class=\"data row35 col1\" >None</td>\n",
       "    </tr>\n",
       "    <tr>\n",
       "      <th id=\"T_9bd22_level0_row36\" class=\"row_heading level0 row36\" >36</th>\n",
       "      <td id=\"T_9bd22_row36_col0\" class=\"data row36 col0\" >Ignore Low Variance</td>\n",
       "      <td id=\"T_9bd22_row36_col1\" class=\"data row36 col1\" >False</td>\n",
       "    </tr>\n",
       "    <tr>\n",
       "      <th id=\"T_9bd22_level0_row37\" class=\"row_heading level0 row37\" >37</th>\n",
       "      <td id=\"T_9bd22_row37_col0\" class=\"data row37 col0\" >Combine Rare Levels</td>\n",
       "      <td id=\"T_9bd22_row37_col1\" class=\"data row37 col1\" >False</td>\n",
       "    </tr>\n",
       "    <tr>\n",
       "      <th id=\"T_9bd22_level0_row38\" class=\"row_heading level0 row38\" >38</th>\n",
       "      <td id=\"T_9bd22_row38_col0\" class=\"data row38 col0\" >Rare Level Threshold</td>\n",
       "      <td id=\"T_9bd22_row38_col1\" class=\"data row38 col1\" >None</td>\n",
       "    </tr>\n",
       "    <tr>\n",
       "      <th id=\"T_9bd22_level0_row39\" class=\"row_heading level0 row39\" >39</th>\n",
       "      <td id=\"T_9bd22_row39_col0\" class=\"data row39 col0\" >Numeric Binning</td>\n",
       "      <td id=\"T_9bd22_row39_col1\" class=\"data row39 col1\" >False</td>\n",
       "    </tr>\n",
       "    <tr>\n",
       "      <th id=\"T_9bd22_level0_row40\" class=\"row_heading level0 row40\" >40</th>\n",
       "      <td id=\"T_9bd22_row40_col0\" class=\"data row40 col0\" >Remove Outliers</td>\n",
       "      <td id=\"T_9bd22_row40_col1\" class=\"data row40 col1\" >False</td>\n",
       "    </tr>\n",
       "    <tr>\n",
       "      <th id=\"T_9bd22_level0_row41\" class=\"row_heading level0 row41\" >41</th>\n",
       "      <td id=\"T_9bd22_row41_col0\" class=\"data row41 col0\" >Outliers Threshold</td>\n",
       "      <td id=\"T_9bd22_row41_col1\" class=\"data row41 col1\" >None</td>\n",
       "    </tr>\n",
       "    <tr>\n",
       "      <th id=\"T_9bd22_level0_row42\" class=\"row_heading level0 row42\" >42</th>\n",
       "      <td id=\"T_9bd22_row42_col0\" class=\"data row42 col0\" >Remove Multicollinearity</td>\n",
       "      <td id=\"T_9bd22_row42_col1\" class=\"data row42 col1\" >False</td>\n",
       "    </tr>\n",
       "    <tr>\n",
       "      <th id=\"T_9bd22_level0_row43\" class=\"row_heading level0 row43\" >43</th>\n",
       "      <td id=\"T_9bd22_row43_col0\" class=\"data row43 col0\" >Multicollinearity Threshold</td>\n",
       "      <td id=\"T_9bd22_row43_col1\" class=\"data row43 col1\" >None</td>\n",
       "    </tr>\n",
       "    <tr>\n",
       "      <th id=\"T_9bd22_level0_row44\" class=\"row_heading level0 row44\" >44</th>\n",
       "      <td id=\"T_9bd22_row44_col0\" class=\"data row44 col0\" >Remove Perfect Collinearity</td>\n",
       "      <td id=\"T_9bd22_row44_col1\" class=\"data row44 col1\" >True</td>\n",
       "    </tr>\n",
       "    <tr>\n",
       "      <th id=\"T_9bd22_level0_row45\" class=\"row_heading level0 row45\" >45</th>\n",
       "      <td id=\"T_9bd22_row45_col0\" class=\"data row45 col0\" >Clustering</td>\n",
       "      <td id=\"T_9bd22_row45_col1\" class=\"data row45 col1\" >False</td>\n",
       "    </tr>\n",
       "    <tr>\n",
       "      <th id=\"T_9bd22_level0_row46\" class=\"row_heading level0 row46\" >46</th>\n",
       "      <td id=\"T_9bd22_row46_col0\" class=\"data row46 col0\" >Clustering Iteration</td>\n",
       "      <td id=\"T_9bd22_row46_col1\" class=\"data row46 col1\" >None</td>\n",
       "    </tr>\n",
       "    <tr>\n",
       "      <th id=\"T_9bd22_level0_row47\" class=\"row_heading level0 row47\" >47</th>\n",
       "      <td id=\"T_9bd22_row47_col0\" class=\"data row47 col0\" >Polynomial Features</td>\n",
       "      <td id=\"T_9bd22_row47_col1\" class=\"data row47 col1\" >False</td>\n",
       "    </tr>\n",
       "    <tr>\n",
       "      <th id=\"T_9bd22_level0_row48\" class=\"row_heading level0 row48\" >48</th>\n",
       "      <td id=\"T_9bd22_row48_col0\" class=\"data row48 col0\" >Polynomial Degree</td>\n",
       "      <td id=\"T_9bd22_row48_col1\" class=\"data row48 col1\" >None</td>\n",
       "    </tr>\n",
       "    <tr>\n",
       "      <th id=\"T_9bd22_level0_row49\" class=\"row_heading level0 row49\" >49</th>\n",
       "      <td id=\"T_9bd22_row49_col0\" class=\"data row49 col0\" >Trignometry Features</td>\n",
       "      <td id=\"T_9bd22_row49_col1\" class=\"data row49 col1\" >False</td>\n",
       "    </tr>\n",
       "    <tr>\n",
       "      <th id=\"T_9bd22_level0_row50\" class=\"row_heading level0 row50\" >50</th>\n",
       "      <td id=\"T_9bd22_row50_col0\" class=\"data row50 col0\" >Polynomial Threshold</td>\n",
       "      <td id=\"T_9bd22_row50_col1\" class=\"data row50 col1\" >None</td>\n",
       "    </tr>\n",
       "    <tr>\n",
       "      <th id=\"T_9bd22_level0_row51\" class=\"row_heading level0 row51\" >51</th>\n",
       "      <td id=\"T_9bd22_row51_col0\" class=\"data row51 col0\" >Group Features</td>\n",
       "      <td id=\"T_9bd22_row51_col1\" class=\"data row51 col1\" >False</td>\n",
       "    </tr>\n",
       "    <tr>\n",
       "      <th id=\"T_9bd22_level0_row52\" class=\"row_heading level0 row52\" >52</th>\n",
       "      <td id=\"T_9bd22_row52_col0\" class=\"data row52 col0\" >Feature Selection</td>\n",
       "      <td id=\"T_9bd22_row52_col1\" class=\"data row52 col1\" >False</td>\n",
       "    </tr>\n",
       "    <tr>\n",
       "      <th id=\"T_9bd22_level0_row53\" class=\"row_heading level0 row53\" >53</th>\n",
       "      <td id=\"T_9bd22_row53_col0\" class=\"data row53 col0\" >Feature Selection Method</td>\n",
       "      <td id=\"T_9bd22_row53_col1\" class=\"data row53 col1\" >classic</td>\n",
       "    </tr>\n",
       "    <tr>\n",
       "      <th id=\"T_9bd22_level0_row54\" class=\"row_heading level0 row54\" >54</th>\n",
       "      <td id=\"T_9bd22_row54_col0\" class=\"data row54 col0\" >Features Selection Threshold</td>\n",
       "      <td id=\"T_9bd22_row54_col1\" class=\"data row54 col1\" >None</td>\n",
       "    </tr>\n",
       "    <tr>\n",
       "      <th id=\"T_9bd22_level0_row55\" class=\"row_heading level0 row55\" >55</th>\n",
       "      <td id=\"T_9bd22_row55_col0\" class=\"data row55 col0\" >Feature Interaction</td>\n",
       "      <td id=\"T_9bd22_row55_col1\" class=\"data row55 col1\" >False</td>\n",
       "    </tr>\n",
       "    <tr>\n",
       "      <th id=\"T_9bd22_level0_row56\" class=\"row_heading level0 row56\" >56</th>\n",
       "      <td id=\"T_9bd22_row56_col0\" class=\"data row56 col0\" >Feature Ratio</td>\n",
       "      <td id=\"T_9bd22_row56_col1\" class=\"data row56 col1\" >False</td>\n",
       "    </tr>\n",
       "    <tr>\n",
       "      <th id=\"T_9bd22_level0_row57\" class=\"row_heading level0 row57\" >57</th>\n",
       "      <td id=\"T_9bd22_row57_col0\" class=\"data row57 col0\" >Interaction Threshold</td>\n",
       "      <td id=\"T_9bd22_row57_col1\" class=\"data row57 col1\" >None</td>\n",
       "    </tr>\n",
       "    <tr>\n",
       "      <th id=\"T_9bd22_level0_row58\" class=\"row_heading level0 row58\" >58</th>\n",
       "      <td id=\"T_9bd22_row58_col0\" class=\"data row58 col0\" >Fix Imbalance</td>\n",
       "      <td id=\"T_9bd22_row58_col1\" class=\"data row58 col1\" >True</td>\n",
       "    </tr>\n",
       "    <tr>\n",
       "      <th id=\"T_9bd22_level0_row59\" class=\"row_heading level0 row59\" >59</th>\n",
       "      <td id=\"T_9bd22_row59_col0\" class=\"data row59 col0\" >Fix Imbalance Method</td>\n",
       "      <td id=\"T_9bd22_row59_col1\" class=\"data row59 col1\" >SMOTE</td>\n",
       "    </tr>\n",
       "  </tbody>\n",
       "</table>\n"
      ],
      "text/plain": [
       "<pandas.io.formats.style.Styler at 0x1e125274df0>"
      ]
     },
     "metadata": {},
     "output_type": "display_data"
    }
   ],
   "source": [
    "s_w = setup(X_train_w, target = \"dec_w\", fix_imbalance = True)"
   ]
  },
  {
   "cell_type": "code",
   "execution_count": 178,
   "id": "1aea105b",
   "metadata": {},
   "outputs": [
    {
     "data": {
      "text/html": [
       "<style type=\"text/css\">\n",
       "#T_51b74 th {\n",
       "  text-align: left;\n",
       "}\n",
       "#T_51b74_row0_col0, #T_51b74_row0_col2, #T_51b74_row0_col3, #T_51b74_row0_col5, #T_51b74_row0_col6, #T_51b74_row0_col7, #T_51b74_row1_col0, #T_51b74_row1_col1, #T_51b74_row1_col3, #T_51b74_row1_col4, #T_51b74_row2_col0, #T_51b74_row2_col1, #T_51b74_row2_col2, #T_51b74_row2_col3, #T_51b74_row2_col4, #T_51b74_row2_col5, #T_51b74_row2_col6, #T_51b74_row2_col7, #T_51b74_row3_col0, #T_51b74_row3_col1, #T_51b74_row3_col2, #T_51b74_row3_col3, #T_51b74_row3_col4, #T_51b74_row3_col5, #T_51b74_row3_col6, #T_51b74_row3_col7, #T_51b74_row4_col0, #T_51b74_row4_col1, #T_51b74_row4_col2, #T_51b74_row4_col3, #T_51b74_row4_col4, #T_51b74_row4_col5, #T_51b74_row4_col6, #T_51b74_row4_col7, #T_51b74_row5_col0, #T_51b74_row5_col1, #T_51b74_row5_col2, #T_51b74_row5_col3, #T_51b74_row5_col4, #T_51b74_row5_col5, #T_51b74_row5_col6, #T_51b74_row5_col7, #T_51b74_row6_col0, #T_51b74_row6_col1, #T_51b74_row6_col2, #T_51b74_row6_col3, #T_51b74_row6_col4, #T_51b74_row6_col5, #T_51b74_row6_col6, #T_51b74_row6_col7, #T_51b74_row7_col0, #T_51b74_row7_col1, #T_51b74_row7_col2, #T_51b74_row7_col3, #T_51b74_row7_col4, #T_51b74_row7_col5, #T_51b74_row7_col6, #T_51b74_row7_col7, #T_51b74_row8_col0, #T_51b74_row8_col1, #T_51b74_row8_col2, #T_51b74_row8_col3, #T_51b74_row8_col4, #T_51b74_row8_col5, #T_51b74_row8_col6, #T_51b74_row8_col7, #T_51b74_row9_col0, #T_51b74_row9_col1, #T_51b74_row9_col2, #T_51b74_row9_col3, #T_51b74_row9_col4, #T_51b74_row9_col5, #T_51b74_row9_col6, #T_51b74_row9_col7, #T_51b74_row10_col0, #T_51b74_row10_col1, #T_51b74_row10_col2, #T_51b74_row10_col3, #T_51b74_row10_col4, #T_51b74_row10_col5, #T_51b74_row10_col6, #T_51b74_row10_col7, #T_51b74_row11_col0, #T_51b74_row11_col1, #T_51b74_row11_col2, #T_51b74_row11_col3, #T_51b74_row11_col4, #T_51b74_row11_col5, #T_51b74_row11_col6, #T_51b74_row11_col7, #T_51b74_row12_col0, #T_51b74_row12_col1, #T_51b74_row12_col2, #T_51b74_row12_col3, #T_51b74_row12_col4, #T_51b74_row12_col5, #T_51b74_row12_col6, #T_51b74_row12_col7, #T_51b74_row13_col0, #T_51b74_row13_col1, #T_51b74_row13_col2, #T_51b74_row13_col4, #T_51b74_row13_col5, #T_51b74_row13_col6, #T_51b74_row13_col7 {\n",
       "  text-align: left;\n",
       "}\n",
       "#T_51b74_row0_col1, #T_51b74_row0_col4, #T_51b74_row1_col2, #T_51b74_row1_col5, #T_51b74_row1_col6, #T_51b74_row1_col7, #T_51b74_row13_col3 {\n",
       "  text-align: left;\n",
       "  background-color: yellow;\n",
       "}\n",
       "#T_51b74_row0_col8, #T_51b74_row1_col8, #T_51b74_row2_col8, #T_51b74_row3_col8, #T_51b74_row4_col8, #T_51b74_row5_col8, #T_51b74_row6_col8, #T_51b74_row8_col8, #T_51b74_row9_col8, #T_51b74_row10_col8, #T_51b74_row11_col8, #T_51b74_row12_col8, #T_51b74_row13_col8 {\n",
       "  text-align: left;\n",
       "  background-color: lightgrey;\n",
       "}\n",
       "#T_51b74_row7_col8 {\n",
       "  text-align: left;\n",
       "  background-color: yellow;\n",
       "  background-color: lightgrey;\n",
       "}\n",
       "</style>\n",
       "<table id=\"T_51b74\">\n",
       "  <thead>\n",
       "    <tr>\n",
       "      <th class=\"blank level0\" >&nbsp;</th>\n",
       "      <th id=\"T_51b74_level0_col0\" class=\"col_heading level0 col0\" >Model</th>\n",
       "      <th id=\"T_51b74_level0_col1\" class=\"col_heading level0 col1\" >Accuracy</th>\n",
       "      <th id=\"T_51b74_level0_col2\" class=\"col_heading level0 col2\" >AUC</th>\n",
       "      <th id=\"T_51b74_level0_col3\" class=\"col_heading level0 col3\" >Recall</th>\n",
       "      <th id=\"T_51b74_level0_col4\" class=\"col_heading level0 col4\" >Prec.</th>\n",
       "      <th id=\"T_51b74_level0_col5\" class=\"col_heading level0 col5\" >F1</th>\n",
       "      <th id=\"T_51b74_level0_col6\" class=\"col_heading level0 col6\" >Kappa</th>\n",
       "      <th id=\"T_51b74_level0_col7\" class=\"col_heading level0 col7\" >MCC</th>\n",
       "      <th id=\"T_51b74_level0_col8\" class=\"col_heading level0 col8\" >TT (Sec)</th>\n",
       "    </tr>\n",
       "  </thead>\n",
       "  <tbody>\n",
       "    <tr>\n",
       "      <th id=\"T_51b74_level0_row0\" class=\"row_heading level0 row0\" >et</th>\n",
       "      <td id=\"T_51b74_row0_col0\" class=\"data row0 col0\" >Extra Trees Classifier</td>\n",
       "      <td id=\"T_51b74_row0_col1\" class=\"data row0 col1\" >0.7266</td>\n",
       "      <td id=\"T_51b74_row0_col2\" class=\"data row0 col2\" >0.7737</td>\n",
       "      <td id=\"T_51b74_row0_col3\" class=\"data row0 col3\" >0.4687</td>\n",
       "      <td id=\"T_51b74_row0_col4\" class=\"data row0 col4\" >0.6680</td>\n",
       "      <td id=\"T_51b74_row0_col5\" class=\"data row0 col5\" >0.5501</td>\n",
       "      <td id=\"T_51b74_row0_col6\" class=\"data row0 col6\" >0.3625</td>\n",
       "      <td id=\"T_51b74_row0_col7\" class=\"data row0 col7\" >0.3746</td>\n",
       "      <td id=\"T_51b74_row0_col8\" class=\"data row0 col8\" >1.0650</td>\n",
       "    </tr>\n",
       "    <tr>\n",
       "      <th id=\"T_51b74_level0_row1\" class=\"row_heading level0 row1\" >lda</th>\n",
       "      <td id=\"T_51b74_row1_col0\" class=\"data row1 col0\" >Linear Discriminant Analysis</td>\n",
       "      <td id=\"T_51b74_row1_col1\" class=\"data row1 col1\" >0.7255</td>\n",
       "      <td id=\"T_51b74_row1_col2\" class=\"data row1 col2\" >0.7877</td>\n",
       "      <td id=\"T_51b74_row1_col3\" class=\"data row1 col3\" >0.6914</td>\n",
       "      <td id=\"T_51b74_row1_col4\" class=\"data row1 col4\" >0.6020</td>\n",
       "      <td id=\"T_51b74_row1_col5\" class=\"data row1 col5\" >0.6430</td>\n",
       "      <td id=\"T_51b74_row1_col6\" class=\"data row1 col6\" >0.4220</td>\n",
       "      <td id=\"T_51b74_row1_col7\" class=\"data row1 col7\" >0.4251</td>\n",
       "      <td id=\"T_51b74_row1_col8\" class=\"data row1 col8\" >0.9050</td>\n",
       "    </tr>\n",
       "    <tr>\n",
       "      <th id=\"T_51b74_level0_row2\" class=\"row_heading level0 row2\" >lightgbm</th>\n",
       "      <td id=\"T_51b74_row2_col0\" class=\"data row2 col0\" >Light Gradient Boosting Machine</td>\n",
       "      <td id=\"T_51b74_row2_col1\" class=\"data row2 col1\" >0.7224</td>\n",
       "      <td id=\"T_51b74_row2_col2\" class=\"data row2 col2\" >0.7701</td>\n",
       "      <td id=\"T_51b74_row2_col3\" class=\"data row2 col3\" >0.5005</td>\n",
       "      <td id=\"T_51b74_row2_col4\" class=\"data row2 col4\" >0.6466</td>\n",
       "      <td id=\"T_51b74_row2_col5\" class=\"data row2 col5\" >0.5631</td>\n",
       "      <td id=\"T_51b74_row2_col6\" class=\"data row2 col6\" >0.3646</td>\n",
       "      <td id=\"T_51b74_row2_col7\" class=\"data row2 col7\" >0.3718</td>\n",
       "      <td id=\"T_51b74_row2_col8\" class=\"data row2 col8\" >1.1130</td>\n",
       "    </tr>\n",
       "    <tr>\n",
       "      <th id=\"T_51b74_level0_row3\" class=\"row_heading level0 row3\" >gbc</th>\n",
       "      <td id=\"T_51b74_row3_col0\" class=\"data row3 col0\" >Gradient Boosting Classifier</td>\n",
       "      <td id=\"T_51b74_row3_col1\" class=\"data row3 col1\" >0.7217</td>\n",
       "      <td id=\"T_51b74_row3_col2\" class=\"data row3 col2\" >0.7714</td>\n",
       "      <td id=\"T_51b74_row3_col3\" class=\"data row3 col3\" >0.4846</td>\n",
       "      <td id=\"T_51b74_row3_col4\" class=\"data row3 col4\" >0.6494</td>\n",
       "      <td id=\"T_51b74_row3_col5\" class=\"data row3 col5\" >0.5540</td>\n",
       "      <td id=\"T_51b74_row3_col6\" class=\"data row3 col6\" >0.3580</td>\n",
       "      <td id=\"T_51b74_row3_col7\" class=\"data row3 col7\" >0.3668</td>\n",
       "      <td id=\"T_51b74_row3_col8\" class=\"data row3 col8\" >3.1390</td>\n",
       "    </tr>\n",
       "    <tr>\n",
       "      <th id=\"T_51b74_level0_row4\" class=\"row_heading level0 row4\" >rf</th>\n",
       "      <td id=\"T_51b74_row4_col0\" class=\"data row4 col0\" >Random Forest Classifier</td>\n",
       "      <td id=\"T_51b74_row4_col1\" class=\"data row4 col1\" >0.7149</td>\n",
       "      <td id=\"T_51b74_row4_col2\" class=\"data row4 col2\" >0.7741</td>\n",
       "      <td id=\"T_51b74_row4_col3\" class=\"data row4 col3\" >0.4125</td>\n",
       "      <td id=\"T_51b74_row4_col4\" class=\"data row4 col4\" >0.6641</td>\n",
       "      <td id=\"T_51b74_row4_col5\" class=\"data row4 col5\" >0.5078</td>\n",
       "      <td id=\"T_51b74_row4_col6\" class=\"data row4 col6\" >0.3224</td>\n",
       "      <td id=\"T_51b74_row4_col7\" class=\"data row4 col7\" >0.3410</td>\n",
       "      <td id=\"T_51b74_row4_col8\" class=\"data row4 col8\" >0.8330</td>\n",
       "    </tr>\n",
       "    <tr>\n",
       "      <th id=\"T_51b74_level0_row5\" class=\"row_heading level0 row5\" >ridge</th>\n",
       "      <td id=\"T_51b74_row5_col0\" class=\"data row5 col0\" >Ridge Classifier</td>\n",
       "      <td id=\"T_51b74_row5_col1\" class=\"data row5 col1\" >0.7122</td>\n",
       "      <td id=\"T_51b74_row5_col2\" class=\"data row5 col2\" >0.0000</td>\n",
       "      <td id=\"T_51b74_row5_col3\" class=\"data row5 col3\" >0.6840</td>\n",
       "      <td id=\"T_51b74_row5_col4\" class=\"data row5 col4\" >0.5832</td>\n",
       "      <td id=\"T_51b74_row5_col5\" class=\"data row5 col5\" >0.6292</td>\n",
       "      <td id=\"T_51b74_row5_col6\" class=\"data row5 col6\" >0.3966</td>\n",
       "      <td id=\"T_51b74_row5_col7\" class=\"data row5 col7\" >0.4003</td>\n",
       "      <td id=\"T_51b74_row5_col8\" class=\"data row5 col8\" >0.2630</td>\n",
       "    </tr>\n",
       "    <tr>\n",
       "      <th id=\"T_51b74_level0_row6\" class=\"row_heading level0 row6\" >ada</th>\n",
       "      <td id=\"T_51b74_row6_col0\" class=\"data row6 col0\" >Ada Boost Classifier</td>\n",
       "      <td id=\"T_51b74_row6_col1\" class=\"data row6 col1\" >0.6675</td>\n",
       "      <td id=\"T_51b74_row6_col2\" class=\"data row6 col2\" >0.6939</td>\n",
       "      <td id=\"T_51b74_row6_col3\" class=\"data row6 col3\" >0.5047</td>\n",
       "      <td id=\"T_51b74_row6_col4\" class=\"data row6 col4\" >0.5371</td>\n",
       "      <td id=\"T_51b74_row6_col5\" class=\"data row6 col5\" >0.5199</td>\n",
       "      <td id=\"T_51b74_row6_col6\" class=\"data row6 col6\" >0.2662</td>\n",
       "      <td id=\"T_51b74_row6_col7\" class=\"data row6 col7\" >0.2668</td>\n",
       "      <td id=\"T_51b74_row6_col8\" class=\"data row6 col8\" >0.8920</td>\n",
       "    </tr>\n",
       "    <tr>\n",
       "      <th id=\"T_51b74_level0_row7\" class=\"row_heading level0 row7\" >dummy</th>\n",
       "      <td id=\"T_51b74_row7_col0\" class=\"data row7 col0\" >Dummy Classifier</td>\n",
       "      <td id=\"T_51b74_row7_col1\" class=\"data row7 col1\" >0.6429</td>\n",
       "      <td id=\"T_51b74_row7_col2\" class=\"data row7 col2\" >0.5000</td>\n",
       "      <td id=\"T_51b74_row7_col3\" class=\"data row7 col3\" >0.0000</td>\n",
       "      <td id=\"T_51b74_row7_col4\" class=\"data row7 col4\" >0.0000</td>\n",
       "      <td id=\"T_51b74_row7_col5\" class=\"data row7 col5\" >0.0000</td>\n",
       "      <td id=\"T_51b74_row7_col6\" class=\"data row7 col6\" >0.0000</td>\n",
       "      <td id=\"T_51b74_row7_col7\" class=\"data row7 col7\" >0.0000</td>\n",
       "      <td id=\"T_51b74_row7_col8\" class=\"data row7 col8\" >0.2160</td>\n",
       "    </tr>\n",
       "    <tr>\n",
       "      <th id=\"T_51b74_level0_row8\" class=\"row_heading level0 row8\" >nb</th>\n",
       "      <td id=\"T_51b74_row8_col0\" class=\"data row8 col0\" >Naive Bayes</td>\n",
       "      <td id=\"T_51b74_row8_col1\" class=\"data row8 col1\" >0.6354</td>\n",
       "      <td id=\"T_51b74_row8_col2\" class=\"data row8 col2\" >0.5573</td>\n",
       "      <td id=\"T_51b74_row8_col3\" class=\"data row8 col3\" >0.1221</td>\n",
       "      <td id=\"T_51b74_row8_col4\" class=\"data row8 col4\" >0.4561</td>\n",
       "      <td id=\"T_51b74_row8_col5\" class=\"data row8 col5\" >0.1727</td>\n",
       "      <td id=\"T_51b74_row8_col6\" class=\"data row8 col6\" >0.0487</td>\n",
       "      <td id=\"T_51b74_row8_col7\" class=\"data row8 col7\" >0.0664</td>\n",
       "      <td id=\"T_51b74_row8_col8\" class=\"data row8 col8\" >0.2830</td>\n",
       "    </tr>\n",
       "    <tr>\n",
       "      <th id=\"T_51b74_level0_row9\" class=\"row_heading level0 row9\" >dt</th>\n",
       "      <td id=\"T_51b74_row9_col0\" class=\"data row9 col0\" >Decision Tree Classifier</td>\n",
       "      <td id=\"T_51b74_row9_col1\" class=\"data row9 col1\" >0.6233</td>\n",
       "      <td id=\"T_51b74_row9_col2\" class=\"data row9 col2\" >0.5999</td>\n",
       "      <td id=\"T_51b74_row9_col3\" class=\"data row9 col3\" >0.5166</td>\n",
       "      <td id=\"T_51b74_row9_col4\" class=\"data row9 col4\" >0.4735</td>\n",
       "      <td id=\"T_51b74_row9_col5\" class=\"data row9 col5\" >0.4935</td>\n",
       "      <td id=\"T_51b74_row9_col6\" class=\"data row9 col6\" >0.1947</td>\n",
       "      <td id=\"T_51b74_row9_col7\" class=\"data row9 col7\" >0.1955</td>\n",
       "      <td id=\"T_51b74_row9_col8\" class=\"data row9 col8\" >0.3510</td>\n",
       "    </tr>\n",
       "    <tr>\n",
       "      <th id=\"T_51b74_level0_row10\" class=\"row_heading level0 row10\" >knn</th>\n",
       "      <td id=\"T_51b74_row10_col0\" class=\"data row10 col0\" >K Neighbors Classifier</td>\n",
       "      <td id=\"T_51b74_row10_col1\" class=\"data row10 col1\" >0.5634</td>\n",
       "      <td id=\"T_51b74_row10_col2\" class=\"data row10 col2\" >0.5839</td>\n",
       "      <td id=\"T_51b74_row10_col3\" class=\"data row10 col3\" >0.5112</td>\n",
       "      <td id=\"T_51b74_row10_col4\" class=\"data row10 col4\" >0.4115</td>\n",
       "      <td id=\"T_51b74_row10_col5\" class=\"data row10 col5\" >0.4554</td>\n",
       "      <td id=\"T_51b74_row10_col6\" class=\"data row10 col6\" >0.0985</td>\n",
       "      <td id=\"T_51b74_row10_col7\" class=\"data row10 col7\" >0.1002</td>\n",
       "      <td id=\"T_51b74_row10_col8\" class=\"data row10 col8\" >0.5290</td>\n",
       "    </tr>\n",
       "    <tr>\n",
       "      <th id=\"T_51b74_level0_row11\" class=\"row_heading level0 row11\" >qda</th>\n",
       "      <td id=\"T_51b74_row11_col0\" class=\"data row11 col0\" >Quadratic Discriminant Analysis</td>\n",
       "      <td id=\"T_51b74_row11_col1\" class=\"data row11 col1\" >0.5540</td>\n",
       "      <td id=\"T_51b74_row11_col2\" class=\"data row11 col2\" >0.6155</td>\n",
       "      <td id=\"T_51b74_row11_col3\" class=\"data row11 col3\" >0.8312</td>\n",
       "      <td id=\"T_51b74_row11_col4\" class=\"data row11 col4\" >0.4410</td>\n",
       "      <td id=\"T_51b74_row11_col5\" class=\"data row11 col5\" >0.5493</td>\n",
       "      <td id=\"T_51b74_row11_col6\" class=\"data row11 col6\" >0.1883</td>\n",
       "      <td id=\"T_51b74_row11_col7\" class=\"data row11 col7\" >0.2583</td>\n",
       "      <td id=\"T_51b74_row11_col8\" class=\"data row11 col8\" >0.7810</td>\n",
       "    </tr>\n",
       "    <tr>\n",
       "      <th id=\"T_51b74_level0_row12\" class=\"row_heading level0 row12\" >svm</th>\n",
       "      <td id=\"T_51b74_row12_col0\" class=\"data row12 col0\" >SVM - Linear Kernel</td>\n",
       "      <td id=\"T_51b74_row12_col1\" class=\"data row12 col1\" >0.5104</td>\n",
       "      <td id=\"T_51b74_row12_col2\" class=\"data row12 col2\" >0.0000</td>\n",
       "      <td id=\"T_51b74_row12_col3\" class=\"data row12 col3\" >0.5038</td>\n",
       "      <td id=\"T_51b74_row12_col4\" class=\"data row12 col4\" >0.2546</td>\n",
       "      <td id=\"T_51b74_row12_col5\" class=\"data row12 col5\" >0.3373</td>\n",
       "      <td id=\"T_51b74_row12_col6\" class=\"data row12 col6\" >0.0139</td>\n",
       "      <td id=\"T_51b74_row12_col7\" class=\"data row12 col7\" >0.0209</td>\n",
       "      <td id=\"T_51b74_row12_col8\" class=\"data row12 col8\" >0.2730</td>\n",
       "    </tr>\n",
       "    <tr>\n",
       "      <th id=\"T_51b74_level0_row13\" class=\"row_heading level0 row13\" >lr</th>\n",
       "      <td id=\"T_51b74_row13_col0\" class=\"data row13 col0\" >Logistic Regression</td>\n",
       "      <td id=\"T_51b74_row13_col1\" class=\"data row13 col1\" >0.3578</td>\n",
       "      <td id=\"T_51b74_row13_col2\" class=\"data row13 col2\" >0.5180</td>\n",
       "      <td id=\"T_51b74_row13_col3\" class=\"data row13 col3\" >0.9947</td>\n",
       "      <td id=\"T_51b74_row13_col4\" class=\"data row13 col4\" >0.3568</td>\n",
       "      <td id=\"T_51b74_row13_col5\" class=\"data row13 col5\" >0.5252</td>\n",
       "      <td id=\"T_51b74_row13_col6\" class=\"data row13 col6\" >-0.0009</td>\n",
       "      <td id=\"T_51b74_row13_col7\" class=\"data row13 col7\" >-0.0111</td>\n",
       "      <td id=\"T_51b74_row13_col8\" class=\"data row13 col8\" >0.2680</td>\n",
       "    </tr>\n",
       "  </tbody>\n",
       "</table>\n"
      ],
      "text/plain": [
       "<pandas.io.formats.style.Styler at 0x1e11e15db20>"
      ]
     },
     "metadata": {},
     "output_type": "display_data"
    }
   ],
   "source": [
    "best_w = compare_models()"
   ]
  },
  {
   "cell_type": "code",
   "execution_count": 191,
   "id": "2a86e8bf",
   "metadata": {},
   "outputs": [],
   "source": [
    "predictions_w = predict_model(best_w, data=X_test_w.drop(columns = [\"dec_w\"]))"
   ]
  },
  {
   "cell_type": "code",
   "execution_count": 180,
   "id": "d9e6aa8d",
   "metadata": {},
   "outputs": [
    {
     "data": {
      "text/plain": [
       "0.7166666666666667"
      ]
     },
     "execution_count": 180,
     "metadata": {},
     "output_type": "execute_result"
    }
   ],
   "source": [
    "accuracy_score(X_test_w[\"dec_w\"], predictions_w[['Label']])"
   ]
  },
  {
   "cell_type": "code",
   "execution_count": 209,
   "id": "40171201",
   "metadata": {},
   "outputs": [
    {
     "data": {
      "text/plain": [
       "0.9130895601483837"
      ]
     },
     "execution_count": 209,
     "metadata": {},
     "output_type": "execute_result"
    }
   ],
   "source": [
    "pred_w = predict_model(best_w, data=X_train_w.drop(columns = [\"dec_w\"]))\n",
    "accuracy_score(X_train_w[\"dec_w\"], pred_w[['Label']])"
   ]
  },
  {
   "cell_type": "code",
   "execution_count": 182,
   "id": "d3b99a55",
   "metadata": {},
   "outputs": [
    {
     "data": {
      "text/plain": [
       "0.9014308426073132"
      ]
     },
     "execution_count": 182,
     "metadata": {},
     "output_type": "execute_result"
    }
   ],
   "source": [
    "accuracy_score(X_train[\"match\"], pred_w[['Label']] * pred_m[['Label']])"
   ]
  },
  {
   "cell_type": "code",
   "execution_count": 183,
   "id": "4c667d0f",
   "metadata": {},
   "outputs": [
    {
     "data": {
      "text/plain": [
       "0.8095238095238095"
      ]
     },
     "execution_count": 183,
     "metadata": {},
     "output_type": "execute_result"
    }
   ],
   "source": [
    "accuracy_score(X_test[\"match\"], predictions_m[['Label']] * predictions_w[['Label']])"
   ]
  },
  {
   "cell_type": "code",
   "execution_count": 196,
   "id": "5aeaa743",
   "metadata": {},
   "outputs": [
    {
     "data": {
      "text/plain": [
       "LinearDiscriminantAnalysis(n_components=None, priors=None, shrinkage=None,\n",
       "                           solver='svd', store_covariance=False, tol=0.0001)"
      ]
     },
     "execution_count": 196,
     "metadata": {},
     "output_type": "execute_result"
    }
   ],
   "source": [
    "best_m"
   ]
  },
  {
   "cell_type": "code",
   "execution_count": 207,
   "id": "a91bc4b0",
   "metadata": {},
   "outputs": [
    {
     "data": {
      "text/plain": [
       "ExtraTreesClassifier(bootstrap=False, ccp_alpha=0.0, class_weight=None,\n",
       "                     criterion='gini', max_depth=None, max_features='auto',\n",
       "                     max_leaf_nodes=None, max_samples=None,\n",
       "                     min_impurity_decrease=0.0, min_impurity_split=None,\n",
       "                     min_samples_leaf=1, min_samples_split=2,\n",
       "                     min_weight_fraction_leaf=0.0, n_estimators=100, n_jobs=-1,\n",
       "                     oob_score=False, random_state=8758, verbose=0,\n",
       "                     warm_start=False)"
      ]
     },
     "execution_count": 207,
     "metadata": {},
     "output_type": "execute_result"
    }
   ],
   "source": [
    "best_w"
   ]
  },
  {
   "cell_type": "code",
   "execution_count": 208,
   "id": "85a6b72f",
   "metadata": {},
   "outputs": [
    {
     "data": {
      "text/html": [
       "<style type=\"text/css\">\n",
       "</style>\n",
       "<table id=\"T_6a0a9\">\n",
       "  <thead>\n",
       "    <tr>\n",
       "      <th class=\"blank level0\" >&nbsp;</th>\n",
       "      <th id=\"T_6a0a9_level0_col0\" class=\"col_heading level0 col0\" >Model</th>\n",
       "      <th id=\"T_6a0a9_level0_col1\" class=\"col_heading level0 col1\" >Accuracy</th>\n",
       "      <th id=\"T_6a0a9_level0_col2\" class=\"col_heading level0 col2\" >AUC</th>\n",
       "      <th id=\"T_6a0a9_level0_col3\" class=\"col_heading level0 col3\" >Recall</th>\n",
       "      <th id=\"T_6a0a9_level0_col4\" class=\"col_heading level0 col4\" >Prec.</th>\n",
       "      <th id=\"T_6a0a9_level0_col5\" class=\"col_heading level0 col5\" >F1</th>\n",
       "      <th id=\"T_6a0a9_level0_col6\" class=\"col_heading level0 col6\" >Kappa</th>\n",
       "      <th id=\"T_6a0a9_level0_col7\" class=\"col_heading level0 col7\" >MCC</th>\n",
       "    </tr>\n",
       "  </thead>\n",
       "  <tbody>\n",
       "    <tr>\n",
       "      <th id=\"T_6a0a9_level0_row0\" class=\"row_heading level0 row0\" >0</th>\n",
       "      <td id=\"T_6a0a9_row0_col0\" class=\"data row0 col0\" >Extra Trees Classifier</td>\n",
       "      <td id=\"T_6a0a9_row0_col1\" class=\"data row0 col1\" >0.7123</td>\n",
       "      <td id=\"T_6a0a9_row0_col2\" class=\"data row0 col2\" >0.7644</td>\n",
       "      <td id=\"T_6a0a9_row0_col3\" class=\"data row0 col3\" >0.4916</td>\n",
       "      <td id=\"T_6a0a9_row0_col4\" class=\"data row0 col4\" >0.6458</td>\n",
       "      <td id=\"T_6a0a9_row0_col5\" class=\"data row0 col5\" >0.5583</td>\n",
       "      <td id=\"T_6a0a9_row0_col6\" class=\"data row0 col6\" >0.3507</td>\n",
       "      <td id=\"T_6a0a9_row0_col7\" class=\"data row0 col7\" >0.3578</td>\n",
       "    </tr>\n",
       "  </tbody>\n",
       "</table>\n"
      ],
      "text/plain": [
       "<pandas.io.formats.style.Styler at 0x1e12a232310>"
      ]
     },
     "metadata": {},
     "output_type": "display_data"
    }
   ],
   "source": [
    "pred_m = predict_model(best_w)"
   ]
  },
  {
   "cell_type": "code",
   "execution_count": 215,
   "id": "36ca56bf",
   "metadata": {},
   "outputs": [
    {
     "data": {
      "text/plain": [
       "0       1\n",
       "1       0\n",
       "2       0\n",
       "3       0\n",
       "4       0\n",
       "       ..\n",
       "1128    1\n",
       "1129    0\n",
       "1130    1\n",
       "1131    1\n",
       "1132    0\n",
       "Name: Label, Length: 1133, dtype: int32"
      ]
     },
     "execution_count": 215,
     "metadata": {},
     "output_type": "execute_result"
    }
   ],
   "source": [
    "pred_m[\"Label\"]"
   ]
  },
  {
   "cell_type": "code",
   "execution_count": 216,
   "id": "a8c677d6",
   "metadata": {},
   "outputs": [
    {
     "data": {
      "text/plain": [
       "57      0\n",
       "3068    1\n",
       "415     0\n",
       "248     0\n",
       "170     0\n",
       "       ..\n",
       "1033    0\n",
       "3264    0\n",
       "1653    0\n",
       "2607    0\n",
       "2732    0\n",
       "Name: Label, Length: 3774, dtype: int32"
      ]
     },
     "execution_count": 216,
     "metadata": {},
     "output_type": "execute_result"
    }
   ],
   "source": [
    "pred_w[\"Label\"]"
   ]
  },
  {
   "cell_type": "code",
   "execution_count": 219,
   "id": "30cf2d40",
   "metadata": {},
   "outputs": [
    {
     "data": {
      "text/plain": [
       "0.7691053596902384"
      ]
     },
     "execution_count": 219,
     "metadata": {},
     "output_type": "execute_result"
    }
   ],
   "source": [
    "3774/(1133 + 3774)"
   ]
  },
  {
   "cell_type": "code",
   "execution_count": 201,
   "id": "a31fa371",
   "metadata": {},
   "outputs": [
    {
     "data": {
      "text/html": [
       "<div>\n",
       "<style scoped>\n",
       "    .dataframe tbody tr th:only-of-type {\n",
       "        vertical-align: middle;\n",
       "    }\n",
       "\n",
       "    .dataframe tbody tr th {\n",
       "        vertical-align: top;\n",
       "    }\n",
       "\n",
       "    .dataframe thead th {\n",
       "        text-align: right;\n",
       "    }\n",
       "</style>\n",
       "<table border=\"1\" class=\"dataframe\">\n",
       "  <thead>\n",
       "    <tr style=\"text-align: right;\">\n",
       "      <th></th>\n",
       "      <th>race_m</th>\n",
       "      <th>race_w</th>\n",
       "      <th>field_cd_m</th>\n",
       "      <th>field_cd_w</th>\n",
       "      <th>undergra_m</th>\n",
       "      <th>undergra_w</th>\n",
       "      <th>imprace_m</th>\n",
       "      <th>imprace_w</th>\n",
       "      <th>imprelig_m</th>\n",
       "      <th>imprelig_w</th>\n",
       "      <th>...</th>\n",
       "      <th>attr3_1_w</th>\n",
       "      <th>sinc3_1_m</th>\n",
       "      <th>sinc3_1_w</th>\n",
       "      <th>fun3_1_m</th>\n",
       "      <th>fun3_1_w</th>\n",
       "      <th>intel3_1_m</th>\n",
       "      <th>intel3_1_w</th>\n",
       "      <th>amb3_1_m</th>\n",
       "      <th>amb3_1_w</th>\n",
       "      <th>dec_w</th>\n",
       "    </tr>\n",
       "  </thead>\n",
       "  <tbody>\n",
       "    <tr>\n",
       "      <th>57</th>\n",
       "      <td>2.0</td>\n",
       "      <td>4.0</td>\n",
       "      <td>8.0</td>\n",
       "      <td>1.0</td>\n",
       "      <td>0</td>\n",
       "      <td>0.0</td>\n",
       "      <td>8.0</td>\n",
       "      <td>1.0</td>\n",
       "      <td>8.0</td>\n",
       "      <td>1.0</td>\n",
       "      <td>...</td>\n",
       "      <td>5.0</td>\n",
       "      <td>8.0</td>\n",
       "      <td>7.0</td>\n",
       "      <td>6.0</td>\n",
       "      <td>8.0</td>\n",
       "      <td>8.0</td>\n",
       "      <td>9.0</td>\n",
       "      <td>9.0</td>\n",
       "      <td>5.0</td>\n",
       "      <td>0</td>\n",
       "    </tr>\n",
       "    <tr>\n",
       "      <th>3068</th>\n",
       "      <td>2.0</td>\n",
       "      <td>2.0</td>\n",
       "      <td>8.0</td>\n",
       "      <td>1.0</td>\n",
       "      <td>1</td>\n",
       "      <td>1.0</td>\n",
       "      <td>7.0</td>\n",
       "      <td>1.0</td>\n",
       "      <td>2.0</td>\n",
       "      <td>1.0</td>\n",
       "      <td>...</td>\n",
       "      <td>8.0</td>\n",
       "      <td>6.0</td>\n",
       "      <td>10.0</td>\n",
       "      <td>10.0</td>\n",
       "      <td>9.0</td>\n",
       "      <td>7.0</td>\n",
       "      <td>7.0</td>\n",
       "      <td>8.0</td>\n",
       "      <td>5.0</td>\n",
       "      <td>1</td>\n",
       "    </tr>\n",
       "    <tr>\n",
       "      <th>415</th>\n",
       "      <td>6.0</td>\n",
       "      <td>2.0</td>\n",
       "      <td>1.0</td>\n",
       "      <td>11.0</td>\n",
       "      <td>0</td>\n",
       "      <td>0.0</td>\n",
       "      <td>1.0</td>\n",
       "      <td>10.0</td>\n",
       "      <td>1.0</td>\n",
       "      <td>10.0</td>\n",
       "      <td>...</td>\n",
       "      <td>6.0</td>\n",
       "      <td>7.0</td>\n",
       "      <td>10.0</td>\n",
       "      <td>6.0</td>\n",
       "      <td>10.0</td>\n",
       "      <td>7.0</td>\n",
       "      <td>9.0</td>\n",
       "      <td>7.0</td>\n",
       "      <td>10.0</td>\n",
       "      <td>0</td>\n",
       "    </tr>\n",
       "    <tr>\n",
       "      <th>248</th>\n",
       "      <td>2.0</td>\n",
       "      <td>2.0</td>\n",
       "      <td>3.0</td>\n",
       "      <td>1.0</td>\n",
       "      <td>0</td>\n",
       "      <td>0.0</td>\n",
       "      <td>3.0</td>\n",
       "      <td>2.0</td>\n",
       "      <td>3.0</td>\n",
       "      <td>4.0</td>\n",
       "      <td>...</td>\n",
       "      <td>7.0</td>\n",
       "      <td>9.0</td>\n",
       "      <td>8.0</td>\n",
       "      <td>8.0</td>\n",
       "      <td>9.0</td>\n",
       "      <td>9.0</td>\n",
       "      <td>8.0</td>\n",
       "      <td>9.0</td>\n",
       "      <td>8.0</td>\n",
       "      <td>0</td>\n",
       "    </tr>\n",
       "    <tr>\n",
       "      <th>170</th>\n",
       "      <td>2.0</td>\n",
       "      <td>2.0</td>\n",
       "      <td>8.0</td>\n",
       "      <td>11.0</td>\n",
       "      <td>0</td>\n",
       "      <td>0.0</td>\n",
       "      <td>2.0</td>\n",
       "      <td>10.0</td>\n",
       "      <td>3.0</td>\n",
       "      <td>2.0</td>\n",
       "      <td>...</td>\n",
       "      <td>7.0</td>\n",
       "      <td>8.0</td>\n",
       "      <td>9.0</td>\n",
       "      <td>5.0</td>\n",
       "      <td>7.0</td>\n",
       "      <td>7.0</td>\n",
       "      <td>8.0</td>\n",
       "      <td>7.0</td>\n",
       "      <td>6.0</td>\n",
       "      <td>0</td>\n",
       "    </tr>\n",
       "  </tbody>\n",
       "</table>\n",
       "<p>5 rows × 93 columns</p>\n",
       "</div>"
      ],
      "text/plain": [
       "      race_m  race_w  field_cd_m  field_cd_w  undergra_m  undergra_w  \\\n",
       "57       2.0     4.0         8.0         1.0           0         0.0   \n",
       "3068     2.0     2.0         8.0         1.0           1         1.0   \n",
       "415      6.0     2.0         1.0        11.0           0         0.0   \n",
       "248      2.0     2.0         3.0         1.0           0         0.0   \n",
       "170      2.0     2.0         8.0        11.0           0         0.0   \n",
       "\n",
       "      imprace_m  imprace_w  imprelig_m  imprelig_w  ...  attr3_1_w  sinc3_1_m  \\\n",
       "57          8.0        1.0         8.0         1.0  ...        5.0        8.0   \n",
       "3068        7.0        1.0         2.0         1.0  ...        8.0        6.0   \n",
       "415         1.0       10.0         1.0        10.0  ...        6.0        7.0   \n",
       "248         3.0        2.0         3.0         4.0  ...        7.0        9.0   \n",
       "170         2.0       10.0         3.0         2.0  ...        7.0        8.0   \n",
       "\n",
       "      sinc3_1_w  fun3_1_m  fun3_1_w  intel3_1_m  intel3_1_w  amb3_1_m  \\\n",
       "57          7.0       6.0       8.0         8.0         9.0       9.0   \n",
       "3068       10.0      10.0       9.0         7.0         7.0       8.0   \n",
       "415        10.0       6.0      10.0         7.0         9.0       7.0   \n",
       "248         8.0       8.0       9.0         9.0         8.0       9.0   \n",
       "170         9.0       5.0       7.0         7.0         8.0       7.0   \n",
       "\n",
       "      amb3_1_w  dec_w  \n",
       "57         5.0      0  \n",
       "3068       5.0      1  \n",
       "415       10.0      0  \n",
       "248        8.0      0  \n",
       "170        6.0      0  \n",
       "\n",
       "[5 rows x 93 columns]"
      ]
     },
     "execution_count": 201,
     "metadata": {},
     "output_type": "execute_result"
    }
   ],
   "source": [
    "X_train_w.head()"
   ]
  },
  {
   "cell_type": "code",
   "execution_count": 203,
   "id": "0b132323",
   "metadata": {},
   "outputs": [
    {
     "name": "stdout",
     "output_type": "stream",
     "text": [
      "['zipcode_m', 'zipcode_w', 'career_c_m', 'from_c_m', 'from_c_w', 'attr1_1_m', 'attr1_1_w', 'sinc1_1_m', 'sinc1_1_w', 'intel1_1_m', 'intel1_1_w', 'fun1_1_m', 'fun1_1_w', 'amb1_1_m', 'amb1_1_w', 'shar1_1_m', 'shar1_1_w', 'attr2_1_m', 'attr2_1_w', 'sinc2_1_m', 'sinc2_1_w', 'intel2_1_m', 'intel2_1_w', 'fun2_1_m', 'fun2_1_w', 'amb2_1_m', 'amb2_1_w', 'shar2_1_m', 'shar2_1_w', 'race_m_1.0', 'race_m_2.0', 'race_m_3.0', 'race_m_4.0', 'race_m_6.0', 'race_w_1.0', 'race_w_2.0', 'race_w_3.0', 'race_w_4.0', 'race_w_6.0', 'field_cd_m_1.0', 'field_cd_m_10.0', 'field_cd_m_11.0', 'field_cd_m_12.0', 'field_cd_m_13.0', 'field_cd_m_14.0', 'field_cd_m_15.0', 'field_cd_m_16.0', 'field_cd_m_17.0', 'field_cd_m_18.0', 'field_cd_m_2.0', 'field_cd_m_3.0', 'field_cd_m_4.0', 'field_cd_m_5.0', 'field_cd_m_6.0', 'field_cd_m_7.0', 'field_cd_m_8.0', 'field_cd_m_9.0', 'field_cd_m_not_available', 'field_cd_w_1.0', 'field_cd_w_10.0', 'field_cd_w_11.0', 'field_cd_w_13.0', 'field_cd_w_14.0', 'field_cd_w_15.0', 'field_cd_w_16.0', 'field_cd_w_18.0', 'field_cd_w_2.0', 'field_cd_w_3.0', 'field_cd_w_4.0', 'field_cd_w_5.0', 'field_cd_w_6.0', 'field_cd_w_7.0', 'field_cd_w_8.0', 'field_cd_w_9.0', 'field_cd_w_not_available', 'undergra_m_1', 'undergra_w_0.0', 'undergra_w_1.0', 'undergra_w_not_available', 'imprace_m_1.0', 'imprace_m_10.0', 'imprace_m_2.0', 'imprace_m_3.0', 'imprace_m_4.0', 'imprace_m_5.0', 'imprace_m_6.0', 'imprace_m_7.0', 'imprace_m_8.0', 'imprace_m_9.0', 'imprace_w_0.0', 'imprace_w_1.0', 'imprace_w_10.0', 'imprace_w_2.0', 'imprace_w_3.0', 'imprace_w_4.0', 'imprace_w_5.0', 'imprace_w_6.0', 'imprace_w_7.0', 'imprace_w_8.0', 'imprace_w_9.0', 'imprelig_m_1.0', 'imprelig_m_10.0', 'imprelig_m_2.0', 'imprelig_m_3.0', 'imprelig_m_4.0', 'imprelig_m_5.0', 'imprelig_m_6.0', 'imprelig_m_7.0', 'imprelig_m_8.0', 'imprelig_m_9.0', 'imprelig_w_1.0', 'imprelig_w_10.0', 'imprelig_w_2.0', 'imprelig_w_3.0', 'imprelig_w_4.0', 'imprelig_w_5.0', 'imprelig_w_6.0', 'imprelig_w_7.0', 'imprelig_w_8.0', 'imprelig_w_9.0', 'goal_m_1.0', 'goal_m_2.0', 'goal_m_3.0', 'goal_m_4.0', 'goal_m_5.0', 'goal_m_6.0', 'goal_w_1.0', 'goal_w_2.0', 'goal_w_3.0', 'goal_w_4.0', 'goal_w_5.0', 'goal_w_6.0', 'date_m_1.0', 'date_m_2.0', 'date_m_3.0', 'date_m_4.0', 'date_m_5.0', 'date_m_6.0', 'date_m_7.0', 'date_m_not_available', 'date_w_1.0', 'date_w_2.0', 'date_w_3.0', 'date_w_4.0', 'date_w_5.0', 'date_w_6.0', 'date_w_7.0', 'go_out_m_1.0', 'go_out_m_2.0', 'go_out_m_3.0', 'go_out_m_4.0', 'go_out_m_5.0', 'go_out_m_6.0', 'go_out_m_7.0', 'go_out_w_1.0', 'go_out_w_2.0', 'go_out_w_3.0', 'go_out_w_4.0', 'go_out_w_5.0', 'go_out_w_6.0', 'go_out_w_7.0', 'career_c_w_1.0', 'career_c_w_10.0', 'career_c_w_11.0', 'career_c_w_12.0', 'career_c_w_13.0', 'career_c_w_15.0', 'career_c_w_16.0', 'career_c_w_2.0', 'career_c_w_3.0', 'career_c_w_4.0', 'career_c_w_5.0', 'career_c_w_6.0', 'career_c_w_7.0', 'career_c_w_9.0', 'sports_m_1.0', 'sports_m_10.0', 'sports_m_2.0', 'sports_m_3.0', 'sports_m_4.0', 'sports_m_5.0', 'sports_m_6.0', 'sports_m_7.0', 'sports_m_8.0', 'sports_m_9.0', 'sports_w_1.0', 'sports_w_10.0', 'sports_w_2.0', 'sports_w_3.0', 'sports_w_4.0', 'sports_w_5.0', 'sports_w_6.0', 'sports_w_7.0', 'sports_w_8.0', 'sports_w_9.0', 'tvsports_m_1.0', 'tvsports_m_10.0', 'tvsports_m_2.0', 'tvsports_m_3.0', 'tvsports_m_4.0', 'tvsports_m_5.0', 'tvsports_m_6.0', 'tvsports_m_7.0', 'tvsports_m_8.0', 'tvsports_m_9.0', 'tvsports_w_1.0', 'tvsports_w_10.0', 'tvsports_w_2.0', 'tvsports_w_3.0', 'tvsports_w_4.0', 'tvsports_w_5.0', 'tvsports_w_6.0', 'tvsports_w_7.0', 'tvsports_w_8.0', 'tvsports_w_9.0', 'exercise_m_1.0', 'exercise_m_10.0', 'exercise_m_2.0', 'exercise_m_3.0', 'exercise_m_4.0', 'exercise_m_5.0', 'exercise_m_6.0', 'exercise_m_7.0', 'exercise_m_8.0', 'exercise_m_9.0', 'exercise_w_1.0', 'exercise_w_10.0', 'exercise_w_2.0', 'exercise_w_3.0', 'exercise_w_4.0', 'exercise_w_5.0', 'exercise_w_6.0', 'exercise_w_7.0', 'exercise_w_8.0', 'exercise_w_9.0', 'dining_m_1.0', 'dining_m_10.0', 'dining_m_2.0', 'dining_m_3.0', 'dining_m_4.0', 'dining_m_5.0', 'dining_m_6.0', 'dining_m_7.0', 'dining_m_8.0', 'dining_m_9.0', 'dining_w_1.0', 'dining_w_10.0', 'dining_w_2.0', 'dining_w_4.0', 'dining_w_5.0', 'dining_w_6.0', 'dining_w_7.0', 'dining_w_8.0', 'dining_w_9.0', 'museums_m_1.0', 'museums_m_10.0', 'museums_m_2.0', 'museums_m_3.0', 'museums_m_4.0', 'museums_m_5.0', 'museums_m_6.0', 'museums_m_7.0', 'museums_m_8.0', 'museums_m_9.0', 'museums_w_1.0', 'museums_w_10.0', 'museums_w_2.0', 'museums_w_3.0', 'museums_w_4.0', 'museums_w_5.0', 'museums_w_6.0', 'museums_w_7.0', 'museums_w_8.0', 'museums_w_9.0', 'art_m_1.0', 'art_m_10.0', 'art_m_2.0', 'art_m_3.0', 'art_m_4.0', 'art_m_5.0', 'art_m_6.0', 'art_m_7.0', 'art_m_8.0', 'art_m_9.0', 'art_w_10.0', 'art_w_2.0', 'art_w_3.0', 'art_w_4.0', 'art_w_5.0', 'art_w_6.0', 'art_w_7.0', 'art_w_8.0', 'art_w_9.0', 'hiking_m_0.0', 'hiking_m_1.0', 'hiking_m_10.0', 'hiking_m_2.0', 'hiking_m_3.0', 'hiking_m_4.0', 'hiking_m_5.0', 'hiking_m_6.0', 'hiking_m_7.0', 'hiking_m_8.0', 'hiking_m_9.0', 'hiking_w_1.0', 'hiking_w_10.0', 'hiking_w_2.0', 'hiking_w_3.0', 'hiking_w_4.0', 'hiking_w_5.0', 'hiking_w_6.0', 'hiking_w_7.0', 'hiking_w_8.0', 'hiking_w_9.0', 'gaming_m_1.0', 'gaming_m_10.0', 'gaming_m_14.0', 'gaming_m_2.0', 'gaming_m_3.0', 'gaming_m_4.0', 'gaming_m_5.0', 'gaming_m_6.0', 'gaming_m_7.0', 'gaming_m_8.0', 'gaming_m_9.0', 'gaming_w_0.0', 'gaming_w_1.0', 'gaming_w_14.0', 'gaming_w_2.0', 'gaming_w_3.0', 'gaming_w_4.0', 'gaming_w_5.0', 'gaming_w_6.0', 'gaming_w_7.0', 'gaming_w_8.0', 'gaming_w_9.0', 'clubbing_m_1.0', 'clubbing_m_10.0', 'clubbing_m_2.0', 'clubbing_m_3.0', 'clubbing_m_4.0', 'clubbing_m_5.0', 'clubbing_m_6.0', 'clubbing_m_7.0', 'clubbing_m_8.0', 'clubbing_m_9.0', 'clubbing_w_1.0', 'clubbing_w_10.0', 'clubbing_w_2.0', 'clubbing_w_3.0', 'clubbing_w_4.0', 'clubbing_w_5.0', 'clubbing_w_6.0', 'clubbing_w_7.0', 'clubbing_w_8.0', 'clubbing_w_9.0', 'reading_m_10.0', 'reading_m_13.0', 'reading_m_2.0', 'reading_m_3.0', 'reading_m_4.0', 'reading_m_5.0', 'reading_m_6.0', 'reading_m_7.0', 'reading_m_8.0', 'reading_m_9.0', 'reading_w_10.0', 'reading_w_13.0', 'reading_w_2.0', 'reading_w_3.0', 'reading_w_4.0', 'reading_w_5.0', 'reading_w_6.0', 'reading_w_7.0', 'reading_w_8.0', 'reading_w_9.0', 'tv_m_1.0', 'tv_m_10.0', 'tv_m_2.0', 'tv_m_3.0', 'tv_m_4.0', 'tv_m_5.0', 'tv_m_6.0', 'tv_m_7.0', 'tv_m_8.0', 'tv_m_9.0', 'tv_w_1.0', 'tv_w_10.0', 'tv_w_2.0', 'tv_w_3.0', 'tv_w_4.0', 'tv_w_5.0', 'tv_w_6.0', 'tv_w_7.0', 'tv_w_8.0', 'tv_w_9.0', 'theater_m_1.0', 'theater_m_10.0', 'theater_m_2.0', 'theater_m_3.0', 'theater_m_4.0', 'theater_m_5.0', 'theater_m_6.0', 'theater_m_7.0', 'theater_m_8.0', 'theater_m_9.0', 'theater_w_1.0', 'theater_w_10.0', 'theater_w_2.0', 'theater_w_3.0', 'theater_w_4.0', 'theater_w_5.0', 'theater_w_6.0', 'theater_w_7.0', 'theater_w_8.0', 'theater_w_9.0', 'movies_m_10.0', 'movies_m_2.0', 'movies_m_3.0', 'movies_m_4.0', 'movies_m_5.0', 'movies_m_6.0', 'movies_m_7.0', 'movies_m_8.0', 'movies_m_9.0', 'movies_w_10.0', 'movies_w_2.0', 'movies_w_3.0', 'movies_w_4.0', 'movies_w_5.0', 'movies_w_6.0', 'movies_w_7.0', 'movies_w_8.0', 'movies_w_9.0', 'concerts_m_1.0', 'concerts_m_10.0', 'concerts_m_2.0', 'concerts_m_3.0', 'concerts_m_4.0', 'concerts_m_5.0', 'concerts_m_6.0', 'concerts_m_7.0', 'concerts_m_8.0', 'concerts_m_9.0', 'concerts_w_1.0', 'concerts_w_10.0', 'concerts_w_2.0', 'concerts_w_3.0', 'concerts_w_4.0', 'concerts_w_5.0', 'concerts_w_6.0', 'concerts_w_7.0', 'concerts_w_8.0', 'concerts_w_9.0', 'music_m_1.0', 'music_m_10.0', 'music_m_3.0', 'music_m_4.0', 'music_m_5.0', 'music_m_6.0', 'music_m_7.0', 'music_m_8.0', 'music_m_9.0', 'music_w_1.0', 'music_w_10.0', 'music_w_4.0', 'music_w_5.0', 'music_w_6.0', 'music_w_7.0', 'music_w_8.0', 'music_w_9.0', 'shopping_m_1.0', 'shopping_m_10.0', 'shopping_m_2.0', 'shopping_m_3.0', 'shopping_m_4.0', 'shopping_m_5.0', 'shopping_m_6.0', 'shopping_m_7.0', 'shopping_m_8.0', 'shopping_m_9.0', 'shopping_w_1.0', 'shopping_w_10.0', 'shopping_w_2.0', 'shopping_w_3.0', 'shopping_w_4.0', 'shopping_w_5.0', 'shopping_w_6.0', 'shopping_w_7.0', 'shopping_w_8.0', 'shopping_w_9.0', 'yoga_m_0.0', 'yoga_m_1.0', 'yoga_m_10.0', 'yoga_m_2.0', 'yoga_m_3.0', 'yoga_m_4.0', 'yoga_m_5.0', 'yoga_m_6.0', 'yoga_m_7.0', 'yoga_m_8.0', 'yoga_m_9.0', 'yoga_w_1.0', 'yoga_w_10.0', 'yoga_w_2.0', 'yoga_w_3.0', 'yoga_w_4.0', 'yoga_w_5.0', 'yoga_w_6.0', 'yoga_w_7.0', 'yoga_w_8.0', 'yoga_w_9.0', 'exphappy_m_1.0', 'exphappy_m_10.0', 'exphappy_m_2.0', 'exphappy_m_3.0', 'exphappy_m_4.0', 'exphappy_m_5.0', 'exphappy_m_6.0', 'exphappy_m_7.0', 'exphappy_m_8.0', 'exphappy_m_9.0', 'exphappy_w_1.0', 'exphappy_w_10.0', 'exphappy_w_2.0', 'exphappy_w_3.0', 'exphappy_w_4.0', 'exphappy_w_5.0', 'exphappy_w_6.0', 'exphappy_w_7.0', 'exphappy_w_8.0', 'exphappy_w_9.0', 'exphappy_w_not_available', 'attr3_1_m_10.0', 'attr3_1_m_3.0', 'attr3_1_m_4.0', 'attr3_1_m_5.0', 'attr3_1_m_6.0', 'attr3_1_m_7.0', 'attr3_1_m_8.0', 'attr3_1_m_9.0', 'attr3_1_w_10.0', 'attr3_1_w_2.0', 'attr3_1_w_3.0', 'attr3_1_w_4.0', 'attr3_1_w_5.0', 'attr3_1_w_6.0', 'attr3_1_w_7.0', 'attr3_1_w_8.0', 'attr3_1_w_9.0', 'sinc3_1_m_10.0', 'sinc3_1_m_2.0', 'sinc3_1_m_3.0', 'sinc3_1_m_4.0', 'sinc3_1_m_5.0', 'sinc3_1_m_6.0', 'sinc3_1_m_7.0', 'sinc3_1_m_8.0', 'sinc3_1_m_9.0', 'sinc3_1_w_10.0', 'sinc3_1_w_2.0', 'sinc3_1_w_3.0', 'sinc3_1_w_4.0', 'sinc3_1_w_5.0', 'sinc3_1_w_6.0', 'sinc3_1_w_7.0', 'sinc3_1_w_8.0', 'sinc3_1_w_9.0', 'fun3_1_m_10.0', 'fun3_1_m_2.0', 'fun3_1_m_3.0', 'fun3_1_m_4.0', 'fun3_1_m_5.0', 'fun3_1_m_6.0', 'fun3_1_m_7.0', 'fun3_1_m_8.0', 'fun3_1_m_9.0', 'fun3_1_w_10.0', 'fun3_1_w_2.0', 'fun3_1_w_3.0', 'fun3_1_w_4.0', 'fun3_1_w_5.0', 'fun3_1_w_6.0', 'fun3_1_w_7.0', 'fun3_1_w_8.0', 'fun3_1_w_9.0', 'fun3_1_w_not_available', 'intel3_1_m_10.0', 'intel3_1_m_4.0', 'intel3_1_m_5.0', 'intel3_1_m_6.0', 'intel3_1_m_7.0', 'intel3_1_m_8.0', 'intel3_1_m_9.0', 'intel3_1_m_not_available', 'intel3_1_w_10.0', 'intel3_1_w_3.0', 'intel3_1_w_5.0', 'intel3_1_w_6.0', 'intel3_1_w_7.0', 'intel3_1_w_8.0', 'intel3_1_w_9.0', 'amb3_1_m_10.0', 'amb3_1_m_2.0', 'amb3_1_m_3.0', 'amb3_1_m_4.0', 'amb3_1_m_5.0', 'amb3_1_m_6.0', 'amb3_1_m_7.0', 'amb3_1_m_8.0', 'amb3_1_m_9.0', 'amb3_1_w_10.0', 'amb3_1_w_3.0', 'amb3_1_w_4.0', 'amb3_1_w_5.0', 'amb3_1_w_6.0', 'amb3_1_w_7.0', 'amb3_1_w_8.0', 'amb3_1_w_9.0', 'dec_w', 'Label', 'Score']\n"
     ]
    }
   ],
   "source": [
    "print(pred_m.columns.tolist())"
   ]
  },
  {
   "cell_type": "code",
   "execution_count": 190,
   "id": "dff1187d",
   "metadata": {},
   "outputs": [
    {
     "data": {
      "text/plain": [
       "(3774, 93)"
      ]
     },
     "execution_count": 190,
     "metadata": {},
     "output_type": "execute_result"
    }
   ],
   "source": [
    "X_train_m.shape"
   ]
  },
  {
   "cell_type": "code",
   "execution_count": null,
   "id": "932c678e",
   "metadata": {},
   "outputs": [],
   "source": []
  }
 ],
 "metadata": {
  "kernelspec": {
   "display_name": "Python 3 (ipykernel)",
   "language": "python",
   "name": "python3"
  },
  "language_info": {
   "codemirror_mode": {
    "name": "ipython",
    "version": 3
   },
   "file_extension": ".py",
   "mimetype": "text/x-python",
   "name": "python",
   "nbconvert_exporter": "python",
   "pygments_lexer": "ipython3",
   "version": "3.9.7"
  }
 },
 "nbformat": 4,
 "nbformat_minor": 5
}
